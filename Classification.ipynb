{
 "cells": [
  {
   "cell_type": "markdown",
   "metadata": {},
   "source": [
    "# Assignment #2 - Classification\n",
    "\n"
   ]
  },
  {
   "cell_type": "markdown",
   "metadata": {},
   "source": [
    "<font color=\"blue\"> Rohan Bhosale </font>"
   ]
  },
  {
   "cell_type": "markdown",
   "metadata": {},
   "source": [
    "# I. Introduction\n",
    "\n",
    "In this assignment we will be learning about Classification and will be implementing different calssification algorithms like Pocket Algorithm, Quadratic Discriminant Analysis Algorithm, Linear Discriminant Algorithm and Logistic Regression Algorithm. We will be implementing these algorithms using libraries Numpy and matplotlib only.Implementing these algorithms and visualizing them will give us a fair idea about how these algorithms work, and how good are they with the predictions. Also we understand the difference between the working of these algorithms.We will be implementing 5 codes one for superclass and rest 4 for the Classification algorithms. superclass has multiple abstract methods which will be referenced ahead, Pocket Class, QDAclass, LDAclass and LogisticRegression class will have the actual code for these algorithms where we will calculate weights and train the model."
   ]
  },
  {
   "cell_type": "markdown",
   "metadata": {},
   "source": [
    "# II. Data\n",
    "I am using 'WeatherAUS.csv' as my data for classification this data has 142k entries and has 24 coloumns. This dataset has weather data of different parts of Australia, basically this data is used for Rainfall pridiction in those parts of Australia. This data is collected from diffrent asutralian weather stations. 24 coloumns in this data set give us enough information to predict if there will be rainfall tomorrow, which is our target vairable. It is advised by the dataset creators that we should exclude the RISK_MM coloumn data while Training a modle As we are directly giving  model the answer which inturn will reduce the efficiency of the model. the coloumns in the data set are: <br><br>\n",
    "\n",
    "<br> 1.Date: The date of observation <br>\n",
    "2.Location:  The common name of the location of the weather station<br>\n",
    "3.MinTemp:   The minimum temperature in degrees celsius<br>\n",
    "4.MaxTemp:   The maximum temperature in degrees celsius<br>\n",
    "5.Rainfall:  The amount of rainfall recorded for the day in mm<br>\n",
    "6.Evaporation: The so-called Class A pan evaporation (mm) in the 24 hours to 9am<br>\n",
    "7.Sunshine:  The number of hours of bright sunshine in the day.<br>\n",
    "8.WindGustDir: The direction of the strongest wind gust in the 24 hours to midnight<br>\n",
    "9.WindGustSpeed: The speed (km/h) of the strongest wind gust in the 24 hours to midnight<br>\n",
    "10.WindDir9am:  Direction of the wind at 9am<br>\n",
    "11.WindDir3pm:  Direction of the wind at 3pm<br>\n",
    "12.WindSpeed9am: Wind speed (km/hr) averaged over 10 minutes prior to 9am<br>\n",
    "13.WindSpeed3pm: Wind speed (km/hr) averaged over 10 minutes prior to 3pm<br>\n",
    "14.Humidity9am:  Humidity (percent) at 9am<br>\n",
    "15.Humidity3pm:  Humidity (percent) at 3pm<br>\n",
    "16.Pressure9am:  Atmospheric pressure (hpa) reduced to mean sea level at 9am<br>\n",
    "17.Pressure3pm:  Atmospheric pressure (hpa) reduced to mean sea level at 3pm<br>\n",
    "18.Cloud9am:     Fraction of sky obscured by cloud at 9am. This is measured in \"oktas\", which are a unit of eigths. It records                  how many eigths of the sky are obscured by cloud. A 0 measure indicates completely clear sky whilst an 8                        indicates that it is completely overcast.<br>\n",
    "19.Cloud3pm:     Fraction of sky obscured by cloud (in \"oktas\": eighths) at 3pm. See Cload9am for a description of the                          values<br>\n",
    "20.Temp9am:          Temperature (degrees C) at 9am<br>\n",
    "21.Temp3pm:          Temperature (degrees C) at 3pm<br>\n",
    "22.RainTodayBoolean: 1 if precipitation (mm) in the 24 hours to 9am exceeds 1mm, otherwise 0<br>\n",
    "23.RISK_MM:          The amount of next day rain in mm. Used to create response variable RainTomorrow. A kind of measure of the                      \"risk\".<br>\n",
    "24.RainTomorrow:     The target variable. Did it rain tomorrow?<br><br>\n",
    "\n",
    "From the above list of coloumns we can predict few vey important aspects that can lead to rainfall which are MinTemp, MaxTemp, Evaporation, Humidity9am, Humidity3pm, Pressure9am, pressure3pm, RISK_MM, Rainfall,RainTomorrow. These are the main values which will actually help us predict if there will be rainfall tomorrow or not."
   ]
  },
  {
   "cell_type": "markdown",
   "metadata": {},
   "source": [
    "### 1.Reading data"
   ]
  },
  {
   "cell_type": "code",
   "execution_count": 2,
   "metadata": {},
   "outputs": [],
   "source": [
    "import numpy as np\n",
    "import matplotlib.pyplot as plt\n",
    "import pandas as pd\n",
    "import seaborn as sns"
   ]
  },
  {
   "cell_type": "code",
   "execution_count": 3,
   "metadata": {},
   "outputs": [],
   "source": [
    "Cdata=pd.read_csv(\"weatherAUS.csv\")"
   ]
  },
  {
   "cell_type": "code",
   "execution_count": 4,
   "metadata": {
    "scrolled": true
   },
   "outputs": [
    {
     "data": {
      "text/html": [
       "<div>\n",
       "<style scoped>\n",
       "    .dataframe tbody tr th:only-of-type {\n",
       "        vertical-align: middle;\n",
       "    }\n",
       "\n",
       "    .dataframe tbody tr th {\n",
       "        vertical-align: top;\n",
       "    }\n",
       "\n",
       "    .dataframe thead th {\n",
       "        text-align: right;\n",
       "    }\n",
       "</style>\n",
       "<table border=\"1\" class=\"dataframe\">\n",
       "  <thead>\n",
       "    <tr style=\"text-align: right;\">\n",
       "      <th></th>\n",
       "      <th>Date</th>\n",
       "      <th>Location</th>\n",
       "      <th>MinTemp</th>\n",
       "      <th>MaxTemp</th>\n",
       "      <th>Rainfall</th>\n",
       "      <th>Evaporation</th>\n",
       "      <th>Sunshine</th>\n",
       "      <th>WindGustDir</th>\n",
       "      <th>WindGustSpeed</th>\n",
       "      <th>WindDir9am</th>\n",
       "      <th>...</th>\n",
       "      <th>Humidity3pm</th>\n",
       "      <th>Pressure9am</th>\n",
       "      <th>Pressure3pm</th>\n",
       "      <th>Cloud9am</th>\n",
       "      <th>Cloud3pm</th>\n",
       "      <th>Temp9am</th>\n",
       "      <th>Temp3pm</th>\n",
       "      <th>RainToday</th>\n",
       "      <th>RISK_MM</th>\n",
       "      <th>RainTomorrow</th>\n",
       "    </tr>\n",
       "  </thead>\n",
       "  <tbody>\n",
       "    <tr>\n",
       "      <th>0</th>\n",
       "      <td>01/12/2008</td>\n",
       "      <td>Albury</td>\n",
       "      <td>13.4</td>\n",
       "      <td>22.9</td>\n",
       "      <td>0.6</td>\n",
       "      <td>0.0</td>\n",
       "      <td>0.0</td>\n",
       "      <td>W</td>\n",
       "      <td>44</td>\n",
       "      <td>W</td>\n",
       "      <td>...</td>\n",
       "      <td>22</td>\n",
       "      <td>1007.7</td>\n",
       "      <td>1007.1</td>\n",
       "      <td>8</td>\n",
       "      <td>0</td>\n",
       "      <td>16.9</td>\n",
       "      <td>21.8</td>\n",
       "      <td>0</td>\n",
       "      <td>0.0</td>\n",
       "      <td>0</td>\n",
       "    </tr>\n",
       "    <tr>\n",
       "      <th>1</th>\n",
       "      <td>02/12/2008</td>\n",
       "      <td>Albury</td>\n",
       "      <td>7.4</td>\n",
       "      <td>25.1</td>\n",
       "      <td>0.0</td>\n",
       "      <td>0.0</td>\n",
       "      <td>0.0</td>\n",
       "      <td>WNW</td>\n",
       "      <td>44</td>\n",
       "      <td>NNW</td>\n",
       "      <td>...</td>\n",
       "      <td>25</td>\n",
       "      <td>1010.6</td>\n",
       "      <td>1007.8</td>\n",
       "      <td>0</td>\n",
       "      <td>0</td>\n",
       "      <td>17.2</td>\n",
       "      <td>24.3</td>\n",
       "      <td>0</td>\n",
       "      <td>0.0</td>\n",
       "      <td>0</td>\n",
       "    </tr>\n",
       "    <tr>\n",
       "      <th>2</th>\n",
       "      <td>03/12/2008</td>\n",
       "      <td>Albury</td>\n",
       "      <td>12.9</td>\n",
       "      <td>25.7</td>\n",
       "      <td>0.0</td>\n",
       "      <td>0.0</td>\n",
       "      <td>0.0</td>\n",
       "      <td>WSW</td>\n",
       "      <td>46</td>\n",
       "      <td>W</td>\n",
       "      <td>...</td>\n",
       "      <td>30</td>\n",
       "      <td>1007.6</td>\n",
       "      <td>1008.7</td>\n",
       "      <td>0</td>\n",
       "      <td>2</td>\n",
       "      <td>21.0</td>\n",
       "      <td>23.2</td>\n",
       "      <td>0</td>\n",
       "      <td>0.0</td>\n",
       "      <td>0</td>\n",
       "    </tr>\n",
       "    <tr>\n",
       "      <th>3</th>\n",
       "      <td>04/12/2008</td>\n",
       "      <td>Albury</td>\n",
       "      <td>9.2</td>\n",
       "      <td>28.0</td>\n",
       "      <td>0.0</td>\n",
       "      <td>0.0</td>\n",
       "      <td>0.0</td>\n",
       "      <td>NE</td>\n",
       "      <td>24</td>\n",
       "      <td>SE</td>\n",
       "      <td>...</td>\n",
       "      <td>16</td>\n",
       "      <td>1017.6</td>\n",
       "      <td>1012.8</td>\n",
       "      <td>0</td>\n",
       "      <td>0</td>\n",
       "      <td>18.1</td>\n",
       "      <td>26.5</td>\n",
       "      <td>0</td>\n",
       "      <td>1.0</td>\n",
       "      <td>0</td>\n",
       "    </tr>\n",
       "    <tr>\n",
       "      <th>4</th>\n",
       "      <td>05/12/2008</td>\n",
       "      <td>Albury</td>\n",
       "      <td>17.5</td>\n",
       "      <td>32.3</td>\n",
       "      <td>1.0</td>\n",
       "      <td>0.0</td>\n",
       "      <td>0.0</td>\n",
       "      <td>W</td>\n",
       "      <td>41</td>\n",
       "      <td>ENE</td>\n",
       "      <td>...</td>\n",
       "      <td>33</td>\n",
       "      <td>1010.8</td>\n",
       "      <td>1006.0</td>\n",
       "      <td>7</td>\n",
       "      <td>8</td>\n",
       "      <td>17.8</td>\n",
       "      <td>29.7</td>\n",
       "      <td>0</td>\n",
       "      <td>0.2</td>\n",
       "      <td>0</td>\n",
       "    </tr>\n",
       "    <tr>\n",
       "      <th>5</th>\n",
       "      <td>06/12/2008</td>\n",
       "      <td>Albury</td>\n",
       "      <td>14.6</td>\n",
       "      <td>29.7</td>\n",
       "      <td>0.2</td>\n",
       "      <td>0.0</td>\n",
       "      <td>0.0</td>\n",
       "      <td>WNW</td>\n",
       "      <td>56</td>\n",
       "      <td>W</td>\n",
       "      <td>...</td>\n",
       "      <td>23</td>\n",
       "      <td>1009.2</td>\n",
       "      <td>1005.4</td>\n",
       "      <td>0</td>\n",
       "      <td>0</td>\n",
       "      <td>20.6</td>\n",
       "      <td>28.9</td>\n",
       "      <td>0</td>\n",
       "      <td>0.0</td>\n",
       "      <td>0</td>\n",
       "    </tr>\n",
       "    <tr>\n",
       "      <th>6</th>\n",
       "      <td>07/12/2008</td>\n",
       "      <td>Albury</td>\n",
       "      <td>14.3</td>\n",
       "      <td>25.0</td>\n",
       "      <td>0.0</td>\n",
       "      <td>0.0</td>\n",
       "      <td>0.0</td>\n",
       "      <td>W</td>\n",
       "      <td>50</td>\n",
       "      <td>SW</td>\n",
       "      <td>...</td>\n",
       "      <td>19</td>\n",
       "      <td>1009.6</td>\n",
       "      <td>1008.2</td>\n",
       "      <td>1</td>\n",
       "      <td>0</td>\n",
       "      <td>18.1</td>\n",
       "      <td>24.6</td>\n",
       "      <td>0</td>\n",
       "      <td>0.0</td>\n",
       "      <td>0</td>\n",
       "    </tr>\n",
       "    <tr>\n",
       "      <th>7</th>\n",
       "      <td>08/12/2008</td>\n",
       "      <td>Albury</td>\n",
       "      <td>7.7</td>\n",
       "      <td>26.7</td>\n",
       "      <td>0.0</td>\n",
       "      <td>0.0</td>\n",
       "      <td>0.0</td>\n",
       "      <td>W</td>\n",
       "      <td>35</td>\n",
       "      <td>SSE</td>\n",
       "      <td>...</td>\n",
       "      <td>19</td>\n",
       "      <td>1013.4</td>\n",
       "      <td>1010.1</td>\n",
       "      <td>0</td>\n",
       "      <td>0</td>\n",
       "      <td>16.3</td>\n",
       "      <td>25.5</td>\n",
       "      <td>0</td>\n",
       "      <td>0.0</td>\n",
       "      <td>0</td>\n",
       "    </tr>\n",
       "    <tr>\n",
       "      <th>8</th>\n",
       "      <td>09/12/2008</td>\n",
       "      <td>Albury</td>\n",
       "      <td>9.7</td>\n",
       "      <td>31.9</td>\n",
       "      <td>0.0</td>\n",
       "      <td>0.0</td>\n",
       "      <td>0.0</td>\n",
       "      <td>NNW</td>\n",
       "      <td>80</td>\n",
       "      <td>SE</td>\n",
       "      <td>...</td>\n",
       "      <td>9</td>\n",
       "      <td>1008.9</td>\n",
       "      <td>1003.6</td>\n",
       "      <td>0</td>\n",
       "      <td>0</td>\n",
       "      <td>18.3</td>\n",
       "      <td>30.2</td>\n",
       "      <td>0</td>\n",
       "      <td>1.4</td>\n",
       "      <td>1</td>\n",
       "    </tr>\n",
       "    <tr>\n",
       "      <th>9</th>\n",
       "      <td>10/12/2008</td>\n",
       "      <td>Albury</td>\n",
       "      <td>13.1</td>\n",
       "      <td>30.1</td>\n",
       "      <td>1.4</td>\n",
       "      <td>0.0</td>\n",
       "      <td>0.0</td>\n",
       "      <td>W</td>\n",
       "      <td>28</td>\n",
       "      <td>S</td>\n",
       "      <td>...</td>\n",
       "      <td>27</td>\n",
       "      <td>1007.0</td>\n",
       "      <td>1005.7</td>\n",
       "      <td>0</td>\n",
       "      <td>0</td>\n",
       "      <td>20.1</td>\n",
       "      <td>28.2</td>\n",
       "      <td>1</td>\n",
       "      <td>0.0</td>\n",
       "      <td>0</td>\n",
       "    </tr>\n",
       "    <tr>\n",
       "      <th>10</th>\n",
       "      <td>11/12/2008</td>\n",
       "      <td>Albury</td>\n",
       "      <td>13.4</td>\n",
       "      <td>30.4</td>\n",
       "      <td>0.0</td>\n",
       "      <td>0.0</td>\n",
       "      <td>0.0</td>\n",
       "      <td>N</td>\n",
       "      <td>30</td>\n",
       "      <td>SSE</td>\n",
       "      <td>...</td>\n",
       "      <td>22</td>\n",
       "      <td>1011.8</td>\n",
       "      <td>1008.7</td>\n",
       "      <td>0</td>\n",
       "      <td>0</td>\n",
       "      <td>20.4</td>\n",
       "      <td>28.8</td>\n",
       "      <td>0</td>\n",
       "      <td>2.2</td>\n",
       "      <td>1</td>\n",
       "    </tr>\n",
       "    <tr>\n",
       "      <th>11</th>\n",
       "      <td>12/12/2008</td>\n",
       "      <td>Albury</td>\n",
       "      <td>15.9</td>\n",
       "      <td>21.7</td>\n",
       "      <td>2.2</td>\n",
       "      <td>0.0</td>\n",
       "      <td>0.0</td>\n",
       "      <td>NNE</td>\n",
       "      <td>31</td>\n",
       "      <td>NE</td>\n",
       "      <td>...</td>\n",
       "      <td>91</td>\n",
       "      <td>1010.5</td>\n",
       "      <td>1004.2</td>\n",
       "      <td>8</td>\n",
       "      <td>8</td>\n",
       "      <td>15.9</td>\n",
       "      <td>17.0</td>\n",
       "      <td>1</td>\n",
       "      <td>15.6</td>\n",
       "      <td>1</td>\n",
       "    </tr>\n",
       "    <tr>\n",
       "      <th>12</th>\n",
       "      <td>13/12/2008</td>\n",
       "      <td>Albury</td>\n",
       "      <td>15.9</td>\n",
       "      <td>18.6</td>\n",
       "      <td>15.6</td>\n",
       "      <td>0.0</td>\n",
       "      <td>0.0</td>\n",
       "      <td>W</td>\n",
       "      <td>61</td>\n",
       "      <td>NNW</td>\n",
       "      <td>...</td>\n",
       "      <td>93</td>\n",
       "      <td>994.3</td>\n",
       "      <td>993.0</td>\n",
       "      <td>8</td>\n",
       "      <td>8</td>\n",
       "      <td>17.4</td>\n",
       "      <td>15.8</td>\n",
       "      <td>1</td>\n",
       "      <td>3.6</td>\n",
       "      <td>1</td>\n",
       "    </tr>\n",
       "    <tr>\n",
       "      <th>13</th>\n",
       "      <td>14/12/2008</td>\n",
       "      <td>Albury</td>\n",
       "      <td>12.6</td>\n",
       "      <td>21.0</td>\n",
       "      <td>3.6</td>\n",
       "      <td>0.0</td>\n",
       "      <td>0.0</td>\n",
       "      <td>SW</td>\n",
       "      <td>44</td>\n",
       "      <td>W</td>\n",
       "      <td>...</td>\n",
       "      <td>43</td>\n",
       "      <td>1001.2</td>\n",
       "      <td>1001.8</td>\n",
       "      <td>0</td>\n",
       "      <td>7</td>\n",
       "      <td>15.8</td>\n",
       "      <td>19.8</td>\n",
       "      <td>1</td>\n",
       "      <td>0.0</td>\n",
       "      <td>0</td>\n",
       "    </tr>\n",
       "    <tr>\n",
       "      <th>14</th>\n",
       "      <td>16/12/2008</td>\n",
       "      <td>Albury</td>\n",
       "      <td>9.8</td>\n",
       "      <td>27.7</td>\n",
       "      <td>0.0</td>\n",
       "      <td>0.0</td>\n",
       "      <td>0.0</td>\n",
       "      <td>WNW</td>\n",
       "      <td>50</td>\n",
       "      <td>0</td>\n",
       "      <td>...</td>\n",
       "      <td>28</td>\n",
       "      <td>1013.4</td>\n",
       "      <td>1010.3</td>\n",
       "      <td>0</td>\n",
       "      <td>0</td>\n",
       "      <td>17.3</td>\n",
       "      <td>26.2</td>\n",
       "      <td>0</td>\n",
       "      <td>0.0</td>\n",
       "      <td>0</td>\n",
       "    </tr>\n",
       "    <tr>\n",
       "      <th>15</th>\n",
       "      <td>17/12/2008</td>\n",
       "      <td>Albury</td>\n",
       "      <td>14.1</td>\n",
       "      <td>20.9</td>\n",
       "      <td>0.0</td>\n",
       "      <td>0.0</td>\n",
       "      <td>0.0</td>\n",
       "      <td>ENE</td>\n",
       "      <td>22</td>\n",
       "      <td>SSW</td>\n",
       "      <td>...</td>\n",
       "      <td>82</td>\n",
       "      <td>1012.2</td>\n",
       "      <td>1010.4</td>\n",
       "      <td>8</td>\n",
       "      <td>1</td>\n",
       "      <td>17.2</td>\n",
       "      <td>18.1</td>\n",
       "      <td>0</td>\n",
       "      <td>16.8</td>\n",
       "      <td>1</td>\n",
       "    </tr>\n",
       "    <tr>\n",
       "      <th>16</th>\n",
       "      <td>18/12/2008</td>\n",
       "      <td>Albury</td>\n",
       "      <td>13.5</td>\n",
       "      <td>22.9</td>\n",
       "      <td>16.8</td>\n",
       "      <td>0.0</td>\n",
       "      <td>0.0</td>\n",
       "      <td>W</td>\n",
       "      <td>63</td>\n",
       "      <td>N</td>\n",
       "      <td>...</td>\n",
       "      <td>65</td>\n",
       "      <td>1005.8</td>\n",
       "      <td>1002.2</td>\n",
       "      <td>8</td>\n",
       "      <td>1</td>\n",
       "      <td>18.0</td>\n",
       "      <td>21.5</td>\n",
       "      <td>1</td>\n",
       "      <td>10.6</td>\n",
       "      <td>1</td>\n",
       "    </tr>\n",
       "    <tr>\n",
       "      <th>17</th>\n",
       "      <td>19/12/2008</td>\n",
       "      <td>Albury</td>\n",
       "      <td>11.2</td>\n",
       "      <td>22.5</td>\n",
       "      <td>10.6</td>\n",
       "      <td>0.0</td>\n",
       "      <td>0.0</td>\n",
       "      <td>SSE</td>\n",
       "      <td>43</td>\n",
       "      <td>WSW</td>\n",
       "      <td>...</td>\n",
       "      <td>32</td>\n",
       "      <td>1009.4</td>\n",
       "      <td>1009.7</td>\n",
       "      <td>0</td>\n",
       "      <td>2</td>\n",
       "      <td>15.5</td>\n",
       "      <td>21.0</td>\n",
       "      <td>1</td>\n",
       "      <td>0.0</td>\n",
       "      <td>0</td>\n",
       "    </tr>\n",
       "    <tr>\n",
       "      <th>18</th>\n",
       "      <td>20/12/2008</td>\n",
       "      <td>Albury</td>\n",
       "      <td>9.8</td>\n",
       "      <td>25.6</td>\n",
       "      <td>0.0</td>\n",
       "      <td>0.0</td>\n",
       "      <td>0.0</td>\n",
       "      <td>SSE</td>\n",
       "      <td>26</td>\n",
       "      <td>SE</td>\n",
       "      <td>...</td>\n",
       "      <td>26</td>\n",
       "      <td>1019.2</td>\n",
       "      <td>1017.1</td>\n",
       "      <td>0</td>\n",
       "      <td>0</td>\n",
       "      <td>15.8</td>\n",
       "      <td>23.2</td>\n",
       "      <td>0</td>\n",
       "      <td>0.0</td>\n",
       "      <td>0</td>\n",
       "    </tr>\n",
       "    <tr>\n",
       "      <th>19</th>\n",
       "      <td>21/12/2008</td>\n",
       "      <td>Albury</td>\n",
       "      <td>11.5</td>\n",
       "      <td>29.3</td>\n",
       "      <td>0.0</td>\n",
       "      <td>0.0</td>\n",
       "      <td>0.0</td>\n",
       "      <td>S</td>\n",
       "      <td>24</td>\n",
       "      <td>SE</td>\n",
       "      <td>...</td>\n",
       "      <td>28</td>\n",
       "      <td>1019.3</td>\n",
       "      <td>1014.8</td>\n",
       "      <td>0</td>\n",
       "      <td>0</td>\n",
       "      <td>19.1</td>\n",
       "      <td>27.3</td>\n",
       "      <td>0</td>\n",
       "      <td>0.0</td>\n",
       "      <td>0</td>\n",
       "    </tr>\n",
       "    <tr>\n",
       "      <th>20</th>\n",
       "      <td>22/12/2008</td>\n",
       "      <td>Albury</td>\n",
       "      <td>17.1</td>\n",
       "      <td>33.0</td>\n",
       "      <td>0.0</td>\n",
       "      <td>0.0</td>\n",
       "      <td>0.0</td>\n",
       "      <td>NE</td>\n",
       "      <td>43</td>\n",
       "      <td>NE</td>\n",
       "      <td>...</td>\n",
       "      <td>28</td>\n",
       "      <td>1013.6</td>\n",
       "      <td>1008.1</td>\n",
       "      <td>0</td>\n",
       "      <td>1</td>\n",
       "      <td>24.5</td>\n",
       "      <td>31.6</td>\n",
       "      <td>0</td>\n",
       "      <td>0.0</td>\n",
       "      <td>0</td>\n",
       "    </tr>\n",
       "    <tr>\n",
       "      <th>21</th>\n",
       "      <td>23/12/2008</td>\n",
       "      <td>Albury</td>\n",
       "      <td>20.5</td>\n",
       "      <td>31.8</td>\n",
       "      <td>0.0</td>\n",
       "      <td>0.0</td>\n",
       "      <td>0.0</td>\n",
       "      <td>WNW</td>\n",
       "      <td>41</td>\n",
       "      <td>W</td>\n",
       "      <td>...</td>\n",
       "      <td>24</td>\n",
       "      <td>1007.8</td>\n",
       "      <td>1005.7</td>\n",
       "      <td>0</td>\n",
       "      <td>0</td>\n",
       "      <td>23.8</td>\n",
       "      <td>30.8</td>\n",
       "      <td>0</td>\n",
       "      <td>0.0</td>\n",
       "      <td>0</td>\n",
       "    </tr>\n",
       "    <tr>\n",
       "      <th>22</th>\n",
       "      <td>24/12/2008</td>\n",
       "      <td>Albury</td>\n",
       "      <td>15.3</td>\n",
       "      <td>30.9</td>\n",
       "      <td>0.0</td>\n",
       "      <td>0.0</td>\n",
       "      <td>0.0</td>\n",
       "      <td>N</td>\n",
       "      <td>33</td>\n",
       "      <td>ESE</td>\n",
       "      <td>...</td>\n",
       "      <td>23</td>\n",
       "      <td>1011.0</td>\n",
       "      <td>1008.2</td>\n",
       "      <td>5</td>\n",
       "      <td>0</td>\n",
       "      <td>20.9</td>\n",
       "      <td>29.0</td>\n",
       "      <td>0</td>\n",
       "      <td>0.0</td>\n",
       "      <td>0</td>\n",
       "    </tr>\n",
       "    <tr>\n",
       "      <th>23</th>\n",
       "      <td>25/12/2008</td>\n",
       "      <td>Albury</td>\n",
       "      <td>12.6</td>\n",
       "      <td>32.4</td>\n",
       "      <td>0.0</td>\n",
       "      <td>0.0</td>\n",
       "      <td>0.0</td>\n",
       "      <td>W</td>\n",
       "      <td>43</td>\n",
       "      <td>E</td>\n",
       "      <td>...</td>\n",
       "      <td>17</td>\n",
       "      <td>1012.9</td>\n",
       "      <td>1010.1</td>\n",
       "      <td>0</td>\n",
       "      <td>0</td>\n",
       "      <td>21.5</td>\n",
       "      <td>31.2</td>\n",
       "      <td>0</td>\n",
       "      <td>0.0</td>\n",
       "      <td>0</td>\n",
       "    </tr>\n",
       "    <tr>\n",
       "      <th>24</th>\n",
       "      <td>26/12/2008</td>\n",
       "      <td>Albury</td>\n",
       "      <td>16.2</td>\n",
       "      <td>33.9</td>\n",
       "      <td>0.0</td>\n",
       "      <td>0.0</td>\n",
       "      <td>0.0</td>\n",
       "      <td>WSW</td>\n",
       "      <td>35</td>\n",
       "      <td>SE</td>\n",
       "      <td>...</td>\n",
       "      <td>19</td>\n",
       "      <td>1010.9</td>\n",
       "      <td>1007.6</td>\n",
       "      <td>0</td>\n",
       "      <td>1</td>\n",
       "      <td>23.2</td>\n",
       "      <td>33.0</td>\n",
       "      <td>0</td>\n",
       "      <td>0.0</td>\n",
       "      <td>0</td>\n",
       "    </tr>\n",
       "    <tr>\n",
       "      <th>25</th>\n",
       "      <td>27/12/2008</td>\n",
       "      <td>Albury</td>\n",
       "      <td>16.9</td>\n",
       "      <td>33.0</td>\n",
       "      <td>0.0</td>\n",
       "      <td>0.0</td>\n",
       "      <td>0.0</td>\n",
       "      <td>WSW</td>\n",
       "      <td>57</td>\n",
       "      <td>0</td>\n",
       "      <td>...</td>\n",
       "      <td>28</td>\n",
       "      <td>1006.8</td>\n",
       "      <td>1003.6</td>\n",
       "      <td>0</td>\n",
       "      <td>1</td>\n",
       "      <td>26.6</td>\n",
       "      <td>31.2</td>\n",
       "      <td>0</td>\n",
       "      <td>0.0</td>\n",
       "      <td>0</td>\n",
       "    </tr>\n",
       "    <tr>\n",
       "      <th>26</th>\n",
       "      <td>28/12/2008</td>\n",
       "      <td>Albury</td>\n",
       "      <td>20.1</td>\n",
       "      <td>32.7</td>\n",
       "      <td>0.0</td>\n",
       "      <td>0.0</td>\n",
       "      <td>0.0</td>\n",
       "      <td>WNW</td>\n",
       "      <td>48</td>\n",
       "      <td>N</td>\n",
       "      <td>...</td>\n",
       "      <td>15</td>\n",
       "      <td>1005.2</td>\n",
       "      <td>1001.7</td>\n",
       "      <td>0</td>\n",
       "      <td>0</td>\n",
       "      <td>24.6</td>\n",
       "      <td>32.1</td>\n",
       "      <td>0</td>\n",
       "      <td>0.0</td>\n",
       "      <td>0</td>\n",
       "    </tr>\n",
       "    <tr>\n",
       "      <th>27</th>\n",
       "      <td>29/12/2008</td>\n",
       "      <td>Albury</td>\n",
       "      <td>19.7</td>\n",
       "      <td>27.2</td>\n",
       "      <td>0.0</td>\n",
       "      <td>0.0</td>\n",
       "      <td>0.0</td>\n",
       "      <td>WNW</td>\n",
       "      <td>46</td>\n",
       "      <td>NW</td>\n",
       "      <td>...</td>\n",
       "      <td>22</td>\n",
       "      <td>1004.8</td>\n",
       "      <td>1004.2</td>\n",
       "      <td>0</td>\n",
       "      <td>0</td>\n",
       "      <td>21.6</td>\n",
       "      <td>26.1</td>\n",
       "      <td>0</td>\n",
       "      <td>1.2</td>\n",
       "      <td>1</td>\n",
       "    </tr>\n",
       "    <tr>\n",
       "      <th>28</th>\n",
       "      <td>30/12/2008</td>\n",
       "      <td>Albury</td>\n",
       "      <td>12.5</td>\n",
       "      <td>24.2</td>\n",
       "      <td>1.2</td>\n",
       "      <td>0.0</td>\n",
       "      <td>0.0</td>\n",
       "      <td>WNW</td>\n",
       "      <td>50</td>\n",
       "      <td>WSW</td>\n",
       "      <td>...</td>\n",
       "      <td>70</td>\n",
       "      <td>1005.6</td>\n",
       "      <td>1003.4</td>\n",
       "      <td>8</td>\n",
       "      <td>8</td>\n",
       "      <td>12.5</td>\n",
       "      <td>18.2</td>\n",
       "      <td>1</td>\n",
       "      <td>0.8</td>\n",
       "      <td>0</td>\n",
       "    </tr>\n",
       "    <tr>\n",
       "      <th>29</th>\n",
       "      <td>31/12/2008</td>\n",
       "      <td>Albury</td>\n",
       "      <td>12.0</td>\n",
       "      <td>24.4</td>\n",
       "      <td>0.8</td>\n",
       "      <td>0.0</td>\n",
       "      <td>0.0</td>\n",
       "      <td>W</td>\n",
       "      <td>39</td>\n",
       "      <td>WNW</td>\n",
       "      <td>...</td>\n",
       "      <td>28</td>\n",
       "      <td>1006.1</td>\n",
       "      <td>1005.1</td>\n",
       "      <td>1</td>\n",
       "      <td>0</td>\n",
       "      <td>16.9</td>\n",
       "      <td>22.7</td>\n",
       "      <td>0</td>\n",
       "      <td>0.0</td>\n",
       "      <td>0</td>\n",
       "    </tr>\n",
       "    <tr>\n",
       "      <th>...</th>\n",
       "      <td>...</td>\n",
       "      <td>...</td>\n",
       "      <td>...</td>\n",
       "      <td>...</td>\n",
       "      <td>...</td>\n",
       "      <td>...</td>\n",
       "      <td>...</td>\n",
       "      <td>...</td>\n",
       "      <td>...</td>\n",
       "      <td>...</td>\n",
       "      <td>...</td>\n",
       "      <td>...</td>\n",
       "      <td>...</td>\n",
       "      <td>...</td>\n",
       "      <td>...</td>\n",
       "      <td>...</td>\n",
       "      <td>...</td>\n",
       "      <td>...</td>\n",
       "      <td>...</td>\n",
       "      <td>...</td>\n",
       "      <td>...</td>\n",
       "    </tr>\n",
       "    <tr>\n",
       "      <th>142163</th>\n",
       "      <td>26/05/2017</td>\n",
       "      <td>Uluru</td>\n",
       "      <td>14.3</td>\n",
       "      <td>27.6</td>\n",
       "      <td>0.4</td>\n",
       "      <td>0.0</td>\n",
       "      <td>0.0</td>\n",
       "      <td>WNW</td>\n",
       "      <td>39</td>\n",
       "      <td>0</td>\n",
       "      <td>...</td>\n",
       "      <td>27</td>\n",
       "      <td>1020.5</td>\n",
       "      <td>1016.1</td>\n",
       "      <td>4</td>\n",
       "      <td>7</td>\n",
       "      <td>16.1</td>\n",
       "      <td>27.2</td>\n",
       "      <td>0</td>\n",
       "      <td>0.0</td>\n",
       "      <td>0</td>\n",
       "    </tr>\n",
       "    <tr>\n",
       "      <th>142164</th>\n",
       "      <td>27/05/2017</td>\n",
       "      <td>Uluru</td>\n",
       "      <td>9.3</td>\n",
       "      <td>28.0</td>\n",
       "      <td>0.0</td>\n",
       "      <td>0.0</td>\n",
       "      <td>0.0</td>\n",
       "      <td>W</td>\n",
       "      <td>28</td>\n",
       "      <td>SSW</td>\n",
       "      <td>...</td>\n",
       "      <td>16</td>\n",
       "      <td>1019.9</td>\n",
       "      <td>1016.9</td>\n",
       "      <td>0</td>\n",
       "      <td>0</td>\n",
       "      <td>16.6</td>\n",
       "      <td>27.3</td>\n",
       "      <td>0</td>\n",
       "      <td>0.0</td>\n",
       "      <td>0</td>\n",
       "    </tr>\n",
       "    <tr>\n",
       "      <th>142165</th>\n",
       "      <td>28/05/2017</td>\n",
       "      <td>Uluru</td>\n",
       "      <td>8.0</td>\n",
       "      <td>24.6</td>\n",
       "      <td>0.0</td>\n",
       "      <td>0.0</td>\n",
       "      <td>0.0</td>\n",
       "      <td>E</td>\n",
       "      <td>33</td>\n",
       "      <td>SE</td>\n",
       "      <td>...</td>\n",
       "      <td>25</td>\n",
       "      <td>1021.7</td>\n",
       "      <td>1018.8</td>\n",
       "      <td>4</td>\n",
       "      <td>0</td>\n",
       "      <td>13.8</td>\n",
       "      <td>23.5</td>\n",
       "      <td>0</td>\n",
       "      <td>0.0</td>\n",
       "      <td>0</td>\n",
       "    </tr>\n",
       "    <tr>\n",
       "      <th>142166</th>\n",
       "      <td>29/05/2017</td>\n",
       "      <td>Uluru</td>\n",
       "      <td>12.7</td>\n",
       "      <td>22.2</td>\n",
       "      <td>0.0</td>\n",
       "      <td>0.0</td>\n",
       "      <td>0.0</td>\n",
       "      <td>E</td>\n",
       "      <td>37</td>\n",
       "      <td>E</td>\n",
       "      <td>...</td>\n",
       "      <td>34</td>\n",
       "      <td>1024.3</td>\n",
       "      <td>1021.7</td>\n",
       "      <td>8</td>\n",
       "      <td>8</td>\n",
       "      <td>13.9</td>\n",
       "      <td>21.0</td>\n",
       "      <td>0</td>\n",
       "      <td>0.0</td>\n",
       "      <td>0</td>\n",
       "    </tr>\n",
       "    <tr>\n",
       "      <th>142167</th>\n",
       "      <td>30/05/2017</td>\n",
       "      <td>Uluru</td>\n",
       "      <td>9.4</td>\n",
       "      <td>22.7</td>\n",
       "      <td>0.0</td>\n",
       "      <td>0.0</td>\n",
       "      <td>0.0</td>\n",
       "      <td>E</td>\n",
       "      <td>35</td>\n",
       "      <td>SE</td>\n",
       "      <td>...</td>\n",
       "      <td>32</td>\n",
       "      <td>1026.6</td>\n",
       "      <td>1023.6</td>\n",
       "      <td>8</td>\n",
       "      <td>4</td>\n",
       "      <td>11.8</td>\n",
       "      <td>22.3</td>\n",
       "      <td>0</td>\n",
       "      <td>0.0</td>\n",
       "      <td>0</td>\n",
       "    </tr>\n",
       "    <tr>\n",
       "      <th>142168</th>\n",
       "      <td>31/05/2017</td>\n",
       "      <td>Uluru</td>\n",
       "      <td>5.4</td>\n",
       "      <td>20.5</td>\n",
       "      <td>0.0</td>\n",
       "      <td>0.0</td>\n",
       "      <td>0.0</td>\n",
       "      <td>E</td>\n",
       "      <td>46</td>\n",
       "      <td>E</td>\n",
       "      <td>...</td>\n",
       "      <td>32</td>\n",
       "      <td>1029.2</td>\n",
       "      <td>1025.3</td>\n",
       "      <td>0</td>\n",
       "      <td>0</td>\n",
       "      <td>11.1</td>\n",
       "      <td>20.2</td>\n",
       "      <td>0</td>\n",
       "      <td>0.0</td>\n",
       "      <td>0</td>\n",
       "    </tr>\n",
       "    <tr>\n",
       "      <th>142169</th>\n",
       "      <td>01/06/2017</td>\n",
       "      <td>Uluru</td>\n",
       "      <td>5.6</td>\n",
       "      <td>19.4</td>\n",
       "      <td>0.0</td>\n",
       "      <td>0.0</td>\n",
       "      <td>0.0</td>\n",
       "      <td>E</td>\n",
       "      <td>43</td>\n",
       "      <td>E</td>\n",
       "      <td>...</td>\n",
       "      <td>22</td>\n",
       "      <td>1029.6</td>\n",
       "      <td>1027.1</td>\n",
       "      <td>0</td>\n",
       "      <td>0</td>\n",
       "      <td>9.7</td>\n",
       "      <td>18.3</td>\n",
       "      <td>0</td>\n",
       "      <td>0.0</td>\n",
       "      <td>0</td>\n",
       "    </tr>\n",
       "    <tr>\n",
       "      <th>142170</th>\n",
       "      <td>02/06/2017</td>\n",
       "      <td>Uluru</td>\n",
       "      <td>1.5</td>\n",
       "      <td>19.2</td>\n",
       "      <td>0.0</td>\n",
       "      <td>0.0</td>\n",
       "      <td>0.0</td>\n",
       "      <td>E</td>\n",
       "      <td>37</td>\n",
       "      <td>ESE</td>\n",
       "      <td>...</td>\n",
       "      <td>18</td>\n",
       "      <td>1030.7</td>\n",
       "      <td>1026.7</td>\n",
       "      <td>0</td>\n",
       "      <td>0</td>\n",
       "      <td>6.8</td>\n",
       "      <td>17.6</td>\n",
       "      <td>0</td>\n",
       "      <td>0.0</td>\n",
       "      <td>0</td>\n",
       "    </tr>\n",
       "    <tr>\n",
       "      <th>142171</th>\n",
       "      <td>03/06/2017</td>\n",
       "      <td>Uluru</td>\n",
       "      <td>3.8</td>\n",
       "      <td>19.8</td>\n",
       "      <td>0.0</td>\n",
       "      <td>0.0</td>\n",
       "      <td>0.0</td>\n",
       "      <td>ENE</td>\n",
       "      <td>39</td>\n",
       "      <td>ESE</td>\n",
       "      <td>...</td>\n",
       "      <td>22</td>\n",
       "      <td>1028.7</td>\n",
       "      <td>1024.1</td>\n",
       "      <td>0</td>\n",
       "      <td>0</td>\n",
       "      <td>8.6</td>\n",
       "      <td>18.9</td>\n",
       "      <td>0</td>\n",
       "      <td>0.0</td>\n",
       "      <td>0</td>\n",
       "    </tr>\n",
       "    <tr>\n",
       "      <th>142172</th>\n",
       "      <td>04/06/2017</td>\n",
       "      <td>Uluru</td>\n",
       "      <td>4.5</td>\n",
       "      <td>18.8</td>\n",
       "      <td>0.0</td>\n",
       "      <td>0.0</td>\n",
       "      <td>0.0</td>\n",
       "      <td>E</td>\n",
       "      <td>31</td>\n",
       "      <td>ESE</td>\n",
       "      <td>...</td>\n",
       "      <td>26</td>\n",
       "      <td>1026.9</td>\n",
       "      <td>1022.4</td>\n",
       "      <td>0</td>\n",
       "      <td>0</td>\n",
       "      <td>9.5</td>\n",
       "      <td>18.6</td>\n",
       "      <td>0</td>\n",
       "      <td>0.0</td>\n",
       "      <td>0</td>\n",
       "    </tr>\n",
       "    <tr>\n",
       "      <th>142173</th>\n",
       "      <td>05/06/2017</td>\n",
       "      <td>Uluru</td>\n",
       "      <td>4.9</td>\n",
       "      <td>20.7</td>\n",
       "      <td>0.0</td>\n",
       "      <td>0.0</td>\n",
       "      <td>0.0</td>\n",
       "      <td>E</td>\n",
       "      <td>37</td>\n",
       "      <td>ESE</td>\n",
       "      <td>...</td>\n",
       "      <td>11</td>\n",
       "      <td>1027.1</td>\n",
       "      <td>1023.9</td>\n",
       "      <td>0</td>\n",
       "      <td>0</td>\n",
       "      <td>10.3</td>\n",
       "      <td>19.8</td>\n",
       "      <td>0</td>\n",
       "      <td>0.0</td>\n",
       "      <td>0</td>\n",
       "    </tr>\n",
       "    <tr>\n",
       "      <th>142174</th>\n",
       "      <td>06/06/2017</td>\n",
       "      <td>Uluru</td>\n",
       "      <td>1.2</td>\n",
       "      <td>20.8</td>\n",
       "      <td>0.0</td>\n",
       "      <td>0.0</td>\n",
       "      <td>0.0</td>\n",
       "      <td>E</td>\n",
       "      <td>43</td>\n",
       "      <td>ESE</td>\n",
       "      <td>...</td>\n",
       "      <td>6</td>\n",
       "      <td>1029.8</td>\n",
       "      <td>1025.9</td>\n",
       "      <td>0</td>\n",
       "      <td>0</td>\n",
       "      <td>7.9</td>\n",
       "      <td>19.9</td>\n",
       "      <td>0</td>\n",
       "      <td>0.0</td>\n",
       "      <td>0</td>\n",
       "    </tr>\n",
       "    <tr>\n",
       "      <th>142175</th>\n",
       "      <td>07/06/2017</td>\n",
       "      <td>Uluru</td>\n",
       "      <td>0.5</td>\n",
       "      <td>21.7</td>\n",
       "      <td>0.0</td>\n",
       "      <td>0.0</td>\n",
       "      <td>0.0</td>\n",
       "      <td>E</td>\n",
       "      <td>43</td>\n",
       "      <td>ESE</td>\n",
       "      <td>...</td>\n",
       "      <td>19</td>\n",
       "      <td>1029.0</td>\n",
       "      <td>1025.0</td>\n",
       "      <td>0</td>\n",
       "      <td>0</td>\n",
       "      <td>9.5</td>\n",
       "      <td>20.5</td>\n",
       "      <td>0</td>\n",
       "      <td>0.0</td>\n",
       "      <td>0</td>\n",
       "    </tr>\n",
       "    <tr>\n",
       "      <th>142176</th>\n",
       "      <td>08/06/2017</td>\n",
       "      <td>Uluru</td>\n",
       "      <td>4.0</td>\n",
       "      <td>20.0</td>\n",
       "      <td>0.0</td>\n",
       "      <td>0.0</td>\n",
       "      <td>0.0</td>\n",
       "      <td>SE</td>\n",
       "      <td>39</td>\n",
       "      <td>ESE</td>\n",
       "      <td>...</td>\n",
       "      <td>26</td>\n",
       "      <td>1030.2</td>\n",
       "      <td>1026.7</td>\n",
       "      <td>0</td>\n",
       "      <td>0</td>\n",
       "      <td>9.1</td>\n",
       "      <td>19.0</td>\n",
       "      <td>0</td>\n",
       "      <td>0.0</td>\n",
       "      <td>0</td>\n",
       "    </tr>\n",
       "    <tr>\n",
       "      <th>142177</th>\n",
       "      <td>09/06/2017</td>\n",
       "      <td>Uluru</td>\n",
       "      <td>3.4</td>\n",
       "      <td>19.8</td>\n",
       "      <td>0.0</td>\n",
       "      <td>0.0</td>\n",
       "      <td>0.0</td>\n",
       "      <td>E</td>\n",
       "      <td>43</td>\n",
       "      <td>ESE</td>\n",
       "      <td>...</td>\n",
       "      <td>23</td>\n",
       "      <td>1031.8</td>\n",
       "      <td>1027.7</td>\n",
       "      <td>0</td>\n",
       "      <td>0</td>\n",
       "      <td>8.7</td>\n",
       "      <td>18.9</td>\n",
       "      <td>0</td>\n",
       "      <td>0.0</td>\n",
       "      <td>0</td>\n",
       "    </tr>\n",
       "    <tr>\n",
       "      <th>142178</th>\n",
       "      <td>10/06/2017</td>\n",
       "      <td>Uluru</td>\n",
       "      <td>3.2</td>\n",
       "      <td>18.6</td>\n",
       "      <td>0.0</td>\n",
       "      <td>0.0</td>\n",
       "      <td>0.0</td>\n",
       "      <td>E</td>\n",
       "      <td>46</td>\n",
       "      <td>ESE</td>\n",
       "      <td>...</td>\n",
       "      <td>29</td>\n",
       "      <td>1031.0</td>\n",
       "      <td>1027.2</td>\n",
       "      <td>0</td>\n",
       "      <td>0</td>\n",
       "      <td>8.2</td>\n",
       "      <td>17.4</td>\n",
       "      <td>0</td>\n",
       "      <td>0.0</td>\n",
       "      <td>0</td>\n",
       "    </tr>\n",
       "    <tr>\n",
       "      <th>142179</th>\n",
       "      <td>11/06/2017</td>\n",
       "      <td>Uluru</td>\n",
       "      <td>2.4</td>\n",
       "      <td>19.1</td>\n",
       "      <td>0.0</td>\n",
       "      <td>0.0</td>\n",
       "      <td>0.0</td>\n",
       "      <td>E</td>\n",
       "      <td>33</td>\n",
       "      <td>SE</td>\n",
       "      <td>...</td>\n",
       "      <td>24</td>\n",
       "      <td>1030.0</td>\n",
       "      <td>1026.2</td>\n",
       "      <td>0</td>\n",
       "      <td>0</td>\n",
       "      <td>8.0</td>\n",
       "      <td>18.8</td>\n",
       "      <td>0</td>\n",
       "      <td>0.0</td>\n",
       "      <td>0</td>\n",
       "    </tr>\n",
       "    <tr>\n",
       "      <th>142180</th>\n",
       "      <td>12/06/2017</td>\n",
       "      <td>Uluru</td>\n",
       "      <td>5.1</td>\n",
       "      <td>19.7</td>\n",
       "      <td>0.0</td>\n",
       "      <td>0.0</td>\n",
       "      <td>0.0</td>\n",
       "      <td>E</td>\n",
       "      <td>46</td>\n",
       "      <td>ESE</td>\n",
       "      <td>...</td>\n",
       "      <td>29</td>\n",
       "      <td>1028.5</td>\n",
       "      <td>1025.8</td>\n",
       "      <td>0</td>\n",
       "      <td>0</td>\n",
       "      <td>8.5</td>\n",
       "      <td>19.2</td>\n",
       "      <td>0</td>\n",
       "      <td>0.0</td>\n",
       "      <td>0</td>\n",
       "    </tr>\n",
       "    <tr>\n",
       "      <th>142181</th>\n",
       "      <td>13/06/2017</td>\n",
       "      <td>Uluru</td>\n",
       "      <td>2.5</td>\n",
       "      <td>21.2</td>\n",
       "      <td>0.0</td>\n",
       "      <td>0.0</td>\n",
       "      <td>0.0</td>\n",
       "      <td>ENE</td>\n",
       "      <td>35</td>\n",
       "      <td>ESE</td>\n",
       "      <td>...</td>\n",
       "      <td>32</td>\n",
       "      <td>1027.2</td>\n",
       "      <td>1023.0</td>\n",
       "      <td>0</td>\n",
       "      <td>0</td>\n",
       "      <td>10.3</td>\n",
       "      <td>20.3</td>\n",
       "      <td>0</td>\n",
       "      <td>0.0</td>\n",
       "      <td>0</td>\n",
       "    </tr>\n",
       "    <tr>\n",
       "      <th>142182</th>\n",
       "      <td>14/06/2017</td>\n",
       "      <td>Uluru</td>\n",
       "      <td>2.3</td>\n",
       "      <td>21.4</td>\n",
       "      <td>0.0</td>\n",
       "      <td>0.0</td>\n",
       "      <td>0.0</td>\n",
       "      <td>SE</td>\n",
       "      <td>22</td>\n",
       "      <td>SE</td>\n",
       "      <td>...</td>\n",
       "      <td>28</td>\n",
       "      <td>1026.9</td>\n",
       "      <td>1022.8</td>\n",
       "      <td>0</td>\n",
       "      <td>0</td>\n",
       "      <td>8.9</td>\n",
       "      <td>20.3</td>\n",
       "      <td>0</td>\n",
       "      <td>0.0</td>\n",
       "      <td>0</td>\n",
       "    </tr>\n",
       "    <tr>\n",
       "      <th>142183</th>\n",
       "      <td>15/06/2017</td>\n",
       "      <td>Uluru</td>\n",
       "      <td>2.6</td>\n",
       "      <td>22.5</td>\n",
       "      <td>0.0</td>\n",
       "      <td>0.0</td>\n",
       "      <td>0.0</td>\n",
       "      <td>S</td>\n",
       "      <td>19</td>\n",
       "      <td>S</td>\n",
       "      <td>...</td>\n",
       "      <td>24</td>\n",
       "      <td>1025.0</td>\n",
       "      <td>1021.4</td>\n",
       "      <td>0</td>\n",
       "      <td>0</td>\n",
       "      <td>8.8</td>\n",
       "      <td>22.1</td>\n",
       "      <td>0</td>\n",
       "      <td>0.0</td>\n",
       "      <td>0</td>\n",
       "    </tr>\n",
       "    <tr>\n",
       "      <th>142184</th>\n",
       "      <td>16/06/2017</td>\n",
       "      <td>Uluru</td>\n",
       "      <td>5.2</td>\n",
       "      <td>24.3</td>\n",
       "      <td>0.0</td>\n",
       "      <td>0.0</td>\n",
       "      <td>0.0</td>\n",
       "      <td>E</td>\n",
       "      <td>24</td>\n",
       "      <td>SE</td>\n",
       "      <td>...</td>\n",
       "      <td>24</td>\n",
       "      <td>1023.8</td>\n",
       "      <td>1020.0</td>\n",
       "      <td>0</td>\n",
       "      <td>0</td>\n",
       "      <td>12.3</td>\n",
       "      <td>23.3</td>\n",
       "      <td>0</td>\n",
       "      <td>0.0</td>\n",
       "      <td>0</td>\n",
       "    </tr>\n",
       "    <tr>\n",
       "      <th>142185</th>\n",
       "      <td>17/06/2017</td>\n",
       "      <td>Uluru</td>\n",
       "      <td>6.4</td>\n",
       "      <td>23.4</td>\n",
       "      <td>0.0</td>\n",
       "      <td>0.0</td>\n",
       "      <td>0.0</td>\n",
       "      <td>ESE</td>\n",
       "      <td>31</td>\n",
       "      <td>S</td>\n",
       "      <td>...</td>\n",
       "      <td>25</td>\n",
       "      <td>1025.8</td>\n",
       "      <td>1023.0</td>\n",
       "      <td>0</td>\n",
       "      <td>0</td>\n",
       "      <td>11.2</td>\n",
       "      <td>23.1</td>\n",
       "      <td>0</td>\n",
       "      <td>0.0</td>\n",
       "      <td>0</td>\n",
       "    </tr>\n",
       "    <tr>\n",
       "      <th>142186</th>\n",
       "      <td>18/06/2017</td>\n",
       "      <td>Uluru</td>\n",
       "      <td>8.0</td>\n",
       "      <td>20.7</td>\n",
       "      <td>0.0</td>\n",
       "      <td>0.0</td>\n",
       "      <td>0.0</td>\n",
       "      <td>ESE</td>\n",
       "      <td>41</td>\n",
       "      <td>SE</td>\n",
       "      <td>...</td>\n",
       "      <td>32</td>\n",
       "      <td>1028.1</td>\n",
       "      <td>1024.3</td>\n",
       "      <td>0</td>\n",
       "      <td>7</td>\n",
       "      <td>11.6</td>\n",
       "      <td>20.0</td>\n",
       "      <td>0</td>\n",
       "      <td>0.0</td>\n",
       "      <td>0</td>\n",
       "    </tr>\n",
       "    <tr>\n",
       "      <th>142187</th>\n",
       "      <td>19/06/2017</td>\n",
       "      <td>Uluru</td>\n",
       "      <td>7.4</td>\n",
       "      <td>20.6</td>\n",
       "      <td>0.0</td>\n",
       "      <td>0.0</td>\n",
       "      <td>0.0</td>\n",
       "      <td>E</td>\n",
       "      <td>35</td>\n",
       "      <td>ESE</td>\n",
       "      <td>...</td>\n",
       "      <td>33</td>\n",
       "      <td>1027.2</td>\n",
       "      <td>1023.3</td>\n",
       "      <td>0</td>\n",
       "      <td>0</td>\n",
       "      <td>11.0</td>\n",
       "      <td>20.3</td>\n",
       "      <td>0</td>\n",
       "      <td>0.0</td>\n",
       "      <td>0</td>\n",
       "    </tr>\n",
       "    <tr>\n",
       "      <th>142188</th>\n",
       "      <td>20/06/2017</td>\n",
       "      <td>Uluru</td>\n",
       "      <td>3.5</td>\n",
       "      <td>21.8</td>\n",
       "      <td>0.0</td>\n",
       "      <td>0.0</td>\n",
       "      <td>0.0</td>\n",
       "      <td>E</td>\n",
       "      <td>31</td>\n",
       "      <td>ESE</td>\n",
       "      <td>...</td>\n",
       "      <td>27</td>\n",
       "      <td>1024.7</td>\n",
       "      <td>1021.2</td>\n",
       "      <td>0</td>\n",
       "      <td>0</td>\n",
       "      <td>9.4</td>\n",
       "      <td>20.9</td>\n",
       "      <td>0</td>\n",
       "      <td>0.0</td>\n",
       "      <td>0</td>\n",
       "    </tr>\n",
       "    <tr>\n",
       "      <th>142189</th>\n",
       "      <td>21/06/2017</td>\n",
       "      <td>Uluru</td>\n",
       "      <td>2.8</td>\n",
       "      <td>23.4</td>\n",
       "      <td>0.0</td>\n",
       "      <td>0.0</td>\n",
       "      <td>0.0</td>\n",
       "      <td>E</td>\n",
       "      <td>31</td>\n",
       "      <td>SE</td>\n",
       "      <td>...</td>\n",
       "      <td>24</td>\n",
       "      <td>1024.6</td>\n",
       "      <td>1020.3</td>\n",
       "      <td>0</td>\n",
       "      <td>0</td>\n",
       "      <td>10.1</td>\n",
       "      <td>22.4</td>\n",
       "      <td>0</td>\n",
       "      <td>0.0</td>\n",
       "      <td>0</td>\n",
       "    </tr>\n",
       "    <tr>\n",
       "      <th>142190</th>\n",
       "      <td>22/06/2017</td>\n",
       "      <td>Uluru</td>\n",
       "      <td>3.6</td>\n",
       "      <td>25.3</td>\n",
       "      <td>0.0</td>\n",
       "      <td>0.0</td>\n",
       "      <td>0.0</td>\n",
       "      <td>NNW</td>\n",
       "      <td>22</td>\n",
       "      <td>SE</td>\n",
       "      <td>...</td>\n",
       "      <td>21</td>\n",
       "      <td>1023.5</td>\n",
       "      <td>1019.1</td>\n",
       "      <td>0</td>\n",
       "      <td>0</td>\n",
       "      <td>10.9</td>\n",
       "      <td>24.5</td>\n",
       "      <td>0</td>\n",
       "      <td>0.0</td>\n",
       "      <td>0</td>\n",
       "    </tr>\n",
       "    <tr>\n",
       "      <th>142191</th>\n",
       "      <td>23/06/2017</td>\n",
       "      <td>Uluru</td>\n",
       "      <td>5.4</td>\n",
       "      <td>26.9</td>\n",
       "      <td>0.0</td>\n",
       "      <td>0.0</td>\n",
       "      <td>0.0</td>\n",
       "      <td>N</td>\n",
       "      <td>37</td>\n",
       "      <td>SE</td>\n",
       "      <td>...</td>\n",
       "      <td>24</td>\n",
       "      <td>1021.0</td>\n",
       "      <td>1016.8</td>\n",
       "      <td>0</td>\n",
       "      <td>0</td>\n",
       "      <td>12.5</td>\n",
       "      <td>26.1</td>\n",
       "      <td>0</td>\n",
       "      <td>0.0</td>\n",
       "      <td>0</td>\n",
       "    </tr>\n",
       "    <tr>\n",
       "      <th>142192</th>\n",
       "      <td>24/06/2017</td>\n",
       "      <td>Uluru</td>\n",
       "      <td>7.8</td>\n",
       "      <td>27.0</td>\n",
       "      <td>0.0</td>\n",
       "      <td>0.0</td>\n",
       "      <td>0.0</td>\n",
       "      <td>SE</td>\n",
       "      <td>28</td>\n",
       "      <td>SSE</td>\n",
       "      <td>...</td>\n",
       "      <td>24</td>\n",
       "      <td>1019.4</td>\n",
       "      <td>1016.5</td>\n",
       "      <td>3</td>\n",
       "      <td>2</td>\n",
       "      <td>15.1</td>\n",
       "      <td>26.0</td>\n",
       "      <td>0</td>\n",
       "      <td>0.0</td>\n",
       "      <td>0</td>\n",
       "    </tr>\n",
       "  </tbody>\n",
       "</table>\n",
       "<p>142193 rows × 24 columns</p>\n",
       "</div>"
      ],
      "text/plain": [
       "              Date Location  MinTemp  MaxTemp  Rainfall  Evaporation  \\\n",
       "0       01/12/2008   Albury     13.4     22.9       0.6          0.0   \n",
       "1       02/12/2008   Albury      7.4     25.1       0.0          0.0   \n",
       "2       03/12/2008   Albury     12.9     25.7       0.0          0.0   \n",
       "3       04/12/2008   Albury      9.2     28.0       0.0          0.0   \n",
       "4       05/12/2008   Albury     17.5     32.3       1.0          0.0   \n",
       "5       06/12/2008   Albury     14.6     29.7       0.2          0.0   \n",
       "6       07/12/2008   Albury     14.3     25.0       0.0          0.0   \n",
       "7       08/12/2008   Albury      7.7     26.7       0.0          0.0   \n",
       "8       09/12/2008   Albury      9.7     31.9       0.0          0.0   \n",
       "9       10/12/2008   Albury     13.1     30.1       1.4          0.0   \n",
       "10      11/12/2008   Albury     13.4     30.4       0.0          0.0   \n",
       "11      12/12/2008   Albury     15.9     21.7       2.2          0.0   \n",
       "12      13/12/2008   Albury     15.9     18.6      15.6          0.0   \n",
       "13      14/12/2008   Albury     12.6     21.0       3.6          0.0   \n",
       "14      16/12/2008   Albury      9.8     27.7       0.0          0.0   \n",
       "15      17/12/2008   Albury     14.1     20.9       0.0          0.0   \n",
       "16      18/12/2008   Albury     13.5     22.9      16.8          0.0   \n",
       "17      19/12/2008   Albury     11.2     22.5      10.6          0.0   \n",
       "18      20/12/2008   Albury      9.8     25.6       0.0          0.0   \n",
       "19      21/12/2008   Albury     11.5     29.3       0.0          0.0   \n",
       "20      22/12/2008   Albury     17.1     33.0       0.0          0.0   \n",
       "21      23/12/2008   Albury     20.5     31.8       0.0          0.0   \n",
       "22      24/12/2008   Albury     15.3     30.9       0.0          0.0   \n",
       "23      25/12/2008   Albury     12.6     32.4       0.0          0.0   \n",
       "24      26/12/2008   Albury     16.2     33.9       0.0          0.0   \n",
       "25      27/12/2008   Albury     16.9     33.0       0.0          0.0   \n",
       "26      28/12/2008   Albury     20.1     32.7       0.0          0.0   \n",
       "27      29/12/2008   Albury     19.7     27.2       0.0          0.0   \n",
       "28      30/12/2008   Albury     12.5     24.2       1.2          0.0   \n",
       "29      31/12/2008   Albury     12.0     24.4       0.8          0.0   \n",
       "...            ...      ...      ...      ...       ...          ...   \n",
       "142163  26/05/2017    Uluru     14.3     27.6       0.4          0.0   \n",
       "142164  27/05/2017    Uluru      9.3     28.0       0.0          0.0   \n",
       "142165  28/05/2017    Uluru      8.0     24.6       0.0          0.0   \n",
       "142166  29/05/2017    Uluru     12.7     22.2       0.0          0.0   \n",
       "142167  30/05/2017    Uluru      9.4     22.7       0.0          0.0   \n",
       "142168  31/05/2017    Uluru      5.4     20.5       0.0          0.0   \n",
       "142169  01/06/2017    Uluru      5.6     19.4       0.0          0.0   \n",
       "142170  02/06/2017    Uluru      1.5     19.2       0.0          0.0   \n",
       "142171  03/06/2017    Uluru      3.8     19.8       0.0          0.0   \n",
       "142172  04/06/2017    Uluru      4.5     18.8       0.0          0.0   \n",
       "142173  05/06/2017    Uluru      4.9     20.7       0.0          0.0   \n",
       "142174  06/06/2017    Uluru      1.2     20.8       0.0          0.0   \n",
       "142175  07/06/2017    Uluru      0.5     21.7       0.0          0.0   \n",
       "142176  08/06/2017    Uluru      4.0     20.0       0.0          0.0   \n",
       "142177  09/06/2017    Uluru      3.4     19.8       0.0          0.0   \n",
       "142178  10/06/2017    Uluru      3.2     18.6       0.0          0.0   \n",
       "142179  11/06/2017    Uluru      2.4     19.1       0.0          0.0   \n",
       "142180  12/06/2017    Uluru      5.1     19.7       0.0          0.0   \n",
       "142181  13/06/2017    Uluru      2.5     21.2       0.0          0.0   \n",
       "142182  14/06/2017    Uluru      2.3     21.4       0.0          0.0   \n",
       "142183  15/06/2017    Uluru      2.6     22.5       0.0          0.0   \n",
       "142184  16/06/2017    Uluru      5.2     24.3       0.0          0.0   \n",
       "142185  17/06/2017    Uluru      6.4     23.4       0.0          0.0   \n",
       "142186  18/06/2017    Uluru      8.0     20.7       0.0          0.0   \n",
       "142187  19/06/2017    Uluru      7.4     20.6       0.0          0.0   \n",
       "142188  20/06/2017    Uluru      3.5     21.8       0.0          0.0   \n",
       "142189  21/06/2017    Uluru      2.8     23.4       0.0          0.0   \n",
       "142190  22/06/2017    Uluru      3.6     25.3       0.0          0.0   \n",
       "142191  23/06/2017    Uluru      5.4     26.9       0.0          0.0   \n",
       "142192  24/06/2017    Uluru      7.8     27.0       0.0          0.0   \n",
       "\n",
       "        Sunshine WindGustDir  WindGustSpeed WindDir9am  ... Humidity3pm  \\\n",
       "0            0.0           W             44          W  ...          22   \n",
       "1            0.0         WNW             44        NNW  ...          25   \n",
       "2            0.0         WSW             46          W  ...          30   \n",
       "3            0.0          NE             24         SE  ...          16   \n",
       "4            0.0           W             41        ENE  ...          33   \n",
       "5            0.0         WNW             56          W  ...          23   \n",
       "6            0.0           W             50         SW  ...          19   \n",
       "7            0.0           W             35        SSE  ...          19   \n",
       "8            0.0         NNW             80         SE  ...           9   \n",
       "9            0.0           W             28          S  ...          27   \n",
       "10           0.0           N             30        SSE  ...          22   \n",
       "11           0.0         NNE             31         NE  ...          91   \n",
       "12           0.0           W             61        NNW  ...          93   \n",
       "13           0.0          SW             44          W  ...          43   \n",
       "14           0.0         WNW             50          0  ...          28   \n",
       "15           0.0         ENE             22        SSW  ...          82   \n",
       "16           0.0           W             63          N  ...          65   \n",
       "17           0.0         SSE             43        WSW  ...          32   \n",
       "18           0.0         SSE             26         SE  ...          26   \n",
       "19           0.0           S             24         SE  ...          28   \n",
       "20           0.0          NE             43         NE  ...          28   \n",
       "21           0.0         WNW             41          W  ...          24   \n",
       "22           0.0           N             33        ESE  ...          23   \n",
       "23           0.0           W             43          E  ...          17   \n",
       "24           0.0         WSW             35         SE  ...          19   \n",
       "25           0.0         WSW             57          0  ...          28   \n",
       "26           0.0         WNW             48          N  ...          15   \n",
       "27           0.0         WNW             46         NW  ...          22   \n",
       "28           0.0         WNW             50        WSW  ...          70   \n",
       "29           0.0           W             39        WNW  ...          28   \n",
       "...          ...         ...            ...        ...  ...         ...   \n",
       "142163       0.0         WNW             39          0  ...          27   \n",
       "142164       0.0           W             28        SSW  ...          16   \n",
       "142165       0.0           E             33         SE  ...          25   \n",
       "142166       0.0           E             37          E  ...          34   \n",
       "142167       0.0           E             35         SE  ...          32   \n",
       "142168       0.0           E             46          E  ...          32   \n",
       "142169       0.0           E             43          E  ...          22   \n",
       "142170       0.0           E             37        ESE  ...          18   \n",
       "142171       0.0         ENE             39        ESE  ...          22   \n",
       "142172       0.0           E             31        ESE  ...          26   \n",
       "142173       0.0           E             37        ESE  ...          11   \n",
       "142174       0.0           E             43        ESE  ...           6   \n",
       "142175       0.0           E             43        ESE  ...          19   \n",
       "142176       0.0          SE             39        ESE  ...          26   \n",
       "142177       0.0           E             43        ESE  ...          23   \n",
       "142178       0.0           E             46        ESE  ...          29   \n",
       "142179       0.0           E             33         SE  ...          24   \n",
       "142180       0.0           E             46        ESE  ...          29   \n",
       "142181       0.0         ENE             35        ESE  ...          32   \n",
       "142182       0.0          SE             22         SE  ...          28   \n",
       "142183       0.0           S             19          S  ...          24   \n",
       "142184       0.0           E             24         SE  ...          24   \n",
       "142185       0.0         ESE             31          S  ...          25   \n",
       "142186       0.0         ESE             41         SE  ...          32   \n",
       "142187       0.0           E             35        ESE  ...          33   \n",
       "142188       0.0           E             31        ESE  ...          27   \n",
       "142189       0.0           E             31         SE  ...          24   \n",
       "142190       0.0         NNW             22         SE  ...          21   \n",
       "142191       0.0           N             37         SE  ...          24   \n",
       "142192       0.0          SE             28        SSE  ...          24   \n",
       "\n",
       "        Pressure9am  Pressure3pm  Cloud9am  Cloud3pm  Temp9am  Temp3pm  \\\n",
       "0            1007.7       1007.1         8         0     16.9     21.8   \n",
       "1            1010.6       1007.8         0         0     17.2     24.3   \n",
       "2            1007.6       1008.7         0         2     21.0     23.2   \n",
       "3            1017.6       1012.8         0         0     18.1     26.5   \n",
       "4            1010.8       1006.0         7         8     17.8     29.7   \n",
       "5            1009.2       1005.4         0         0     20.6     28.9   \n",
       "6            1009.6       1008.2         1         0     18.1     24.6   \n",
       "7            1013.4       1010.1         0         0     16.3     25.5   \n",
       "8            1008.9       1003.6         0         0     18.3     30.2   \n",
       "9            1007.0       1005.7         0         0     20.1     28.2   \n",
       "10           1011.8       1008.7         0         0     20.4     28.8   \n",
       "11           1010.5       1004.2         8         8     15.9     17.0   \n",
       "12            994.3        993.0         8         8     17.4     15.8   \n",
       "13           1001.2       1001.8         0         7     15.8     19.8   \n",
       "14           1013.4       1010.3         0         0     17.3     26.2   \n",
       "15           1012.2       1010.4         8         1     17.2     18.1   \n",
       "16           1005.8       1002.2         8         1     18.0     21.5   \n",
       "17           1009.4       1009.7         0         2     15.5     21.0   \n",
       "18           1019.2       1017.1         0         0     15.8     23.2   \n",
       "19           1019.3       1014.8         0         0     19.1     27.3   \n",
       "20           1013.6       1008.1         0         1     24.5     31.6   \n",
       "21           1007.8       1005.7         0         0     23.8     30.8   \n",
       "22           1011.0       1008.2         5         0     20.9     29.0   \n",
       "23           1012.9       1010.1         0         0     21.5     31.2   \n",
       "24           1010.9       1007.6         0         1     23.2     33.0   \n",
       "25           1006.8       1003.6         0         1     26.6     31.2   \n",
       "26           1005.2       1001.7         0         0     24.6     32.1   \n",
       "27           1004.8       1004.2         0         0     21.6     26.1   \n",
       "28           1005.6       1003.4         8         8     12.5     18.2   \n",
       "29           1006.1       1005.1         1         0     16.9     22.7   \n",
       "...             ...          ...       ...       ...      ...      ...   \n",
       "142163       1020.5       1016.1         4         7     16.1     27.2   \n",
       "142164       1019.9       1016.9         0         0     16.6     27.3   \n",
       "142165       1021.7       1018.8         4         0     13.8     23.5   \n",
       "142166       1024.3       1021.7         8         8     13.9     21.0   \n",
       "142167       1026.6       1023.6         8         4     11.8     22.3   \n",
       "142168       1029.2       1025.3         0         0     11.1     20.2   \n",
       "142169       1029.6       1027.1         0         0      9.7     18.3   \n",
       "142170       1030.7       1026.7         0         0      6.8     17.6   \n",
       "142171       1028.7       1024.1         0         0      8.6     18.9   \n",
       "142172       1026.9       1022.4         0         0      9.5     18.6   \n",
       "142173       1027.1       1023.9         0         0     10.3     19.8   \n",
       "142174       1029.8       1025.9         0         0      7.9     19.9   \n",
       "142175       1029.0       1025.0         0         0      9.5     20.5   \n",
       "142176       1030.2       1026.7         0         0      9.1     19.0   \n",
       "142177       1031.8       1027.7         0         0      8.7     18.9   \n",
       "142178       1031.0       1027.2         0         0      8.2     17.4   \n",
       "142179       1030.0       1026.2         0         0      8.0     18.8   \n",
       "142180       1028.5       1025.8         0         0      8.5     19.2   \n",
       "142181       1027.2       1023.0         0         0     10.3     20.3   \n",
       "142182       1026.9       1022.8         0         0      8.9     20.3   \n",
       "142183       1025.0       1021.4         0         0      8.8     22.1   \n",
       "142184       1023.8       1020.0         0         0     12.3     23.3   \n",
       "142185       1025.8       1023.0         0         0     11.2     23.1   \n",
       "142186       1028.1       1024.3         0         7     11.6     20.0   \n",
       "142187       1027.2       1023.3         0         0     11.0     20.3   \n",
       "142188       1024.7       1021.2         0         0      9.4     20.9   \n",
       "142189       1024.6       1020.3         0         0     10.1     22.4   \n",
       "142190       1023.5       1019.1         0         0     10.9     24.5   \n",
       "142191       1021.0       1016.8         0         0     12.5     26.1   \n",
       "142192       1019.4       1016.5         3         2     15.1     26.0   \n",
       "\n",
       "        RainToday  RISK_MM  RainTomorrow  \n",
       "0               0      0.0             0  \n",
       "1               0      0.0             0  \n",
       "2               0      0.0             0  \n",
       "3               0      1.0             0  \n",
       "4               0      0.2             0  \n",
       "5               0      0.0             0  \n",
       "6               0      0.0             0  \n",
       "7               0      0.0             0  \n",
       "8               0      1.4             1  \n",
       "9               1      0.0             0  \n",
       "10              0      2.2             1  \n",
       "11              1     15.6             1  \n",
       "12              1      3.6             1  \n",
       "13              1      0.0             0  \n",
       "14              0      0.0             0  \n",
       "15              0     16.8             1  \n",
       "16              1     10.6             1  \n",
       "17              1      0.0             0  \n",
       "18              0      0.0             0  \n",
       "19              0      0.0             0  \n",
       "20              0      0.0             0  \n",
       "21              0      0.0             0  \n",
       "22              0      0.0             0  \n",
       "23              0      0.0             0  \n",
       "24              0      0.0             0  \n",
       "25              0      0.0             0  \n",
       "26              0      0.0             0  \n",
       "27              0      1.2             1  \n",
       "28              1      0.8             0  \n",
       "29              0      0.0             0  \n",
       "...           ...      ...           ...  \n",
       "142163          0      0.0             0  \n",
       "142164          0      0.0             0  \n",
       "142165          0      0.0             0  \n",
       "142166          0      0.0             0  \n",
       "142167          0      0.0             0  \n",
       "142168          0      0.0             0  \n",
       "142169          0      0.0             0  \n",
       "142170          0      0.0             0  \n",
       "142171          0      0.0             0  \n",
       "142172          0      0.0             0  \n",
       "142173          0      0.0             0  \n",
       "142174          0      0.0             0  \n",
       "142175          0      0.0             0  \n",
       "142176          0      0.0             0  \n",
       "142177          0      0.0             0  \n",
       "142178          0      0.0             0  \n",
       "142179          0      0.0             0  \n",
       "142180          0      0.0             0  \n",
       "142181          0      0.0             0  \n",
       "142182          0      0.0             0  \n",
       "142183          0      0.0             0  \n",
       "142184          0      0.0             0  \n",
       "142185          0      0.0             0  \n",
       "142186          0      0.0             0  \n",
       "142187          0      0.0             0  \n",
       "142188          0      0.0             0  \n",
       "142189          0      0.0             0  \n",
       "142190          0      0.0             0  \n",
       "142191          0      0.0             0  \n",
       "142192          0      0.0             0  \n",
       "\n",
       "[142193 rows x 24 columns]"
      ]
     },
     "execution_count": 4,
     "metadata": {},
     "output_type": "execute_result"
    }
   ],
   "source": [
    "Cdata"
   ]
  },
  {
   "cell_type": "markdown",
   "metadata": {},
   "source": [
    "### 2.Irrelevent Data:<br>\n",
    "1.Date<br>\n",
    "2.Location<br>\n",
    "3.WindDir9am<br>\n",
    "4.WindDir3pm<br>\n",
    "5.Cloud9am<br>\n",
    "6.Cloud3pm<br>\n",
    "7.Temp9am<br>\n",
    "8.Temp3pm<br><br>\n",
    "For now we just want to predict if it will rain tomorrow or not we can consider Location as an irrelevent data, if we start predicting rainfall according to location, then Location would be a relevent data. We are considering Temp9am and Temp 3pm as irrelevent because we have already noted Max amd min tempratures so it would be okay if we do not nothe this data. "
   ]
  },
  {
   "cell_type": "markdown",
   "metadata": {},
   "source": [
    "### iii Visualization of Data: <br>\n",
    "Data visualization is the representation of data and information with the help of graphs, charts, and maps. So let us start to visualize out data and find different relations between them. As our target value can be considered to be RainTomorrow we can start finding the relations between different coloumns which will lead us to our prediction of rain fall tomorrow."
   ]
  },
  {
   "cell_type": "code",
   "execution_count": 5,
   "metadata": {},
   "outputs": [
    {
     "name": "stderr",
     "output_type": "stream",
     "text": [
      "C:\\Users\\ROHAN BHOSALE\\Anaconda3\\lib\\site-packages\\IPython\\core\\pylabtools.py:128: UserWarning: Creating legend with loc=\"best\" can be slow with large amounts of data.\n",
      "  fig.canvas.print_figure(bytes_io, **kw)\n"
     ]
    },
    {
     "data": {
      "image/png": "[encoded data removed]",
      "text/plain": [
       "<Figure size 432x288 with 1 Axes>"
      ]
     },
     "metadata": {
      "needs_background": "light"
     },
     "output_type": "display_data"
    }
   ],
   "source": [
    "plt.plot(Cdata.Humidity9am, Cdata.RISK_MM,'o')\n",
    "plt.plot(Cdata.Humidity3pm,Cdata.RISK_MM,'o')\n",
    "plt.title(\"Humidity9am/Humidity3am vs RISK_MM\")\n",
    "plt.xlabel(\"Humidity9am/Humidity3am\")\n",
    "plt.ylabel(\"RISK_MM\")\n",
    "plt.legend([\"Humidity9am\",\"Humidity3pm\"])\n",
    "plt.show()"
   ]
  },
  {
   "cell_type": "markdown",
   "metadata": {},
   "source": [
    "Here we can observe that as the value of humidity increases, there is a gradual increase in RISK_MM too, RISK_MM is the value which predicts if it will rain tomorrow or not so, if we see a increase in RISK_MM value with increase in Humidity values it means Higher the humidity more are the chances of a Rain fall."
   ]
  },
  {
   "cell_type": "code",
   "execution_count": 6,
   "metadata": {},
   "outputs": [
    {
     "data": {
      "image/png": "[encoded data removed]",
      "text/plain": [
       "<Figure size 432x288 with 1 Axes>"
      ]
     },
     "metadata": {
      "needs_background": "light"
     },
     "output_type": "display_data"
    }
   ],
   "source": [
    "plt.plot(Cdata.Pressure9am, Cdata.RISK_MM,'o')\n",
    "plt.plot(Cdata.Pressure3pm,Cdata.RISK_MM,'o')\n",
    "plt.title(\"Pressure9am/Pressure3pm vs RISK_MM\")\n",
    "plt.xlabel(\"Pressure9am/Pressure3pm\")\n",
    "plt.ylabel(\"RISK_MM\")\n",
    "plt.legend(['pressure9am','pressure3pm'])\n",
    "plt.show()"
   ]
  },
  {
   "cell_type": "markdown",
   "metadata": {},
   "source": [
    "Here we can observe that a larger chunk of data lies around pressure value 1000 with high values of RISK_MM, lookig at this graph we can say that it will rain when the pressure conditions are appropriate i.e there are more chances of rain between the values 1000-1030 than the values outside of this bound. So we can say that Pressure and Humidity directly affect on the RISK_MM values which indeed predicts the Rainfall for tomorrow."
   ]
  },
  {
   "cell_type": "code",
   "execution_count": 7,
   "metadata": {},
   "outputs": [
    {
     "data": {
      "image/png": "[encoded data removed]",
      "text/plain": [
       "<Figure size 432x288 with 1 Axes>"
      ]
     },
     "metadata": {
      "needs_background": "light"
     },
     "output_type": "display_data"
    }
   ],
   "source": [
    "plt.plot(Cdata.WindGustSpeed,Cdata.RISK_MM,'o')\n",
    "plt.title(\"WindGustSpeed vs RISK_MM\")\n",
    "plt.xlabel(\"WindGustSpeed\")\n",
    "plt.ylabel(\"RISK_MM\")\n",
    "plt.show()"
   ]
  },
  {
   "cell_type": "markdown",
   "metadata": {},
   "source": [
    "This is the graph of WindGustSpeed vs RISK_MM, where we can see a large chunk of data at lower values of 'WindGustSpeed'. This means that if the wind speed is low there are more chances of rain. We can say If there is less wind it wont blow away the clouds, resulting in more chances of rain."
   ]
  },
  {
   "cell_type": "code",
   "execution_count": 8,
   "metadata": {},
   "outputs": [
    {
     "data": {
      "image/png": "[encoded data removed]",
      "text/plain": [
       "<Figure size 432x288 with 1 Axes>"
      ]
     },
     "metadata": {
      "needs_background": "light"
     },
     "output_type": "display_data"
    }
   ],
   "source": [
    "plt.plot(Cdata.RainTomorrow,Cdata.RISK_MM,'o')\n",
    "plt.title(\"RainTomorrow vs RISK_MM\")\n",
    "plt.xlabel(\"RainTomorrow\")\n",
    "plt.ylabel(\"RISK_MM\")\n",
    "plt.show()"
   ]
  },
  {
   "cell_type": "markdown",
   "metadata": {},
   "source": [
    "This graph explains the relation between the Coloumn RISK_MM amd RainTomorrow. We can see that RainTomoeeow has 2 values 'Yes', 'No'. It can be inferred from the data and graph that for values 1 or less than one in RISK_MM there will be No Rain, but for the values more than 1 in RISK_MM it will rain tomorrow. We can say that 'No'on x-axis corrosponds to valies equal to 1 ore less than one of RISK_MM, value 'Yes' corrosponds to values more than 1 in RISK_MM. "
   ]
  },
  {
   "cell_type": "code",
   "execution_count": 9,
   "metadata": {},
   "outputs": [
    {
     "data": {
      "image/png": "[encoded data removed]",
      "text/plain": [
       "<Figure size 432x288 with 1 Axes>"
      ]
     },
     "metadata": {
      "needs_background": "light"
     },
     "output_type": "display_data"
    }
   ],
   "source": [
    "plt.plot(Cdata.MaxTemp,Cdata.Evaporation, 'o')\n",
    "plt.plot(Cdata.MinTemp,Cdata.Evaporation, 'o')\n",
    "plt.title(\"MaxTemp/MinTemp vs Evaporation\")\n",
    "plt.xlabel(\"Maxinum Temprature/Minimum Temprature\")\n",
    "plt.ylabel(\"Evaporation\")\n",
    "plt.legend(['MaxTemp','MinTemp'])\n",
    "plt.show()"
   ]
  },
  {
   "cell_type": "markdown",
   "metadata": {},
   "source": [
    "Here we can see a gradual increase in humiditu=y levels with increase in temprature. We can say that as the temprature increases the ecaporatin also increases which may lead to more humidity in climate thus resulting in rain."
   ]
  },
  {
   "cell_type": "markdown",
   "metadata": {},
   "source": [
    "### iv. Priliminary Observations <br>\n",
    "From the above graphs and data we can infer that there are many different conditions which are affecting each other which results in the value for RISK_MM and the prediction of RainTomorrow coloumn we saw a gradual increase in evaporation with increase in temprature, we also observed a increase in RISK_MM values with increase in Humidity. These 2 cam be considered as main factors affectinf rain. We also Saw how pressure and Wind conditions affect the RISK_MM  values which indirectly affect the prediction for rain. The main observation cam be said to be between RISK_MM and RaonTomorrow values i.e it will only rain if RISK_MM value is more that One it wont rain if the value os one ore less than one.<br>"
   ]
  },
  {
   "cell_type": "markdown",
   "metadata": {},
   "source": [
    "# III. Method"
   ]
  },
  {
   "cell_type": "markdown",
   "metadata": {},
   "source": [
    "### 1.Pocket Algorithm\n",
    "The Perceptron Learning Algorithm is one of the simplest machine learning algorithms and a crucial building block of more complex machine learning and deep learning models.  A simple modification of this algorithm is termed the Pocket Learning Algorithm. perceptron algorithm applies a step function on the linear output. For classification, it iterate over the training examples, and update the weights in a way that would result in correct classification. But pocket algorithm keeps the best solution soo far in its pocket thus giving us better results and a easier way to classify.In other word we can also say that  pocket algorithm is a perceptron learning algorithm with a memory which keeps the result of the iteration. Pocket algorithm is also considered able to provide for any classification problem the weight vector which satisfies the maximum number of input-output relations contained in the training set. Pocket algorithm works well with nonseparable or even contradictory training instances.<br>\n",
    "Equation to calculate weights in Pocket Algorithm:\n",
    "$$w^{(k+1)}=w^{(k)}+αt_ix_i.$$"
   ]
  },
  {
   "cell_type": "markdown",
   "metadata": {},
   "source": [
    "### 2. Quadratic Discriminant Analysis \n",
    "\n",
    "A quadratic classifier is used in machine learning and statistical classification to separate measurements of two or more classes of objects or events by a quadric surface. It is a more general version of the linear classifier. Quadratic discriminant analysis (QDA) is closely related to linear discriminant analysis (LDA), where it is assumed that the measurements from each class are normally distributed. Unlike LDA however, in QDA there is no assumption that the covariance of each of the classes is identical. When the normality assumption is true, the best possible test for the hypothesis that a given measurement is from a given class is the likelihood ratio test. <br>\n",
    "Equations for Quadratic Discriminant Analysis :<br>\n",
    "1.$$δ_k(x)=(−1/2)ln|Σ_k|−1/2(x−μ_k)^⊤Σ^{−1}_k(x−μ_k)+ln(P(T=k)).$$\n",
    "\n",
    "2. for a new sample x~, we can predict the label with\n",
    "\n",
    "$$y=argmax_kδk_(x~).$$"
   ]
  },
  {
   "cell_type": "markdown",
   "metadata": {},
   "source": [
    "### 2. Linear Discriminant Analysis (LDA)<br>\n",
    "\n",
    "Maintaining the covariance matrix is not cheap. Also, the data is undersampled, the resulting class boundary has high chance of overfitting. These problems can be solved using Linear Discriminant Analysis(LDA),and we can reach  Linear Discriminant Analysis simply by using the same covariance for all the classes.<br>\n",
    "Equations for Linear Discriminant Analysis:<br>\n",
    "1.$$δ_k(x)=x^⊤Σ^{−1}μ_k−1/2{μ^⊤}_kΣ^{−1}μ_k+ln(P(T=k)).$$<br>\n",
    "2. In many cases, for simple computation, the covariance matrix Σ is chosen as an average of all the covariance matrices for all classes,\n",
    "\n",
    "$$Σ=∑_k^K(N_k/N)Σ_k.$$"
   ]
  },
  {
   "cell_type": "markdown",
   "metadata": {},
   "source": [
    "### 4.Logistic Regression <br>\n",
    "Logistic Regression algorithm is an regression algorithm which can be used as an classification algorithm. It is commonly used to estimate the probability that an instance belongs to a particular class.If the estimated probability is greater than 50%, then the model predicts that the instance belongs to that class (called the positive class, labeled “1”), or else it predicts that it does not (i.e., it belongs to the negative class, labeled “0”). This makes it a binary classifier. A Logistic Regression model computes a weighted sum of the input features (plus a bias term), but instead of outputting the result directly like the Linear Regression model does, it outputs the logistic of this result.<br>Equation:\n",
    "$$ p = h_θ(X) = σ(θ^T·x) $$"
   ]
  },
  {
   "cell_type": "markdown",
   "metadata": {},
   "source": [
    "### A. Super Classs Definition"
   ]
  },
  {
   "cell_type": "code",
   "execution_count": 10,
   "metadata": {},
   "outputs": [],
   "source": [
    "import numpy as np\n",
    "from abc import ABC, abstractmethod\n",
    "\n",
    "# Super class for machine learning models \n",
    "\n",
    "class BaseModel(ABC):\n",
    "    \"\"\" Super class for ITCS Machine Learning Class\"\"\"\n",
    "    \n",
    "    @abstractmethod\n",
    "    def train(self, X, T):\n",
    "        pass\n",
    "\n",
    "    @abstractmethod\n",
    "    def use(self, X):\n",
    "        pass\n",
    "\n",
    "    \n",
    "\n",
    "class Classifier(BaseModel):\n",
    "    \"\"\"\n",
    "        Abstract class for classification \n",
    "        \n",
    "        Attributes\n",
    "        ==========\n",
    "        meanX       ndarray\n",
    "                    mean of inputs (from standardization)\n",
    "        stdX        ndarray\n",
    "                    standard deviation of inputs (standardization)\n",
    "    \"\"\"\n",
    "\n",
    "    def __init__(self, ):\n",
    "        self.meanX = None\n",
    "        self.stdX = None\n",
    "\n",
    "    def normalize(self, X):\n",
    "        \"\"\" standardize the input X \"\"\"\n",
    "        \n",
    "        if not isinstance(X, np.ndarray):\n",
    "            X = np.asanyarray(X)\n",
    "\n",
    "        self.meanX = np.mean(X, 0)\n",
    "        self.stdX = np.std(X, 0)\n",
    "\n",
    "        # TODO: Finish this normalization\n",
    "        Xs = (X-self.meanX)/self.stdX\n",
    "        return Xs\n",
    "\n",
    "    def _check_matrix(self, mat, name):\n",
    "        if len(mat.shape) != 2:\n",
    "            raise ValueError(''.join([\"Wrong matrix \", name]))\n",
    "        \n",
    "    # add a basis\n",
    "    def add_ones(self, X):\n",
    "        \"\"\"\n",
    "            add a column basis to X input matrix\n",
    "        \"\"\"\n",
    "        self._check_matrix(X, 'X')\n",
    "        return np.hstack((np.ones((X.shape[0], 1)), X))\n",
    "\n",
    "    ####################################################\n",
    "    #### abstract funcitons ############################\n",
    "    @abstractmethod\n",
    "    def train(self, X, T):\n",
    "        pass\n",
    "    \n",
    "    @abstractmethod\n",
    "    def use(self, X):\n",
    "        pass "
   ]
  },
  {
   "cell_type": "markdown",
   "metadata": {},
   "source": [
    "#### Code Explaination:\n",
    "Class Basemodel sepcifies 2 abstract methods train and use where train method takes 3 arguments and use method takes 2 arguments, any class that extends BaseModel class will have to provide implementation for these 2 methods. In this code class Classifier extends BaseModel so it provides implementation for methods train and use but it also provides 4 more methods which are '__init__', 'normalize, 'check_matrix' and 'add_ones'. init method is used to initialize variables, normalize method is used to normalize the data by substracting the data with the mean and dividing with standard deviation we will use it on the data tha we will be passing to our algorithms, check_method is used to check the shape of the matrix and method add_ones is used to add a bais to a matrix that we want.  "
   ]
  },
  {
   "cell_type": "markdown",
   "metadata": {},
   "source": [
    "### B. Pocket Algorithm\n"
   ]
  },
  {
   "cell_type": "code",
   "execution_count": 11,
   "metadata": {},
   "outputs": [],
   "source": [
    "from copy import deepcopy as copy \n",
    "\n",
    "class Pocketclass (Classifier):\n",
    "    def __init__(self):\n",
    "        self.maxiter = 10\n",
    "        self.alpha = 0.00001\n",
    "        self.w = None\n",
    "        self.wp=None\n",
    "    \n",
    "    \n",
    "    def compare(self,X, T,w,wp):\n",
    "        y = np.sign(X @ w.T)\n",
    "        yp = np.sign(X @ wp.T)\n",
    "        return 1 if np.sum(y == T) >= np.sum(yp == T) else -1\n",
    "    \n",
    "    def train(self,X,T):\n",
    "       \n",
    "        N=X.shape[0]\n",
    "        self.w = np.zeros(X.shape[1])\n",
    "        self.w=np.asmatrix(self.w)\n",
    "      \n",
    "        self.wp = copy(self.w)\n",
    "       \n",
    "        for i in range(self.maxiter):\n",
    "            converged = True\n",
    "            for k in range(N): \n",
    "                \n",
    "                y = self.w @ X[k]\n",
    "               \n",
    "                if np.sign(y) != np.sign(T[k]):\n",
    "                    self.w += self.alpha * T[k] * X[k]\n",
    "                    converged = False\n",
    "                    \n",
    "                    if self.compare(X,T, self.w,self.wp) > 0: \n",
    "                        self.wp[:] = self.w[:]\n",
    "    \n",
    "            if converged:\n",
    "                print(\"converged at \", i)\n",
    "                break\n",
    "        print(\"End of training: \", i)      \n",
    "      \n",
    "    def use(self, X):\n",
    "        y= X @ self.wp.T\n",
    "        return np.sign(y)"
   ]
  },
  {
   "cell_type": "markdown",
   "metadata": {},
   "source": [
    "#### Code Explaination :<br>\n",
    "Pocket class extends class Classifier, which means it can implement all the methods that are in Classifier class. In pocket class we start with initializing the variables in the init method. We specified a compare method where we comapre the sum of signs where sign is equal to our target matrix. Next we have writen a train method which takes 2 arguments our data and target variable, in this function we initialize weights with a matrix of zeros, and iterate in a loop calculating weights and keeping the best weight in the pocket, here maxiter means maximum number of iterations. In use function of this code we calculate the predictions and return the sign of those predictions.  "
   ]
  },
  {
   "cell_type": "markdown",
   "metadata": {},
   "source": [
    "### C. QDA"
   ]
  },
  {
   "cell_type": "code",
   "execution_count": 12,
   "metadata": {},
   "outputs": [],
   "source": [
    "#RohanBhosale\n",
    "class QDAclass (Classifier):\n",
    "    def __init__(self):\n",
    "        self.mu1=None\n",
    "        self.mu2=None\n",
    "        self.sigma1=None\n",
    "        self.sigma2=None\n",
    "        self.prior1=None\n",
    "        self.prior2=None\n",
    "        self.d1=None\n",
    "        self.d2=None\n",
    "    def Qda(self,X, mu, sigma, prior):\n",
    "        \n",
    "        sigma_inv = np.linalg.inv(sigma)\n",
    "        diffv = X - mu\n",
    "        return -0.5  * np.log(np.linalg.det(sigma)) \\\n",
    "            - 0.5 * np.sum(diffv @ sigma_inv * diffv, axis=1) \\\n",
    "            + np.log(prior)\n",
    "    \n",
    "    def train (self, X, T):\n",
    "        X1=X[X[:,-1]==0]\n",
    "        X1=X1[:,0:8]\n",
    "        X2=X[X[:,-1]==1]\n",
    "        X2=X2[:,0:8]\n",
    "        N1 = X1.shape[0]\n",
    "        N2 = X2.shape[0]\n",
    "        N = N1 + N2\n",
    "\n",
    "        self.mu1 = np.mean(X1[:N1], 0)\n",
    "        self.mu2 = np.mean(X2[N1:], 0)\n",
    "        self.sigma1 = np.cov(X1.T)\n",
    "        self.sigma2 = np.cov(X2.T)\n",
    "\n",
    "        self.prior1 = N1 / N\n",
    "        self.prior2 = N2 / N\n",
    "        \n",
    "    def use(self, X):\n",
    "        X=X[:,0:8]\n",
    "        XtestS = self.normalize(X)\n",
    "        self.d1 = self.Qda(XtestS, self.mu1, self.sigma1, self.prior1)\n",
    "        self.d2 = self.Qda(XtestS, self.mu2, self.sigma2, self.prior2)\n",
    "        predictions=np.where(self.d1>self.d2,1,0)\n",
    "        return self.d1, self.d2,predictions\n",
    "     \n"
   ]
  },
  {
   "cell_type": "markdown",
   "metadata": {},
   "source": [
    "#### CodeExplaination :<br>\n",
    "QDA class extends class Classifier, which means it can implement all the methods that are in Classifier class. In QDA class we start with initializing the variables in the init method. We have writen a method QDA where we calculate the sigma inverse, difference between X and mu and also calculate the discriminant fuction which we are returning. We also have implemented train and use functions. In train function we first separate the values from our dataset where the value of our target variable is 0 or 1 and store them in  different variables then we calculate the values of mu and sigma functions and also calculate priors. In our use function we calculate the discriminant values and on the basis of those values we find the predictions for QDA. \n"
   ]
  },
  {
   "cell_type": "markdown",
   "metadata": {},
   "source": [
    "### D. LDA"
   ]
  },
  {
   "cell_type": "code",
   "execution_count": 125,
   "metadata": {},
   "outputs": [],
   "source": [
    "#RohanBhosale\n",
    "class LDAclass (Classifier):\n",
    "    def __init__(self):\n",
    "        self.sigma = None\n",
    "        self.prior1 = None\n",
    "        self.prior2 = None\n",
    "        self.d1 = None\n",
    "        self.d2 = None\n",
    "        self.mu1 = None\n",
    "        self.mu2 = None\n",
    "        \n",
    "    def Lda(self,X, mu, sigma, prior):\n",
    "        sigma_inv = np.linalg.inv(sigma)\n",
    "        return np.sum((X @ sigma_inv) * mu \\\n",
    "                - 0.5 * (mu @ sigma_inv) * mu, axis=1) \\\n",
    "                + np.log(prior)\n",
    "    \n",
    "    def train (self, X, T):\n",
    "        X1=X[X[:,-1]==0]\n",
    "        X1=X1[:,0:8]\n",
    "        X2=X[X[:,-1]==1]\n",
    "        X2=X2[:,0:8]\n",
    "        N1 = X1.shape[0]\n",
    "        N2 = X2.shape[0]\n",
    "        N = N1 + N2\n",
    "\n",
    "        self.mu1 = np.mean(X1[:N1], 0)\n",
    "        self.mu2 = np.mean(X2[N1:], 0)\n",
    "        X=X[:,0:8]\n",
    "        self.Sigma = np.cov(X.T)\n",
    "\n",
    "        self.prior1 = N1 / N\n",
    "        self.prior2 = N2 / N\n",
    "        \n",
    "    def use(self, X):\n",
    "        X=X[:,0:8]\n",
    "        XtestS = self.normalize(X)\n",
    "        self.d1 = self.Lda(XtestS, self.mu1, self.Sigma, self.prior1)\n",
    "        self.d2 = self.Lda(XtestS, self.mu2, self.Sigma, self.prior2)\n",
    "        predictions=np.where(self.d1>self.d2,1,0)\n",
    "        return predictions,self.d1, self.d2\n",
    "        \n",
    "\n"
   ]
  },
  {
   "cell_type": "markdown",
   "metadata": {},
   "source": [
    "#### Code Explaination :<br>\n",
    "LDA class extends class Classifier, which means it can implement all the methods that are in Classifier class. In LDA class we start with initializing the variables in the init method. We here implement Lda function which takes our data, mu, sigma, prior values as the arguments, we calculate the inverse of sigma in this function an also calculate and return the value of discriminant in this function. We also implement train and use function in this code. In train function we separate the values from our dataset where the value of our target variable is either 0 or 1, then we calculate the values for mu and sigma and also for prior. In use function of this code we calculate the values for discriminant and on the basis of those values we calculate the prediction for LDA.\n"
   ]
  },
  {
   "cell_type": "markdown",
   "metadata": {},
   "source": [
    "### E. Logistic Regression"
   ]
  },
  {
   "cell_type": "code",
   "execution_count": 99,
   "metadata": {},
   "outputs": [],
   "source": [
    "\n",
    "class LogisticRegression(Classifier):\n",
    "    def __init__(self,alpha):\n",
    "        self.w = None\n",
    "        self.alpha = alpha\n",
    "    \n",
    "    def softmax(self,z):\n",
    "        if not isinstance(z, np.ndarray):\n",
    "            z = np.asarray(z)\n",
    "        f = np.exp(z) \n",
    "        return f / (np.sum(f, axis=1, keepdims=True) if len(z.shape) == 2 else np.sum(f))\n",
    "        \n",
    "        \n",
    "    def g(self,X, w):\n",
    "        return self.softmax(X @ w) \n",
    "\n",
    "    def train(self,X,T):\n",
    "        X=self.normalize(X)\n",
    "        N = X.shape[0]\n",
    "        D = X.shape[1]\n",
    "        K = len(np.unique(T))\n",
    "        \n",
    "        self.w = np.zeros((D+1, K))\n",
    "        niter = 10\n",
    "        X = self.add_ones(X)\n",
    "        T = self.add_ones(T.reshape(-1,1))\n",
    "       \n",
    "        for step in range(niter):\n",
    "            ys = self.g(X,self.w)\n",
    "            self.w += self.alpha * X.T @ (T - ys) \n",
    "              \n",
    "    \n",
    "    \n",
    "    def use(self, X):\n",
    "        X = self.normalize(X)\n",
    "        X = self.add_ones(X)\n",
    "        y=self.g(X, self.w)\n",
    "        return y\n",
    "    "
   ]
  },
  {
   "cell_type": "markdown",
   "metadata": {},
   "source": [
    "#### Code Explaination :<br>\n",
    "Logistic Regression is a child class of the class Classifier, so now it can implement all the methods of classifier class. We start with initializing all the variables needed in the init function. In train function we initialize N, D(number of features) and K(number of unique classes in target variable) and also initialize the weight matrix with zeros using np.zeros, then we iterate and and calculate the weights . In the use function we first normalize the data and add bais to the data and the calculate the predictions, here we give call to function 'g' which in return gives call to function softmax, this is the function where we actually calculate the values for our predictions."
   ]
  },
  {
   "cell_type": "markdown",
   "metadata": {},
   "source": [
    "# IV. Experiments\n"
   ]
  },
  {
   "cell_type": "markdown",
   "metadata": {},
   "source": [
    "### 1. Experiments for Pocket Algorithm"
   ]
  },
  {
   "cell_type": "code",
   "execution_count": 100,
   "metadata": {},
   "outputs": [],
   "source": [
    "data123=Cdata.iloc[:2000]"
   ]
  },
  {
   "cell_type": "markdown",
   "metadata": {},
   "source": [
    "We will be using only first 2000 rows of the dataset as it will run fast, becasuse running Pocket algorithm on complete dataset takes very long time."
   ]
  },
  {
   "cell_type": "code",
   "execution_count": 16,
   "metadata": {},
   "outputs": [],
   "source": [
    "from sklearn import model_selection\n",
    "t=data123['RainTomorrow']\n",
    "df1_p=data123.drop(['Date','Location', 'WindDir9am', 'WindDir3pm','Cloud9am','Cloud3pm','Temp9am','WindGustSpeed','Humidity9am','Pressure9am','Temp3pm','WindGustDir','Evaporation','WindSpeed9am','WindSpeed3pm','RainToday','Sunshine','Rainfall','RainTomorrow'],axis=1)\n",
    "\n",
    "xtrain,xtest,ytrain,ytest=model_selection.train_test_split(df1_p,t,test_size=0.30,random_state=40)\n"
   ]
  },
  {
   "cell_type": "code",
   "execution_count": 17,
   "metadata": {},
   "outputs": [
    {
     "name": "stdout",
     "output_type": "stream",
     "text": [
      "End of training:  9\n"
     ]
    }
   ],
   "source": [
    "xtrain=np.asarray(xtrain)\n",
    "ytrain=np.asarray(ytrain)\n",
    "ls = Pocketclass()\n",
    "\n",
    "ls.train(xtrain, ytrain)\n",
    "\n",
    "#Prediction on Training Data\n",
    "Pocket_Train_pred=ls.use(xtrain)\n",
    "\n",
    "#Prediction on Training Data\n",
    "Pocket_Test_pred=ls.use(xtest)"
   ]
  },
  {
   "cell_type": "markdown",
   "metadata": {},
   "source": [
    "#### Evaluation Metrices for Train Data"
   ]
  },
  {
   "cell_type": "code",
   "execution_count": 17,
   "metadata": {},
   "outputs": [
    {
     "name": "stdout",
     "output_type": "stream",
     "text": [
      "Accuracy: 0.7978571428571428\n"
     ]
    }
   ],
   "source": [
    "from sklearn.metrics import precision_score, recall_score, confusion_matrix, classification_report,accuracy_score, f1_score\n",
    "#\n",
    "print('Accuracy:', accuracy_score(ytrain,Pocket_Train_pred))\n"
   ]
  },
  {
   "cell_type": "code",
   "execution_count": 18,
   "metadata": {},
   "outputs": [
    {
     "data": {
      "text/plain": [
       "array([[1117,    0],\n",
       "       [ 283,    0]], dtype=int64)"
      ]
     },
     "execution_count": 18,
     "metadata": {},
     "output_type": "execute_result"
    }
   ],
   "source": [
    "cf=confusion_matrix(ytrain, Pocket_Train_pred)\n",
    "TP=cf[0][0]\n",
    "TN=cf[0][1]\n",
    "FN=cf[1][0]\n",
    "FP=cf[1][1]\n",
    "\n",
    "cf"
   ]
  },
  {
   "cell_type": "code",
   "execution_count": 19,
   "metadata": {},
   "outputs": [
    {
     "data": {
      "text/plain": [
       "Text(33.0, 0.5, 'Target values')"
      ]
     },
     "execution_count": 19,
     "metadata": {},
     "output_type": "execute_result"
    },
    {
     "data": {
      "image/png": "[encoded data removed]",
      "text/plain": [
       "<Figure size 432x288 with 2 Axes>"
      ]
     },
     "metadata": {
      "needs_background": "light"
     },
     "output_type": "display_data"
    }
   ],
   "source": [
    "import pylab as pl\n",
    "\n",
    "ax= plt.subplot()\n",
    "sns.heatmap(cf, annot=True, ax = ax);\n",
    "pl.title('Confusion matrix ')\n",
    "pl.xlabel('predicted values')\n",
    "pl.ylabel('Target values')\n"
   ]
  },
  {
   "cell_type": "code",
   "execution_count": 20,
   "metadata": {},
   "outputs": [
    {
     "data": {
      "text/plain": [
       "1.0"
      ]
     },
     "execution_count": 20,
     "metadata": {},
     "output_type": "execute_result"
    }
   ],
   "source": [
    "precision=(TP/(TP+FP))\n",
    "precision"
   ]
  },
  {
   "cell_type": "code",
   "execution_count": 21,
   "metadata": {},
   "outputs": [
    {
     "data": {
      "text/plain": [
       "0.7978571428571428"
      ]
     },
     "execution_count": 21,
     "metadata": {},
     "output_type": "execute_result"
    }
   ],
   "source": [
    "recall=TP/(TP+FN)\n",
    "recall"
   ]
  },
  {
   "cell_type": "markdown",
   "metadata": {},
   "source": [
    "#### prediction on training data"
   ]
  },
  {
   "cell_type": "code",
   "execution_count": 22,
   "metadata": {
    "scrolled": true
   },
   "outputs": [
    {
     "data": {
      "text/plain": [
       "[<matplotlib.lines.Line2D at 0x21c9d587ba8>]"
      ]
     },
     "execution_count": 22,
     "metadata": {},
     "output_type": "execute_result"
    },
    {
     "data": {
      "image/png": "[encoded data removed]",
      "text/plain": [
       "<Figure size 432x288 with 1 Axes>"
      ]
     },
     "metadata": {
      "needs_background": "light"
     },
     "output_type": "display_data"
    }
   ],
   "source": [
    "plt.plot(Pocket_Train_pred)"
   ]
  },
  {
   "cell_type": "markdown",
   "metadata": {},
   "source": [
    "#### prediction on test data"
   ]
  },
  {
   "cell_type": "code",
   "execution_count": 23,
   "metadata": {
    "scrolled": true
   },
   "outputs": [
    {
     "data": {
      "text/plain": [
       "[<matplotlib.lines.Line2D at 0x21c9d5b5f98>]"
      ]
     },
     "execution_count": 23,
     "metadata": {},
     "output_type": "execute_result"
    },
    {
     "data": {
      "image/png": "[encoded data removed]",
      "text/plain": [
       "<Figure size 432x288 with 1 Axes>"
      ]
     },
     "metadata": {
      "needs_background": "light"
     },
     "output_type": "display_data"
    }
   ],
   "source": [
    "plt.plot(Pocket_Test_pred)"
   ]
  },
  {
   "cell_type": "markdown",
   "metadata": {},
   "source": [
    "#### Comparison of predicted values and target values of test data"
   ]
  },
  {
   "cell_type": "code",
   "execution_count": 146,
   "metadata": {},
   "outputs": [
    {
     "data": {
      "text/plain": [
       "[<matplotlib.lines.Line2D at 0x27cd555d198>]"
      ]
     },
     "execution_count": 146,
     "metadata": {},
     "output_type": "execute_result"
    },
    {
     "data": {
      "image/png": "[encoded data removed]",
      "text/plain": [
       "<Figure size 432x288 with 1 Axes>"
      ]
     },
     "metadata": {
      "needs_background": "light"
     },
     "output_type": "display_data"
    }
   ],
   "source": [
    "plt.plot(ytest,'.')"
   ]
  },
  {
   "cell_type": "code",
   "execution_count": 147,
   "metadata": {
    "scrolled": true
   },
   "outputs": [
    {
     "data": {
      "text/plain": [
       "<matplotlib.legend.Legend at 0x27cd4542a90>"
      ]
     },
     "execution_count": 147,
     "metadata": {},
     "output_type": "execute_result"
    },
    {
     "data": {
      "image/png": "[encoded data removed]",
      "text/plain": [
       "<Figure size 432x288 with 1 Axes>"
      ]
     },
     "metadata": {
      "needs_background": "light"
     },
     "output_type": "display_data"
    }
   ],
   "source": [
    "plt.plot(ytest,'.')\n",
    "plt.plot(Pocket_Test_pred,'.')\n",
    "plt.legend(['ytest','Pocket_Test_pred'])"
   ]
  },
  {
   "cell_type": "markdown",
   "metadata": {},
   "source": [
    "#### Evaluation Metrices for Test Data"
   ]
  },
  {
   "cell_type": "code",
   "execution_count": 25,
   "metadata": {},
   "outputs": [
    {
     "name": "stdout",
     "output_type": "stream",
     "text": [
      "Accuracy: 0.7683333333333333\n"
     ]
    }
   ],
   "source": [
    "from sklearn.metrics import precision_score, recall_score, confusion_matrix, classification_report,accuracy_score\n",
    "#\n",
    "print('Accuracy:', accuracy_score(ytest,Pocket_Test_pred))\n"
   ]
  },
  {
   "cell_type": "code",
   "execution_count": 26,
   "metadata": {},
   "outputs": [
    {
     "data": {
      "text/plain": [
       "array([[461,   0],\n",
       "       [139,   0]], dtype=int64)"
      ]
     },
     "execution_count": 26,
     "metadata": {},
     "output_type": "execute_result"
    }
   ],
   "source": [
    "cf=confusion_matrix(ytest, Pocket_Test_pred)\n",
    "TP=cf[0][0]\n",
    "TN=cf[0][1]\n",
    "FN=cf[1][0]\n",
    "FP=cf[1][1]\n",
    "\n",
    "cf"
   ]
  },
  {
   "cell_type": "code",
   "execution_count": 27,
   "metadata": {},
   "outputs": [
    {
     "data": {
      "text/plain": [
       "Text(33.0, 0.5, 'Target values')"
      ]
     },
     "execution_count": 27,
     "metadata": {},
     "output_type": "execute_result"
    },
    {
     "data": {
      "image/png": "[encoded data removed]",
      "text/plain": [
       "<Figure size 432x288 with 2 Axes>"
      ]
     },
     "metadata": {
      "needs_background": "light"
     },
     "output_type": "display_data"
    }
   ],
   "source": [
    "import pylab as pl\n",
    "import seaborn as sns\n",
    "ax= plt.subplot()\n",
    "sns.heatmap(cf, annot=True, ax = ax);\n",
    "pl.title('Confusion matrix ')\n",
    "pl.xlabel('predicted values')\n",
    "pl.ylabel('Target values')\n"
   ]
  },
  {
   "cell_type": "code",
   "execution_count": 28,
   "metadata": {},
   "outputs": [
    {
     "data": {
      "text/plain": [
       "1.0"
      ]
     },
     "execution_count": 28,
     "metadata": {},
     "output_type": "execute_result"
    }
   ],
   "source": [
    "precision=(TP/(TP+FP))\n",
    "precision"
   ]
  },
  {
   "cell_type": "code",
   "execution_count": 29,
   "metadata": {},
   "outputs": [
    {
     "data": {
      "text/plain": [
       "0.7683333333333333"
      ]
     },
     "execution_count": 29,
     "metadata": {},
     "output_type": "execute_result"
    }
   ],
   "source": [
    "recall=TP/(TP+FN)\n",
    "recall"
   ]
  },
  {
   "cell_type": "markdown",
   "metadata": {},
   "source": [
    "### ROC Curve ans Score"
   ]
  },
  {
   "cell_type": "code",
   "execution_count": 28,
   "metadata": {},
   "outputs": [],
   "source": [
    "from sklearn.metrics import roc_auc_score, roc_curve\n",
    "false_positive_rate, true_positive_rate, thresholds = roc_curve(ytest, Pocket_Test_pred)\n",
    "\n",
    "roc_auc=roc_auc_score(ytest, Pocket_Test_pred)"
   ]
  },
  {
   "cell_type": "code",
   "execution_count": 29,
   "metadata": {},
   "outputs": [
    {
     "data": {
      "image/png": "[encoded data removed]",
      "text/plain": [
       "<Figure size 432x288 with 1 Axes>"
      ]
     },
     "metadata": {
      "needs_background": "light"
     },
     "output_type": "display_data"
    }
   ],
   "source": [
    "plt.plot(true_positive_rate, false_positive_rate, 'b',label='AUC = %0.4f'% roc_auc)\n",
    "plt.legend(loc='lower right')\n",
    "plt.plot([0,1],[0,1],'r--')\n",
    "plt.xlim([-0.1,1.5])\n",
    "plt.ylim([-0.1,1.5])\n",
    "plt.xlabel('True Positive Rate')\n",
    "plt.ylabel('False Positive Rate')\n",
    "plt.show()"
   ]
  },
  {
   "cell_type": "markdown",
   "metadata": {},
   "source": [
    "### 2.Experiments for QDA"
   ]
  },
  {
   "cell_type": "markdown",
   "metadata": {},
   "source": [
    "####  Data Partitioning for QDA and LDA"
   ]
  },
  {
   "cell_type": "code",
   "execution_count": 35,
   "metadata": {},
   "outputs": [],
   "source": [
    "Data=Cdata.drop(['Date','Location', 'WindDir9am', 'WindDir3pm','Cloud9am','Cloud3pm','Temp9am','Temp3pm','WindGustDir','Evaporation','WindSpeed9am','WindSpeed3pm','RainToday','Sunshine','Rainfall'],axis=1)"
   ]
  },
  {
   "cell_type": "code",
   "execution_count": 36,
   "metadata": {},
   "outputs": [],
   "source": [
    "# now partition the data \n",
    "\n",
    "\"\"\" partitioning data\n",
    "\n",
    "    parameters\n",
    "    -----------\n",
    "    X        pd.DataFrame\n",
    "             input data to partition\n",
    "    T        pd.DataFrame\n",
    "             target labels to partition\n",
    "    raito    list\n",
    "             list of ratios for partitions (should be summed to 1) \n",
    "             the number of return pairs are different\n",
    "\"\"\"\n",
    "def partition(X, T, ratio=[0.8, 0.2]): \n",
    "    \n",
    "    assert(np.sum(ratio) == 1)\n",
    "    \n",
    "    # shuffle the data indices \n",
    "    idxs = np.random.permutation(X.index)\n",
    "    \n",
    "    # the number of samples \n",
    "    N = X.shape[0]\n",
    "    \n",
    "    Xs = []\n",
    "    Ts = []\n",
    "    i = 0  # first index to zero\n",
    "    for k, r in enumerate(ratio):\n",
    "        nrows = int(round(N * r))  # number of rows\n",
    "        \n",
    "        if k == len(ratio) -1:\n",
    "            Xs.append(X.iloc[i:, :])\n",
    "            Ts.append(T.iloc[i:, :])\n",
    "        else:\n",
    "            Xs.append(X.iloc[i:i+nrows, :])\n",
    "            Ts.append(T.iloc[i:i+nrows, :])\n",
    "        \n",
    "        i += nrows\n",
    "    \n",
    "    return Xs, Ts\n",
    "\n"
   ]
  },
  {
   "cell_type": "markdown",
   "metadata": {},
   "source": [
    "The above code is used to partition the data in to 4 different parts 2 of which will ne used for training the model(Xtrain, Ttrain) and rest 2 will be used to test the model(Xtest, Ttest)"
   ]
  },
  {
   "cell_type": "code",
   "execution_count": 37,
   "metadata": {},
   "outputs": [],
   "source": [
    "Xlst, Tlst = partition(pd.DataFrame(Data), pd.DataFrame(Cdata.RainTomorrow))"
   ]
  },
  {
   "cell_type": "code",
   "execution_count": 38,
   "metadata": {},
   "outputs": [
    {
     "name": "stderr",
     "output_type": "stream",
     "text": [
      "C:\\Users\\ROHAN BHOSALE\\Anaconda3\\lib\\site-packages\\ipykernel_launcher.py:1: FutureWarning: Method .as_matrix will be removed in a future version. Use .values instead.\n",
      "  \"\"\"Entry point for launching an IPython kernel.\n",
      "C:\\Users\\ROHAN BHOSALE\\Anaconda3\\lib\\site-packages\\ipykernel_launcher.py:2: FutureWarning: Method .as_matrix will be removed in a future version. Use .values instead.\n",
      "  \n"
     ]
    }
   ],
   "source": [
    "Xtrain, Xtest = [xx.as_matrix() for xx in Xlst]\n",
    "Ttrain, Ttest = [tt.as_matrix() for tt in Tlst]"
   ]
  },
  {
   "cell_type": "code",
   "execution_count": 39,
   "metadata": {},
   "outputs": [
    {
     "name": "stderr",
     "output_type": "stream",
     "text": [
      "C:\\Users\\ROHAN BHOSALE\\Anaconda3\\lib\\site-packages\\numpy\\core\\fromnumeric.py:3118: RuntimeWarning: Mean of empty slice.\n",
      "  out=out, **kwargs)\n",
      "C:\\Users\\ROHAN BHOSALE\\Anaconda3\\lib\\site-packages\\numpy\\core\\_methods.py:78: RuntimeWarning: invalid value encountered in true_divide\n",
      "  ret, rcount, out=ret, casting='unsafe', subok=False)\n",
      "C:\\Users\\ROHAN BHOSALE\\Anaconda3\\lib\\site-packages\\ipykernel_launcher.py:42: RuntimeWarning: invalid value encountered in greater\n"
     ]
    }
   ],
   "source": [
    "qda=QDAclass()\n",
    "qda.train(Xtrain,Ttrain)\n",
    "\n",
    "#Prediction on Training Data\n",
    "QDA_Train_d1,QDA_Train_d2,QDA_Train_pred=qda.use(Xtrain)\n",
    "\n",
    "#Prediction on Testing Data\n",
    "QDA_Test_d1,QDA_Test_d2,QDA_Test_pred=qda.use(Xtest)"
   ]
  },
  {
   "cell_type": "markdown",
   "metadata": {},
   "source": [
    "#### Evaluation Metrices for Train Data"
   ]
  },
  {
   "cell_type": "code",
   "execution_count": 40,
   "metadata": {},
   "outputs": [
    {
     "name": "stdout",
     "output_type": "stream",
     "text": [
      "Accuracy: 0.7702586282680169\n"
     ]
    }
   ],
   "source": [
    "from sklearn.metrics import precision_score, recall_score, confusion_matrix, classification_report,accuracy_score\n",
    "print('Accuracy:', accuracy_score(Ttrain,QDA_Train_pred))\n"
   ]
  },
  {
   "cell_type": "code",
   "execution_count": 41,
   "metadata": {},
   "outputs": [
    {
     "data": {
      "text/plain": [
       "array([[87620,     0],\n",
       "       [26134,     0]], dtype=int64)"
      ]
     },
     "execution_count": 41,
     "metadata": {},
     "output_type": "execute_result"
    }
   ],
   "source": [
    "cf=confusion_matrix(Ttrain, QDA_Train_pred)\n",
    "TP=cf[0][0]\n",
    "TN=cf[0][1]\n",
    "FN=cf[1][0]\n",
    "FP=cf[1][1]\n",
    "\n",
    "cf"
   ]
  },
  {
   "cell_type": "code",
   "execution_count": 42,
   "metadata": {},
   "outputs": [
    {
     "data": {
      "text/plain": [
       "Text(33.0, 0.5, 'Target values')"
      ]
     },
     "execution_count": 42,
     "metadata": {},
     "output_type": "execute_result"
    },
    {
     "data": {
      "image/png": "[encoded data removed]",
      "text/plain": [
       "<Figure size 432x288 with 2 Axes>"
      ]
     },
     "metadata": {
      "needs_background": "light"
     },
     "output_type": "display_data"
    }
   ],
   "source": [
    "import pylab as pl\n",
    "import seaborn as sns\n",
    "ax= plt.subplot()\n",
    "sns.heatmap(cf, annot=True, ax = ax);\n",
    "pl.title('Confusion matrix ')\n",
    "pl.xlabel('predicted values')\n",
    "pl.ylabel('Target values')\n"
   ]
  },
  {
   "cell_type": "code",
   "execution_count": 43,
   "metadata": {},
   "outputs": [
    {
     "data": {
      "text/plain": [
       "1.0"
      ]
     },
     "execution_count": 43,
     "metadata": {},
     "output_type": "execute_result"
    }
   ],
   "source": [
    "precision=(TP/(TP+FP))\n",
    "precision\n"
   ]
  },
  {
   "cell_type": "code",
   "execution_count": 44,
   "metadata": {},
   "outputs": [
    {
     "data": {
      "text/plain": [
       "0.7702586282680169"
      ]
     },
     "execution_count": 44,
     "metadata": {},
     "output_type": "execute_result"
    }
   ],
   "source": [
    "recall=TP/(TP+FN)\n",
    "recall"
   ]
  },
  {
   "cell_type": "markdown",
   "metadata": {},
   "source": [
    "#### prediction on training data"
   ]
  },
  {
   "cell_type": "code",
   "execution_count": null,
   "metadata": {},
   "outputs": [],
   "source": []
  },
  {
   "cell_type": "code",
   "execution_count": 45,
   "metadata": {
    "scrolled": true
   },
   "outputs": [
    {
     "data": {
      "text/plain": [
       "[<matplotlib.lines.Line2D at 0x27cc5d32b00>]"
      ]
     },
     "execution_count": 45,
     "metadata": {},
     "output_type": "execute_result"
    },
    {
     "data": {
      "image/png": "[encoded data removed]",
      "text/plain": [
       "<Figure size 432x288 with 1 Axes>"
      ]
     },
     "metadata": {
      "needs_background": "light"
     },
     "output_type": "display_data"
    }
   ],
   "source": [
    "plt.plot(QDA_Train_pred)"
   ]
  },
  {
   "cell_type": "markdown",
   "metadata": {},
   "source": [
    "#### prediction on test data"
   ]
  },
  {
   "cell_type": "code",
   "execution_count": 46,
   "metadata": {
    "scrolled": true
   },
   "outputs": [
    {
     "data": {
      "text/plain": [
       "[<matplotlib.lines.Line2D at 0x27cc5d6e7b8>]"
      ]
     },
     "execution_count": 46,
     "metadata": {},
     "output_type": "execute_result"
    },
    {
     "data": {
      "image/png": "[encoded data removed]",
      "text/plain": [
       "<Figure size 432x288 with 1 Axes>"
      ]
     },
     "metadata": {
      "needs_background": "light"
     },
     "output_type": "display_data"
    }
   ],
   "source": [
    "plt.plot(QDA_Test_pred)"
   ]
  },
  {
   "cell_type": "markdown",
   "metadata": {},
   "source": [
    "#### Comparison of predicted values and target values of test data"
   ]
  },
  {
   "cell_type": "code",
   "execution_count": 144,
   "metadata": {},
   "outputs": [
    {
     "data": {
      "text/plain": [
       "[<matplotlib.lines.Line2D at 0x27cd43f5e80>]"
      ]
     },
     "execution_count": 144,
     "metadata": {},
     "output_type": "execute_result"
    },
    {
     "data": {
      "image/png": "[encoded data removed]",
      "text/plain": [
       "<Figure size 432x288 with 1 Axes>"
      ]
     },
     "metadata": {
      "needs_background": "light"
     },
     "output_type": "display_data"
    }
   ],
   "source": [
    "plt.plot(Ttest,'.')"
   ]
  },
  {
   "cell_type": "code",
   "execution_count": 145,
   "metadata": {
    "scrolled": true
   },
   "outputs": [
    {
     "data": {
      "text/plain": [
       "<matplotlib.legend.Legend at 0x27cd44d88d0>"
      ]
     },
     "execution_count": 145,
     "metadata": {},
     "output_type": "execute_result"
    },
    {
     "data": {
      "image/png": "[encoded data removed]",
      "text/plain": [
       "<Figure size 432x288 with 1 Axes>"
      ]
     },
     "metadata": {
      "needs_background": "light"
     },
     "output_type": "display_data"
    }
   ],
   "source": [
    "plt.plot(Ttest,'.')\n",
    "plt.plot(QDA_Test_pred,'.')\n",
    "plt.legend(['Ttest','QDA_Test_pred'])"
   ]
  },
  {
   "cell_type": "markdown",
   "metadata": {},
   "source": [
    "#### Evaluation Metrices for Test Data"
   ]
  },
  {
   "cell_type": "code",
   "execution_count": 48,
   "metadata": {},
   "outputs": [
    {
     "name": "stdout",
     "output_type": "stream",
     "text": [
      "Accuracy: 0.798059003481135\n"
     ]
    }
   ],
   "source": [
    "from sklearn.metrics import precision_score, recall_score, confusion_matrix, classification_report,accuracy_score\n",
    "print('Accuracy:', accuracy_score(Ttest,QDA_Test_pred))\n"
   ]
  },
  {
   "cell_type": "code",
   "execution_count": 49,
   "metadata": {},
   "outputs": [
    {
     "data": {
      "text/plain": [
       "array([[22696,     0],\n",
       "       [ 5743,     0]], dtype=int64)"
      ]
     },
     "execution_count": 49,
     "metadata": {},
     "output_type": "execute_result"
    }
   ],
   "source": [
    "cf=confusion_matrix(Ttest, QDA_Test_pred)\n",
    "TP=cf[0][0]\n",
    "TN=cf[0][1]\n",
    "FN=cf[1][0]\n",
    "FP=cf[1][1]\n",
    "\n",
    "cf"
   ]
  },
  {
   "cell_type": "code",
   "execution_count": 50,
   "metadata": {},
   "outputs": [
    {
     "data": {
      "text/plain": [
       "Text(33.0, 0.5, 'Target values')"
      ]
     },
     "execution_count": 50,
     "metadata": {},
     "output_type": "execute_result"
    },
    {
     "data": {
      "image/png": "[encoded data removed]",
      "text/plain": [
       "<Figure size 432x288 with 2 Axes>"
      ]
     },
     "metadata": {
      "needs_background": "light"
     },
     "output_type": "display_data"
    }
   ],
   "source": [
    "import pylab as pl\n",
    "import seaborn as sns\n",
    "ax= plt.subplot()\n",
    "sns.heatmap(cf, annot=True, ax = ax);\n",
    "pl.title('Confusion matrix ')\n",
    "pl.xlabel('predicted values')\n",
    "pl.ylabel('Target values')\n"
   ]
  },
  {
   "cell_type": "code",
   "execution_count": 51,
   "metadata": {},
   "outputs": [
    {
     "data": {
      "text/plain": [
       "1.0"
      ]
     },
     "execution_count": 51,
     "metadata": {},
     "output_type": "execute_result"
    }
   ],
   "source": [
    "precision=(TP/(TP+FP))\n",
    "precision\n"
   ]
  },
  {
   "cell_type": "code",
   "execution_count": 52,
   "metadata": {},
   "outputs": [
    {
     "data": {
      "text/plain": [
       "0.798059003481135"
      ]
     },
     "execution_count": 52,
     "metadata": {},
     "output_type": "execute_result"
    }
   ],
   "source": [
    "recall=TP/(TP+FN)\n",
    "recall"
   ]
  },
  {
   "cell_type": "markdown",
   "metadata": {},
   "source": [
    "### ROC Score"
   ]
  },
  {
   "cell_type": "code",
   "execution_count": 53,
   "metadata": {},
   "outputs": [
    {
     "data": {
      "text/plain": [
       "0.5"
      ]
     },
     "execution_count": 53,
     "metadata": {},
     "output_type": "execute_result"
    }
   ],
   "source": [
    "from sklearn.metrics import roc_curve, auc\n",
    "false_positive_rate, true_positive_rate, thresholds = roc_curve(Ttest, QDA_Test_pred)\n",
    "roc_auc = auc(false_positive_rate, true_positive_rate)\n",
    "roc_auc"
   ]
  },
  {
   "cell_type": "code",
   "execution_count": 183,
   "metadata": {},
   "outputs": [
    {
     "name": "stderr",
     "output_type": "stream",
     "text": [
      "C:\\Users\\ROHAN BHOSALE\\Anaconda3\\lib\\site-packages\\ipykernel_launcher.py:42: RuntimeWarning: invalid value encountered in greater\n",
      "C:\\Users\\ROHAN BHOSALE\\Anaconda3\\lib\\site-packages\\ipykernel_launcher.py:6: UserWarning: Z contains NaN values. This may result in rendering artifacts.\n",
      "  \n"
     ]
    },
    {
     "data": {
      "text/plain": [
       "Text(0.5, 0.92, 'QDA Discriminant Functions')"
      ]
     },
     "execution_count": 183,
     "metadata": {},
     "output_type": "execute_result"
    },
    {
     "data": {
      "image/png": "[encoded data removed]",
      "text/plain": [
       "<Figure size 576x576 with 1 Axes>"
      ]
     },
     "metadata": {
      "needs_background": "light"
     },
     "output_type": "display_data"
    }
   ],
   "source": [
    "\n",
    "from mpl_toolkits.mplot3d import Axes3D\n",
    "p,d1,d2=qda.use(Xtest[:10000])\n",
    "xs, ys = np.meshgrid(np.linspace(-3,6, 100), np.linspace(-3,7, 100))\n",
    "fig = plt.figure(figsize=(8,8))\n",
    "ax = fig.gca(projection='3d')\n",
    "ax.plot_surface(xs,ys, d1.reshape(xs.shape), alpha=0.2)\n",
    "ax.plot_surface(xs, ys,d2.reshape(xs.shape), alpha=0.4)\n",
    "plt.title(\"QDA Discriminant Functions\")"
   ]
  },
  {
   "cell_type": "code",
   "execution_count": 184,
   "metadata": {},
   "outputs": [
    {
     "name": "stderr",
     "output_type": "stream",
     "text": [
      "C:\\Users\\ROHAN BHOSALE\\Anaconda3\\lib\\site-packages\\ipykernel_launcher.py:42: RuntimeWarning: invalid value encountered in greater\n",
      "C:\\Users\\ROHAN BHOSALE\\Anaconda3\\lib\\site-packages\\ipykernel_launcher.py:5: RuntimeWarning: invalid value encountered in greater\n",
      "  \"\"\"\n"
     ]
    },
    {
     "data": {
      "text/plain": [
       "Text(0.5, 1.0, 'Decision Boundary')"
      ]
     },
     "execution_count": 184,
     "metadata": {},
     "output_type": "execute_result"
    },
    {
     "data": {
      "image/png": "[encoded data removed]",
      "text/plain": [
       "<Figure size 432x432 with 1 Axes>"
      ]
     },
     "metadata": {
      "needs_background": "light"
     },
     "output_type": "display_data"
    }
   ],
   "source": [
    "\n",
    "from mpl_toolkits.mplot3d import Axes3D\n",
    "p,d1,d2=qda.use(Xtest[:10000])\n",
    "xs, ys = np.meshgrid(np.linspace(-3,6, 100), np.linspace(-3,7, 100))\n",
    "plt.figure(figsize=(6,6))\n",
    "plt.contourf(xs, ys, (d1-d2 > 0).reshape(xs.shape))\n",
    "plt.title(\"Decision Boundary\")"
   ]
  },
  {
   "cell_type": "markdown",
   "metadata": {},
   "source": [
    "### 3.Experiments for LDA"
   ]
  },
  {
   "cell_type": "code",
   "execution_count": 126,
   "metadata": {},
   "outputs": [
    {
     "name": "stderr",
     "output_type": "stream",
     "text": [
      "C:\\Users\\ROHAN BHOSALE\\Anaconda3\\lib\\site-packages\\ipykernel_launcher.py:40: RuntimeWarning: invalid value encountered in greater\n"
     ]
    }
   ],
   "source": [
    "lda=LDAclass()\n",
    "lda.train(Xtrain,Ttrain)\n",
    "\n",
    "#Prediction on Training Data\n",
    "LDA_Train_pred,LDA_Train_d1,LDA_Train_d2=lda.use(Xtrain)\n",
    "\n",
    "#Prediction on Testing Data\n",
    "LDA_Test_pred,LDA_Test_d1,LDA_Test_d2=lda.use(Xtest)\n"
   ]
  },
  {
   "cell_type": "markdown",
   "metadata": {},
   "source": [
    "#### Evaluation Metrices for Train Data"
   ]
  },
  {
   "cell_type": "code",
   "execution_count": 127,
   "metadata": {},
   "outputs": [
    {
     "name": "stdout",
     "output_type": "stream",
     "text": [
      "Accuracy: 0.7702586282680169\n"
     ]
    }
   ],
   "source": [
    "from sklearn.metrics import precision_score, recall_score, confusion_matrix, classification_report,accuracy_score\n",
    "print('Accuracy:', accuracy_score(Ttrain,LDA_Train_pred))"
   ]
  },
  {
   "cell_type": "code",
   "execution_count": 128,
   "metadata": {},
   "outputs": [
    {
     "data": {
      "text/plain": [
       "array([[87620,     0],\n",
       "       [26134,     0]], dtype=int64)"
      ]
     },
     "execution_count": 128,
     "metadata": {},
     "output_type": "execute_result"
    }
   ],
   "source": [
    "\n",
    "cf=confusion_matrix(Ttrain, LDA_Train_pred)\n",
    "TP=cf[0][0]\n",
    "TN=cf[0][1]\n",
    "FN=cf[1][0]\n",
    "FP=cf[1][1]\n",
    "\n",
    "cf"
   ]
  },
  {
   "cell_type": "code",
   "execution_count": 129,
   "metadata": {},
   "outputs": [
    {
     "data": {
      "text/plain": [
       "Text(33.0, 0.5, 'Target values')"
      ]
     },
     "execution_count": 129,
     "metadata": {},
     "output_type": "execute_result"
    },
    {
     "data": {
      "image/png": "[encoded data removed]",
      "text/plain": [
       "<Figure size 432x288 with 2 Axes>"
      ]
     },
     "metadata": {
      "needs_background": "light"
     },
     "output_type": "display_data"
    }
   ],
   "source": [
    "import pylab as pl\n",
    "import seaborn as sns\n",
    "ax= plt.subplot()\n",
    "sns.heatmap(cf, annot=True, ax = ax);\n",
    "pl.title('Confusion matrix ')\n",
    "pl.xlabel('predicted values')\n",
    "pl.ylabel('Target values')\n"
   ]
  },
  {
   "cell_type": "code",
   "execution_count": 130,
   "metadata": {},
   "outputs": [
    {
     "data": {
      "text/plain": [
       "1.0"
      ]
     },
     "execution_count": 130,
     "metadata": {},
     "output_type": "execute_result"
    }
   ],
   "source": [
    "precision=(TP/(TP+FP))\n",
    "precision"
   ]
  },
  {
   "cell_type": "code",
   "execution_count": 131,
   "metadata": {},
   "outputs": [
    {
     "data": {
      "text/plain": [
       "0.7702586282680169"
      ]
     },
     "execution_count": 131,
     "metadata": {},
     "output_type": "execute_result"
    }
   ],
   "source": [
    "recall=TP/(TP+FN)\n",
    "recall"
   ]
  },
  {
   "cell_type": "markdown",
   "metadata": {},
   "source": [
    "#### prediction on training data"
   ]
  },
  {
   "cell_type": "code",
   "execution_count": 132,
   "metadata": {},
   "outputs": [
    {
     "data": {
      "text/plain": [
       "[<matplotlib.lines.Line2D at 0x27cd246e518>]"
      ]
     },
     "execution_count": 132,
     "metadata": {},
     "output_type": "execute_result"
    },
    {
     "data": {
      "image/png": "[encoded data removed]",
      "text/plain": [
       "<Figure size 432x288 with 1 Axes>"
      ]
     },
     "metadata": {
      "needs_background": "light"
     },
     "output_type": "display_data"
    }
   ],
   "source": [
    "plt.plot(LDA_Train_pred)"
   ]
  },
  {
   "cell_type": "markdown",
   "metadata": {},
   "source": [
    "#### prediction on test data"
   ]
  },
  {
   "cell_type": "code",
   "execution_count": 133,
   "metadata": {},
   "outputs": [
    {
     "data": {
      "text/plain": [
       "[<matplotlib.lines.Line2D at 0x27cd28ae1d0>]"
      ]
     },
     "execution_count": 133,
     "metadata": {},
     "output_type": "execute_result"
    },
    {
     "data": {
      "image/png": "[encoded data removed]",
      "text/plain": [
       "<Figure size 432x288 with 1 Axes>"
      ]
     },
     "metadata": {
      "needs_background": "light"
     },
     "output_type": "display_data"
    }
   ],
   "source": [
    "plt.plot(LDA_Test_pred)"
   ]
  },
  {
   "cell_type": "markdown",
   "metadata": {},
   "source": [
    "#### Comparison of predicted values and target values of test data"
   ]
  },
  {
   "cell_type": "code",
   "execution_count": 149,
   "metadata": {},
   "outputs": [
    {
     "data": {
      "text/plain": [
       "[<matplotlib.lines.Line2D at 0x27cd5665a20>]"
      ]
     },
     "execution_count": 149,
     "metadata": {},
     "output_type": "execute_result"
    },
    {
     "data": {
      "image/png": "[encoded data removed]",
      "text/plain": [
       "<Figure size 432x288 with 1 Axes>"
      ]
     },
     "metadata": {
      "needs_background": "light"
     },
     "output_type": "display_data"
    }
   ],
   "source": [
    "plt.plot(Ttest,'.')"
   ]
  },
  {
   "cell_type": "code",
   "execution_count": 148,
   "metadata": {
    "scrolled": true
   },
   "outputs": [
    {
     "data": {
      "text/plain": [
       "<matplotlib.legend.Legend at 0x27cd560a550>"
      ]
     },
     "execution_count": 148,
     "metadata": {},
     "output_type": "execute_result"
    },
    {
     "data": {
      "image/png": "[encoded data removed]",
      "text/plain": [
       "<Figure size 432x288 with 1 Axes>"
      ]
     },
     "metadata": {
      "needs_background": "light"
     },
     "output_type": "display_data"
    }
   ],
   "source": [
    "plt.plot(Ttest,'.')\n",
    "plt.plot(LDA_Test_pred,'.')\n",
    "plt.legend(['Ttest','LDA_Test_pred'])"
   ]
  },
  {
   "cell_type": "markdown",
   "metadata": {},
   "source": [
    "#### Evaluation Metrices for Test Data"
   ]
  },
  {
   "cell_type": "code",
   "execution_count": 135,
   "metadata": {},
   "outputs": [
    {
     "name": "stdout",
     "output_type": "stream",
     "text": [
      "Accuracy: 0.798059003481135\n"
     ]
    }
   ],
   "source": [
    "from sklearn.metrics import precision_score, recall_score, confusion_matrix, classification_report,accuracy_score\n",
    "print('Accuracy:', accuracy_score(Ttest,LDA_Test_pred))\n"
   ]
  },
  {
   "cell_type": "code",
   "execution_count": 136,
   "metadata": {},
   "outputs": [
    {
     "data": {
      "text/plain": [
       "array([[22696,     0],\n",
       "       [ 5743,     0]], dtype=int64)"
      ]
     },
     "execution_count": 136,
     "metadata": {},
     "output_type": "execute_result"
    }
   ],
   "source": [
    "\n",
    "cf=confusion_matrix(Ttest, LDA_Test_pred)\n",
    "TP=cf[0][0]\n",
    "TN=cf[0][1]\n",
    "FN=cf[1][0]\n",
    "FP=cf[1][1]\n",
    "\n",
    "cf"
   ]
  },
  {
   "cell_type": "code",
   "execution_count": 137,
   "metadata": {},
   "outputs": [
    {
     "data": {
      "text/plain": [
       "Text(33.0, 0.5, 'Target values')"
      ]
     },
     "execution_count": 137,
     "metadata": {},
     "output_type": "execute_result"
    },
    {
     "data": {
      "image/png": "[encoded data removed]",
      "text/plain": [
       "<Figure size 432x288 with 2 Axes>"
      ]
     },
     "metadata": {
      "needs_background": "light"
     },
     "output_type": "display_data"
    }
   ],
   "source": [
    "import pylab as pl\n",
    "import seaborn as sns\n",
    "ax= plt.subplot()\n",
    "sns.heatmap(cf, annot=True, ax = ax);\n",
    "pl.title('Confusion matrix ')\n",
    "pl.xlabel('predicted values')\n",
    "pl.ylabel('Target values')\n"
   ]
  },
  {
   "cell_type": "code",
   "execution_count": 138,
   "metadata": {},
   "outputs": [
    {
     "data": {
      "text/plain": [
       "1.0"
      ]
     },
     "execution_count": 138,
     "metadata": {},
     "output_type": "execute_result"
    }
   ],
   "source": [
    "precision=(TP/(TP+FP))\n",
    "precision"
   ]
  },
  {
   "cell_type": "code",
   "execution_count": 139,
   "metadata": {},
   "outputs": [
    {
     "data": {
      "text/plain": [
       "0.798059003481135"
      ]
     },
     "execution_count": 139,
     "metadata": {},
     "output_type": "execute_result"
    }
   ],
   "source": [
    "recall=TP/(TP+FN)\n",
    "recall"
   ]
  },
  {
   "cell_type": "markdown",
   "metadata": {},
   "source": [
    "### ROC Score"
   ]
  },
  {
   "cell_type": "code",
   "execution_count": 140,
   "metadata": {},
   "outputs": [
    {
     "data": {
      "text/plain": [
       "0.5"
      ]
     },
     "execution_count": 140,
     "metadata": {},
     "output_type": "execute_result"
    }
   ],
   "source": [
    "from sklearn.metrics import roc_curve, auc\n",
    "false_positive_rate, true_positive_rate, thresholds = roc_curve(Ttest, LDA_Test_pred)\n",
    "roc_auc = auc(false_positive_rate, true_positive_rate)\n",
    "roc_auc"
   ]
  },
  {
   "cell_type": "code",
   "execution_count": 141,
   "metadata": {},
   "outputs": [
    {
     "name": "stderr",
     "output_type": "stream",
     "text": [
      "C:\\Users\\ROHAN BHOSALE\\Anaconda3\\lib\\site-packages\\ipykernel_launcher.py:40: RuntimeWarning: invalid value encountered in greater\n",
      "C:\\Users\\ROHAN BHOSALE\\Anaconda3\\lib\\site-packages\\ipykernel_launcher.py:5: RuntimeWarning: invalid value encountered in greater\n",
      "  \"\"\"\n"
     ]
    },
    {
     "data": {
      "text/plain": [
       "Text(0.5, 1.0, 'Decision Boundary')"
      ]
     },
     "execution_count": 141,
     "metadata": {},
     "output_type": "execute_result"
    },
    {
     "data": {
      "image/png": "[encoded data removed]",
      "text/plain": [
       "<Figure size 432x432 with 1 Axes>"
      ]
     },
     "metadata": {
      "needs_background": "light"
     },
     "output_type": "display_data"
    }
   ],
   "source": [
    "\n",
    "from mpl_toolkits.mplot3d import Axes3D\n",
    "p,d1,d2=lda.use(Xtest[:10000])\n",
    "xs, ys = np.meshgrid(np.linspace(-3,6, 100), np.linspace(-3,7, 100))\n",
    "plt.figure(figsize=(6,6))\n",
    "plt.contourf(xs, ys, (d1-d2 > 0).reshape(xs.shape))\n",
    "plt.title(\"Decision Boundary\")"
   ]
  },
  {
   "cell_type": "markdown",
   "metadata": {},
   "source": [
    "### Experiments for Logistic Regression"
   ]
  },
  {
   "cell_type": "markdown",
   "metadata": {},
   "source": [
    "#### Data Partitioning for Logistin Regression"
   ]
  },
  {
   "cell_type": "code",
   "execution_count": 151,
   "metadata": {},
   "outputs": [],
   "source": [
    "LData=Cdata.drop(['Date','Location', 'WindDir9am', 'WindDir3pm','Cloud9am','Cloud3pm','Temp9am','Temp3pm','WindGustDir','Evaporation','WindSpeed9am','WindSpeed3pm','RainToday','Sunshine','Rainfall','RainTomorrow'],axis=1)"
   ]
  },
  {
   "cell_type": "code",
   "execution_count": 152,
   "metadata": {},
   "outputs": [],
   "source": [
    "lXlst, lTlst = partition(pd.DataFrame(LData), pd.DataFrame(Cdata.RainTomorrow))"
   ]
  },
  {
   "cell_type": "code",
   "execution_count": 153,
   "metadata": {},
   "outputs": [
    {
     "name": "stderr",
     "output_type": "stream",
     "text": [
      "C:\\Users\\ROHAN BHOSALE\\Anaconda3\\lib\\site-packages\\ipykernel_launcher.py:1: FutureWarning: Method .as_matrix will be removed in a future version. Use .values instead.\n",
      "  \"\"\"Entry point for launching an IPython kernel.\n",
      "C:\\Users\\ROHAN BHOSALE\\Anaconda3\\lib\\site-packages\\ipykernel_launcher.py:2: FutureWarning: Method .as_matrix will be removed in a future version. Use .values instead.\n",
      "  \n"
     ]
    }
   ],
   "source": [
    "lXtrain, lXtest = [xx.as_matrix() for xx in lXlst]\n",
    "lTtrain, lTtest = [tt.as_matrix() for tt in lTlst]"
   ]
  },
  {
   "cell_type": "code",
   "execution_count": 154,
   "metadata": {},
   "outputs": [],
   "source": [
    "lr=LogisticRegression(0.00001)\n",
    "lr.train(lXtrain,lTtrain)\n",
    "\n",
    "#Prediction on Training Data\n",
    "y1=lr.use(lXtrain)\n",
    "\n",
    "\n",
    "#Prediction on Testing Data\n",
    "y2=lr.use(lXtest)"
   ]
  },
  {
   "cell_type": "markdown",
   "metadata": {},
   "source": [
    "####  Evaluation Metrices for Train Data"
   ]
  },
  {
   "cell_type": "code",
   "execution_count": 155,
   "metadata": {},
   "outputs": [],
   "source": [
    "y1 = np.argmax(y1, 1)\n",
    "y_train=np.array(lTtrain)"
   ]
  },
  {
   "cell_type": "code",
   "execution_count": 156,
   "metadata": {},
   "outputs": [
    {
     "name": "stdout",
     "output_type": "stream",
     "text": [
      "Accuracy: 0.7943193206392742\n",
      "F1 score: 0.189602022791036\n"
     ]
    }
   ],
   "source": [
    "from sklearn.metrics import precision_score, recall_score, confusion_matrix, classification_report,accuracy_score\n",
    "print('Accuracy:', accuracy_score(y_train,y1))\n",
    "print('F1 score:', f1_score(y_train,y1))"
   ]
  },
  {
   "cell_type": "code",
   "execution_count": 157,
   "metadata": {},
   "outputs": [
    {
     "data": {
      "text/plain": [
       "array([[87620,     0],\n",
       "       [23397,  2737]], dtype=int64)"
      ]
     },
     "execution_count": 157,
     "metadata": {},
     "output_type": "execute_result"
    }
   ],
   "source": [
    "cf=confusion_matrix(y_train, y1)\n",
    "TP=cf[0][0]\n",
    "TN=cf[0][1]\n",
    "FN=cf[1][0]\n",
    "FP=cf[1][1]\n",
    "\n",
    "cf"
   ]
  },
  {
   "cell_type": "code",
   "execution_count": 158,
   "metadata": {},
   "outputs": [
    {
     "data": {
      "text/plain": [
       "Text(33.0, 0.5, 'Target values')"
      ]
     },
     "execution_count": 158,
     "metadata": {},
     "output_type": "execute_result"
    },
    {
     "data": {
      "image/png": "[encoded data removed]",
      "text/plain": [
       "<Figure size 432x288 with 2 Axes>"
      ]
     },
     "metadata": {
      "needs_background": "light"
     },
     "output_type": "display_data"
    }
   ],
   "source": [
    "import pylab as pl\n",
    "import seaborn as sns\n",
    "ax= plt.subplot()\n",
    "sns.heatmap(cf, annot=True, ax = ax);\n",
    "pl.title('Confusion matrix ')\n",
    "pl.xlabel('predicted values')\n",
    "pl.ylabel('Target values')\n"
   ]
  },
  {
   "cell_type": "code",
   "execution_count": 159,
   "metadata": {},
   "outputs": [
    {
     "data": {
      "text/plain": [
       "0.9697090430182498"
      ]
     },
     "execution_count": 159,
     "metadata": {},
     "output_type": "execute_result"
    }
   ],
   "source": [
    "precision=(TP/(TP+FP))\n",
    "precision"
   ]
  },
  {
   "cell_type": "code",
   "execution_count": 160,
   "metadata": {},
   "outputs": [
    {
     "data": {
      "text/plain": [
       "0.7892484934739724"
      ]
     },
     "execution_count": 160,
     "metadata": {},
     "output_type": "execute_result"
    }
   ],
   "source": [
    "recall=TP/(TP+FN)\n",
    "recall"
   ]
  },
  {
   "cell_type": "markdown",
   "metadata": {},
   "source": [
    "#### prediction on training data"
   ]
  },
  {
   "cell_type": "code",
   "execution_count": 161,
   "metadata": {
    "scrolled": true
   },
   "outputs": [
    {
     "data": {
      "text/plain": [
       "[<matplotlib.lines.Line2D at 0x27cd61a60f0>]"
      ]
     },
     "execution_count": 161,
     "metadata": {},
     "output_type": "execute_result"
    },
    {
     "data": {
      "image/png": "[encoded data removed]",
      "text/plain": [
       "<Figure size 432x288 with 1 Axes>"
      ]
     },
     "metadata": {
      "needs_background": "light"
     },
     "output_type": "display_data"
    }
   ],
   "source": [
    "plt.plot(y1,'.')"
   ]
  },
  {
   "cell_type": "markdown",
   "metadata": {},
   "source": [
    "####  Evaluation Metrices for Test Data"
   ]
  },
  {
   "cell_type": "code",
   "execution_count": 162,
   "metadata": {},
   "outputs": [],
   "source": [
    "y2 = np.argmax(y2, 1)\n",
    "y_test=np.array(lTtest)"
   ]
  },
  {
   "cell_type": "markdown",
   "metadata": {},
   "source": [
    "#### prediction on test data"
   ]
  },
  {
   "cell_type": "code",
   "execution_count": 163,
   "metadata": {},
   "outputs": [
    {
     "data": {
      "text/plain": [
       "[<matplotlib.lines.Line2D at 0x27cd61f82e8>]"
      ]
     },
     "execution_count": 163,
     "metadata": {},
     "output_type": "execute_result"
    },
    {
     "data": {
      "image/png": "[encoded data removed]",
      "text/plain": [
       "<Figure size 432x288 with 1 Axes>"
      ]
     },
     "metadata": {
      "needs_background": "light"
     },
     "output_type": "display_data"
    }
   ],
   "source": [
    "plt.plot(y2,'.')"
   ]
  },
  {
   "cell_type": "markdown",
   "metadata": {},
   "source": [
    "#### Comparison of predicted values and target values of test data"
   ]
  },
  {
   "cell_type": "code",
   "execution_count": 164,
   "metadata": {},
   "outputs": [
    {
     "data": {
      "text/plain": [
       "[<matplotlib.lines.Line2D at 0x27cd70ae4a8>]"
      ]
     },
     "execution_count": 164,
     "metadata": {},
     "output_type": "execute_result"
    },
    {
     "data": {
      "image/png": "[encoded data removed]",
      "text/plain": [
       "<Figure size 432x288 with 1 Axes>"
      ]
     },
     "metadata": {
      "needs_background": "light"
     },
     "output_type": "display_data"
    }
   ],
   "source": [
    "plt.plot(y_test,'.')"
   ]
  },
  {
   "cell_type": "code",
   "execution_count": 165,
   "metadata": {},
   "outputs": [
    {
     "data": {
      "text/plain": [
       "<matplotlib.legend.Legend at 0x27cd70d2cf8>"
      ]
     },
     "execution_count": 165,
     "metadata": {},
     "output_type": "execute_result"
    },
    {
     "data": {
      "image/png": "[encoded data removed]",
      "text/plain": [
       "<Figure size 432x288 with 1 Axes>"
      ]
     },
     "metadata": {
      "needs_background": "light"
     },
     "output_type": "display_data"
    }
   ],
   "source": [
    "plt.plot(y_test,'.')\n",
    "plt.plot(y2,'.')\n",
    "plt.legend(['y_test','y2'])"
   ]
  },
  {
   "cell_type": "code",
   "execution_count": 166,
   "metadata": {},
   "outputs": [
    {
     "name": "stdout",
     "output_type": "stream",
     "text": [
      "Accuracy: 0.823798305144344\n",
      "F1 score: 0.2261003861003861\n"
     ]
    }
   ],
   "source": [
    "from sklearn.metrics import precision_score, recall_score, confusion_matrix, classification_report,accuracy_score, f1_score\n",
    "print('Accuracy:', accuracy_score(y_test,y2))\n",
    "print('F1 score:', f1_score(y_test,y2))"
   ]
  },
  {
   "cell_type": "code",
   "execution_count": 167,
   "metadata": {},
   "outputs": [
    {
     "data": {
      "text/plain": [
       "array([[22696,     0],\n",
       "       [ 5011,   732]], dtype=int64)"
      ]
     },
     "execution_count": 167,
     "metadata": {},
     "output_type": "execute_result"
    }
   ],
   "source": [
    "cf=confusion_matrix(y_test, y2)\n",
    "TP=cf[0][0]\n",
    "TN=cf[0][1]\n",
    "FN=cf[1][0]\n",
    "FP=cf[1][1]\n",
    "\n",
    "cf"
   ]
  },
  {
   "cell_type": "code",
   "execution_count": 168,
   "metadata": {},
   "outputs": [
    {
     "data": {
      "text/plain": [
       "Text(33.0, 0.5, 'Target values')"
      ]
     },
     "execution_count": 168,
     "metadata": {},
     "output_type": "execute_result"
    },
    {
     "data": {
      "image/png": "[encoded data removed]",
      "text/plain": [
       "<Figure size 432x288 with 2 Axes>"
      ]
     },
     "metadata": {
      "needs_background": "light"
     },
     "output_type": "display_data"
    }
   ],
   "source": [
    "import pylab as pl\n",
    "import seaborn as sns\n",
    "ax= plt.subplot()\n",
    "sns.heatmap(cf, annot=True, ax = ax);\n",
    "pl.title('Confusion matrix ')\n",
    "pl.xlabel('predicted values')\n",
    "pl.ylabel('Target values')\n"
   ]
  },
  {
   "cell_type": "code",
   "execution_count": 169,
   "metadata": {},
   "outputs": [
    {
     "data": {
      "text/plain": [
       "0.9687553354959877"
      ]
     },
     "execution_count": 169,
     "metadata": {},
     "output_type": "execute_result"
    }
   ],
   "source": [
    "precision=(TP/(TP+FP))\n",
    "precision"
   ]
  },
  {
   "cell_type": "code",
   "execution_count": 170,
   "metadata": {},
   "outputs": [
    {
     "data": {
      "text/plain": [
       "0.8191431768145234"
      ]
     },
     "execution_count": 170,
     "metadata": {},
     "output_type": "execute_result"
    }
   ],
   "source": [
    "recall=TP/(TP+FN)\n",
    "recall"
   ]
  },
  {
   "cell_type": "markdown",
   "metadata": {},
   "source": [
    "### ROC Curve ans Score"
   ]
  },
  {
   "cell_type": "code",
   "execution_count": 171,
   "metadata": {},
   "outputs": [
    {
     "data": {
      "text/plain": [
       "0.5637297579662197"
      ]
     },
     "execution_count": 171,
     "metadata": {},
     "output_type": "execute_result"
    }
   ],
   "source": [
    "from sklearn.metrics import roc_auc_score,roc_curve,auc\n",
    "roc_auc_score(y_test, y2)"
   ]
  },
  {
   "cell_type": "code",
   "execution_count": 172,
   "metadata": {
    "scrolled": true
   },
   "outputs": [
    {
     "data": {
      "image/png": "[encoded data removed]",
      "text/plain": [
       "<Figure size 432x288 with 1 Axes>"
      ]
     },
     "metadata": {
      "needs_background": "light"
     },
     "output_type": "display_data"
    }
   ],
   "source": [
    "true_positive_rate, false_positive_rate, thresholds = roc_curve(y_test, y2)\n",
    "roc_auc = auc(true_positive_rate, false_positive_rate)\n",
    "\n",
    "plt.plot(true_positive_rate, false_positive_rate, 'b',label='AUC = %0.3f'% roc_auc)\n",
    "plt.legend(loc='lower right')\n",
    "plt.plot([0,1],[0,1],'r--')\n",
    "plt.xlim([-0.1,1.2])\n",
    "plt.ylim([-0.1,1.2])\n",
    "plt.xlabel('True Positive Rate')\n",
    "plt.ylabel('False Positive Rate')\n",
    "plt.show()"
   ]
  },
  {
   "cell_type": "markdown",
   "metadata": {},
   "source": [
    "### Discussion about evaluation metrics:\n",
    "\n",
    "It is hard to evaluate our algorithms just by their prediction values, there have to be different ways in which we can evaluate them. So we here are evaluating our algorithms with different types of evaluation metrices. We will be evaluating our algorithms on the basis of 'Accuracy', 'Confusion Matrix' we will be calculating precision and recall values on the basis of confusion matrix, we will  also be calculating 'ROC accuracy' and pllotting 'ROC Curve' to get a better idea.<br>\n",
    "\n",
    "1. Confusion Matrix:<br>\n",
    "A much better way to evaluate the performance of a classifier is to look at the confusion matrix. The general idea is to count the number of times instances of class A are classified as class B.  compute the confusion matrix, you first need to have a set of predictions, so they can be compared to the actual targets. You could make predictions on the test set.<br> <br>\n",
    "2. Precision:<br>\n",
    "The confusion matrix gives you alot of information, but sometimes you may prefer a more concise metric. An interesting one to look at is the accuracy of the positive predictions; this is called the precision of the classifier.<br> $$precision=TP / {TP+FP}$$ wehre TP is true positive and FP is false positive.<br><br>\n",
    "3. Recall: <br>\n",
    " recall, also called sensitivity or true positive rate (TPR): this is the ratio of positive instances that are correctly detected by the classifier. Precision and recall are typically used together.<br> $$ Recall = TP/{TP+FN}$$ where TP is true positive and FN is false negetive. <br><br>\n",
    "4. ROC Curve:<br>\n",
    "A receiver operating characteristic curve, or ROC curve, is a graphical plot that illustrates the diagnostic ability of a binary classifier system as its discrimination threshold is varied.The ROC curve is created by plotting the true positive rate (TPR) against the false positive rate (FPR) at various threshold settings. The true-positive rate is also known as sensitivity, recall or probability of detection in machine learning. The false-positive rate is also known as the fall-out or probability of false alarm.<br><br> "
   ]
  },
  {
   "cell_type": "markdown",
   "metadata": {},
   "source": [
    "### Discussion about train and test accuracies:\n",
    "\n",
    "##### 1.Pocket Algorithm:<br>\n",
    "Results for Training data:<br>\n",
    "Accuracy: 0.7978571428571428<br>\n",
    "Precision: 1.0<br>\n",
    "Recall: 0.7978571428571428<br>\n",
    "\n",
    "Results for Test data:<br>\n",
    "Accuracy: 0.7683333333333333<br>\n",
    "Precision: 1.0<br>\n",
    "Recall: 0.7683333333333333<br>\n",
    "ROC Accuracy: 0.5<br><br>\n",
    "Here we  can see that accuracy on test data slightly decreases than on train data, recall value also slightly dcreases. Which means that the algorithm is not working well on test data as on Train data. So we can say that here pocket algorithm is overfitting abit.<br>\n",
    "\n",
    "##### 2.QDA Algorithm:<br>\n",
    "Results for Training data:<br>\n",
    "Accuracy: 0.7702586282680169<br>\n",
    "Precision:1.0<br>\n",
    "Recall:0.7702586282680169<br>\n",
    "\n",
    "Results for Test data:<br>\n",
    "Accuracy: 0.798059003481135<br>\n",
    "Precision: 1.0<br>\n",
    "Recall: 0.798059003481135<br>\n",
    "ROC Accuracy: 0.5<br><br>\n",
    "Here we  can see that accuracy on test data slightly increases than on train data, recall value also slightly increases. Which means that the algorithm is working better on test data than on Train data. So we can say that here QDA algorithm is doing a good job on test data and is classifying well.<br>\n",
    "\n",
    "##### 3.LDA Algorithm:<br>\n",
    "Results for Training data:<br>\n",
    "Accuracy: 0.7702586282680169<br>\n",
    "Precision:1.0<br>\n",
    "Recall:0.7702586282680169<br>\n",
    "\n",
    "Results for Test data:<br>\n",
    "Accuracy: 0.798059003481135<br>\n",
    "Precision:1.0<br>\n",
    "Recall:0.798059003481135<br>\n",
    "ROC Accuracy: 0.5<br><br>\n",
    "Here we  can see that accuracy on test data slightly increases than on train data, recall value also slightly increases. Which means that the algorithm is working better on test data than on Train data. So we can say that here QDA algorithm is doing a good job on test data and is classifying well.<br>\n",
    "\n",
    "##### 4.Logistic Regression Algorithm:<br>\n",
    "Results for Training data:<br>\n",
    "Accuracy: 0.7943193206392742<br>\n",
    "F1 score: 0.189602022791036<br>\n",
    "Precision:0.9697090430182498<br>\n",
    "Recall:0.7892484934739724<br>\n",
    "\n",
    "Results for Test data:<br>\n",
    "Accuracy: 0.823798305144344<br>\n",
    "F1 score: 0.2261003861003861<br>\n",
    "Precision:0.9687553354959877<br>\n",
    "Recall:0.8191431768145234<br>\n",
    "ROC Accuracy:0.5637297579662197<br><br>\n",
    "Here we can see that accuracy on the Test set increases significantly than on the train set also we see and increase in F1 score, Precision and recall values which means that the algorithm is working really well on test data and is able to classify well. We can say that the algorithm is working well.<br>"
   ]
  },
  {
   "cell_type": "markdown",
   "metadata": {},
   "source": [
    "### Discussions about classificaion model comparison:\n",
    "On the basis of values of our evaluation metrices for our algorithms we can conclude that Logistic Regression worked best on our data as it has Accuracy, ROC accuracy and recall Values better than other 3 algorithms. On the basis of same evaluation metrices we can say QDA and LDA algorithms works best after Logistic Regression that is they can be our second choice as both of them have same Accuracy, Precision, Recall and ROC accuracy values for our data. The algorithm that worked bad on our data set was Pocket Algorithm as we coud see it worked better on Training data but did not work as expected on testing data, which means it clearly overfitted which is not good.\n",
    "<br><br>\n",
    "Values of Evaluation Matrices on our testing dataset are as follows:\n",
    "<br>\n",
    "1.Pocket Algorithm:<br>\n",
    "Accuracy: 0.7683333333333333<br>\n",
    "Precision: 1.0<br>\n",
    "Recall: 0.7683333333333333<br>\n",
    "ROC Accuracy: 0.5<br><br>\n",
    "2.QDA Algorithm:<br>\n",
    "Accuracy: 0.798059003481135<br>\n",
    "Precision: 1.0<br>\n",
    "Recall: 0.798059003481135<br>\n",
    "ROC Accuracy: 0.5<br><br>\n",
    "3.LDA Algorithm:<br>\n",
    "Accuracy: 0.798059003481135<br>\n",
    "Precision:1.0<br>\n",
    "Recall:0.798059003481135<br>\n",
    "ROC Accuracy: 0.5<br><br>\n",
    "4.Logistic Regression Algorithm:<br>\n",
    "Accuracy: 0.823798305144344<br>\n",
    "F1 score: 0.2261003861003861<br>\n",
    "Precision:0.9687553354959877<br>\n",
    "Recall:0.8191431768145234<br>\n",
    "ROC Accuracy:0.5637297579662197<br><br>"
   ]
  },
  {
   "cell_type": "markdown",
   "metadata": {},
   "source": [
    "# Conclusions\n",
    "\n",
    "In this assignment we have Written codes for different classification algorithms like Pocket algorithm, QDA Algorithm, LDA Algorithm, Logistic Regression. We have also evaluated our algorithms with help of different evaluation metrices like precision, recall and accuracy. With the help of these values we can understand and predict that how well are our algorithms working. After implementation of all the algorithms I have come to an conclusion that Logistic Regression works better that other 3 algorithms as it gave good accuracy on the data. The hardest part in this assignment was to figure out the errors that came while implementing algorithms also while running pocket algorithm it took very long if we run it on complete data so I had to reduce the number of rows so as to make it run faster. We can say that, while implementing this assignment we get a fair and good idea about hoe these algorithms work and which one should we choose so that it works better while working with different kinds of data.    "
   ]
  },
  {
   "cell_type": "markdown",
   "metadata": {},
   "source": [
    "# References\n",
    "\n",
    "[1] Goodfellow, Ian, et al. Deep Learning. MIT Press, 2016.<br>\n",
    "[2] Young, Joe. “Rain in Australia.” Kaggle, 3 Dec. 2018, https://www.kaggle.com/jsphyg/weather-dataset-rattle-package/metadata.<br>\n",
    "[3] Prof.Minwoo J. Lee ,Class Notebooks (Class Notes)<br>\n",
    "[4] “Sklearn.metrics.roc_curve¶.” Scikit, https://scikit-learn.org/stable/modules/generated/sklearn.metrics.roc_curve.html.<br>\n",
    "[5] hmghalyhmghaly 46022 gold badges1010 silver badges3434 bronze badges, et al. “Sklearn Plot Confusion Matrix with Labels.” Stack Overflow, 1 Jan. 1964, https://stackoverflow.com/questions/19233771/sklearn-plot-confusion-matrix-with-labels/48018785.<br>\n",
    "[6] “Receiver Operating Characteristic.” Wikipedia, Wikimedia Foundation, 8 Oct. 2019, https://en.wikipedia.org/wiki/Receiver_operating_characteristic.\n"
   ]
  },
  {
   "cell_type": "markdown",
   "metadata": {},
   "source": [
    "# Extra Credit\n",
    "\n",
    "* Partition your data into five sets. Selecting one test set and the other for training, repeat your experiments and observe/analyze the 5 different training/testing errors.  "
   ]
  },
  {
   "cell_type": "markdown",
   "metadata": {},
   "source": [
    "### 1. Pocket Algorithm"
   ]
  },
  {
   "cell_type": "code",
   "execution_count": 89,
   "metadata": {},
   "outputs": [],
   "source": [
    "data123=Cdata.iloc[:2000]\n",
    "t=data123['RainTomorrow']\n",
    "df1_p=data123.drop(['Date','Location', 'WindDir9am', 'WindDir3pm','Cloud9am','Cloud3pm','Temp9am','WindGustSpeed','Humidity9am','Pressure9am','Temp3pm','WindGustDir','Evaporation','WindSpeed9am','WindSpeed3pm','RainToday','Sunshine','Rainfall','RainTomorrow'],axis=1)\n"
   ]
  },
  {
   "cell_type": "code",
   "execution_count": 90,
   "metadata": {},
   "outputs": [],
   "source": [
    "#data partitioning\n",
    "df1_p1=df1_p.iloc[:400]\n",
    "df1_p2=df1_p.iloc[400:800]\n",
    "df1_p3=df1_p.iloc[800:1200]\n",
    "df1_p4=df1_p.iloc[1200:1600]\n",
    "df1_p5=df1_p.iloc[1600:2000]"
   ]
  },
  {
   "cell_type": "code",
   "execution_count": 91,
   "metadata": {},
   "outputs": [],
   "source": [
    "#target value partitioning\n",
    "t1=t.iloc[:400]\n",
    "t2=t.iloc[400:800]\n",
    "t3=t.iloc[800:1200]\n",
    "t4=t.iloc[1200:1600]\n",
    "t5=t.iloc[1600:2000]"
   ]
  },
  {
   "cell_type": "code",
   "execution_count": 92,
   "metadata": {},
   "outputs": [],
   "source": [
    "test1=df1_p1\n",
    "Target_test1=t1\n",
    "train1=pd.concat([df1_p2,df1_p3,df1_p4,df1_p5])\n",
    "Target_train1=pd.concat([t2,t3,t4,t5])\n",
    "\n",
    "test2=df1_p2\n",
    "Target_test2=t2\n",
    "train2=pd.concat([df1_p1,df1_p3,df1_p4,df1_p5])\n",
    "Target_train2=pd.concat([t1,t3,t4,t5])\n",
    "\n",
    "test3=df1_p3\n",
    "Target_test3=t3\n",
    "train3=pd.concat([df1_p1,df1_p2,df1_p4,df1_p5])\n",
    "Target_train3=pd.concat([t1,t2,t4,t5])\n",
    "\n",
    "test4=df1_p4\n",
    "Target_test4=t4\n",
    "train4=pd.concat([df1_p1,df1_p2,df1_p3,df1_p5])\n",
    "Target_train4=pd.concat([t1,t2,t3,t5])\n",
    "\n",
    "test5=df1_p5\n",
    "Target_test5=t5\n",
    "train5=pd.concat([df1_p1,df1_p2,df1_p3,df1_p4])\n",
    "Target_train5=pd.concat([t1,t2,t3,t4])\n"
   ]
  },
  {
   "cell_type": "markdown",
   "metadata": {},
   "source": [
    "### Test1"
   ]
  },
  {
   "cell_type": "code",
   "execution_count": 93,
   "metadata": {},
   "outputs": [
    {
     "name": "stdout",
     "output_type": "stream",
     "text": [
      "End of training:  9\n"
     ]
    }
   ],
   "source": [
    "xtrain=np.asarray(train1)\n",
    "ytrain=np.asarray(Target_train1)\n",
    "ls = Pocketclass()\n",
    "\n",
    "ls.train(xtrain, ytrain)\n",
    "\n",
    "#Prediction on Training Data\n",
    "Pocket_Train_pred=ls.use(xtrain)\n",
    "\n",
    "#Prediction on Training Data\n",
    "Pocket_Test_pred=ls.use(test1)"
   ]
  },
  {
   "cell_type": "code",
   "execution_count": 94,
   "metadata": {},
   "outputs": [
    {
     "name": "stdout",
     "output_type": "stream",
     "text": [
      "Accuracy: 0.7825\n"
     ]
    }
   ],
   "source": [
    "from sklearn.metrics import precision_score, recall_score, confusion_matrix, classification_report,accuracy_score\n",
    "#\n",
    "print('Accuracy:', accuracy_score(Target_test1,Pocket_Test_pred))\n"
   ]
  },
  {
   "cell_type": "code",
   "execution_count": 95,
   "metadata": {},
   "outputs": [
    {
     "data": {
      "text/plain": [
       "array([[313,   0],\n",
       "       [ 87,   0]], dtype=int64)"
      ]
     },
     "execution_count": 95,
     "metadata": {},
     "output_type": "execute_result"
    }
   ],
   "source": [
    "cf=confusion_matrix(Target_test1, Pocket_Test_pred)\n",
    "TP=cf[0][0]\n",
    "TN=cf[0][1]\n",
    "FN=cf[1][0]\n",
    "FP=cf[1][1]\n",
    "\n",
    "cf"
   ]
  },
  {
   "cell_type": "code",
   "execution_count": 96,
   "metadata": {},
   "outputs": [
    {
     "data": {
      "text/plain": [
       "1.0"
      ]
     },
     "execution_count": 96,
     "metadata": {},
     "output_type": "execute_result"
    }
   ],
   "source": [
    "precision=(TP/(TP+FP))\n",
    "precision"
   ]
  },
  {
   "cell_type": "code",
   "execution_count": 97,
   "metadata": {},
   "outputs": [
    {
     "data": {
      "text/plain": [
       "0.7825"
      ]
     },
     "execution_count": 97,
     "metadata": {},
     "output_type": "execute_result"
    }
   ],
   "source": [
    "recall=TP/(TP+FN)\n",
    "recall"
   ]
  },
  {
   "cell_type": "code",
   "execution_count": 98,
   "metadata": {},
   "outputs": [
    {
     "data": {
      "text/plain": [
       "[<matplotlib.lines.Line2D at 0x21ca892d7b8>]"
      ]
     },
     "execution_count": 98,
     "metadata": {},
     "output_type": "execute_result"
    },
    {
     "data": {
      "image/png": "[encoded data removed]",
      "text/plain": [
       "<Figure size 432x288 with 1 Axes>"
      ]
     },
     "metadata": {
      "needs_background": "light"
     },
     "output_type": "display_data"
    }
   ],
   "source": [
    "plt.plot(Pocket_Test_pred,'.')"
   ]
  },
  {
   "cell_type": "code",
   "execution_count": 99,
   "metadata": {},
   "outputs": [
    {
     "data": {
      "text/plain": [
       "[<matplotlib.lines.Line2D at 0x21ca0289a58>]"
      ]
     },
     "execution_count": 99,
     "metadata": {},
     "output_type": "execute_result"
    },
    {
     "data": {
      "image/png": "[encoded data removed]",
      "text/plain": [
       "<Figure size 432x288 with 1 Axes>"
      ]
     },
     "metadata": {
      "needs_background": "light"
     },
     "output_type": "display_data"
    }
   ],
   "source": [
    "plt.plot(Target_test1,'.')"
   ]
  },
  {
   "cell_type": "markdown",
   "metadata": {},
   "source": [
    "### Test2"
   ]
  },
  {
   "cell_type": "code",
   "execution_count": 100,
   "metadata": {},
   "outputs": [
    {
     "name": "stdout",
     "output_type": "stream",
     "text": [
      "End of training:  9\n"
     ]
    }
   ],
   "source": [
    "xtrain=np.asarray(train2)\n",
    "ytrain=np.asarray(Target_train2)\n",
    "ls = Pocketclass()\n",
    "\n",
    "ls.train(xtrain, ytrain)\n",
    "\n",
    "#Prediction on Training Data\n",
    "Pocket_Train_pred=ls.use(xtrain)\n",
    "\n",
    "#Prediction on Training Data\n",
    "Pocket_Test_pred=ls.use(test2)"
   ]
  },
  {
   "cell_type": "code",
   "execution_count": 101,
   "metadata": {},
   "outputs": [
    {
     "name": "stdout",
     "output_type": "stream",
     "text": [
      "Accuracy: 0.765\n"
     ]
    }
   ],
   "source": [
    "from sklearn.metrics import precision_score, recall_score, confusion_matrix, classification_report,accuracy_score\n",
    "#\n",
    "print('Accuracy:', accuracy_score(Target_test2,Pocket_Test_pred))\n"
   ]
  },
  {
   "cell_type": "code",
   "execution_count": 102,
   "metadata": {},
   "outputs": [
    {
     "data": {
      "text/plain": [
       "array([[306,   0],\n",
       "       [ 94,   0]], dtype=int64)"
      ]
     },
     "execution_count": 102,
     "metadata": {},
     "output_type": "execute_result"
    }
   ],
   "source": [
    "cf=confusion_matrix(Target_test2, Pocket_Test_pred)\n",
    "TP=cf[0][0]\n",
    "TN=cf[0][1]\n",
    "FN=cf[1][0]\n",
    "FP=cf[1][1]\n",
    "\n",
    "cf"
   ]
  },
  {
   "cell_type": "code",
   "execution_count": 103,
   "metadata": {},
   "outputs": [
    {
     "data": {
      "text/plain": [
       "1.0"
      ]
     },
     "execution_count": 103,
     "metadata": {},
     "output_type": "execute_result"
    }
   ],
   "source": [
    "precision=(TP/(TP+FP))\n",
    "precision"
   ]
  },
  {
   "cell_type": "code",
   "execution_count": 104,
   "metadata": {},
   "outputs": [
    {
     "data": {
      "text/plain": [
       "0.765"
      ]
     },
     "execution_count": 104,
     "metadata": {},
     "output_type": "execute_result"
    }
   ],
   "source": [
    "recall=TP/(TP+FN)\n",
    "recall"
   ]
  },
  {
   "cell_type": "code",
   "execution_count": 105,
   "metadata": {},
   "outputs": [
    {
     "data": {
      "text/plain": [
       "[<matplotlib.lines.Line2D at 0x21ca89aa278>]"
      ]
     },
     "execution_count": 105,
     "metadata": {},
     "output_type": "execute_result"
    },
    {
     "data": {
      "image/png": "[encoded data removed]",
      "text/plain": [
       "<Figure size 432x288 with 1 Axes>"
      ]
     },
     "metadata": {
      "needs_background": "light"
     },
     "output_type": "display_data"
    }
   ],
   "source": [
    "plt.plot(Pocket_Test_pred,'.')"
   ]
  },
  {
   "cell_type": "code",
   "execution_count": 106,
   "metadata": {},
   "outputs": [
    {
     "data": {
      "text/plain": [
       "[<matplotlib.lines.Line2D at 0x21ca509ff60>]"
      ]
     },
     "execution_count": 106,
     "metadata": {},
     "output_type": "execute_result"
    },
    {
     "data": {
      "image/png": "[encoded data removed]",
      "text/plain": [
       "<Figure size 432x288 with 1 Axes>"
      ]
     },
     "metadata": {
      "needs_background": "light"
     },
     "output_type": "display_data"
    }
   ],
   "source": [
    "plt.plot(Target_test2,'.')"
   ]
  },
  {
   "cell_type": "markdown",
   "metadata": {},
   "source": [
    "### Test3"
   ]
  },
  {
   "cell_type": "code",
   "execution_count": 107,
   "metadata": {},
   "outputs": [
    {
     "name": "stdout",
     "output_type": "stream",
     "text": [
      "End of training:  9\n"
     ]
    }
   ],
   "source": [
    "xtrain=np.asarray(train3)\n",
    "ytrain=np.asarray(Target_train3)\n",
    "ls = Pocketclass()\n",
    "\n",
    "ls.train(xtrain, ytrain)\n",
    "\n",
    "#Prediction on Training Data\n",
    "Pocket_Train_pred=ls.use(xtrain)\n",
    "\n",
    "#Prediction on Training Data\n",
    "Pocket_Test_pred=ls.use(test3)"
   ]
  },
  {
   "cell_type": "code",
   "execution_count": 108,
   "metadata": {},
   "outputs": [
    {
     "name": "stdout",
     "output_type": "stream",
     "text": [
      "Accuracy: 0.7925\n"
     ]
    }
   ],
   "source": [
    "from sklearn.metrics import precision_score, recall_score, confusion_matrix, classification_report,accuracy_score\n",
    "#\n",
    "print('Accuracy:', accuracy_score(Target_test3,Pocket_Test_pred))\n"
   ]
  },
  {
   "cell_type": "code",
   "execution_count": 109,
   "metadata": {},
   "outputs": [
    {
     "data": {
      "text/plain": [
       "array([[317,   0],\n",
       "       [ 83,   0]], dtype=int64)"
      ]
     },
     "execution_count": 109,
     "metadata": {},
     "output_type": "execute_result"
    }
   ],
   "source": [
    "cf=confusion_matrix(Target_test3, Pocket_Test_pred)\n",
    "TP=cf[0][0]\n",
    "TN=cf[0][1]\n",
    "FN=cf[1][0]\n",
    "FP=cf[1][1]\n",
    "\n",
    "cf"
   ]
  },
  {
   "cell_type": "code",
   "execution_count": 110,
   "metadata": {},
   "outputs": [
    {
     "data": {
      "text/plain": [
       "1.0"
      ]
     },
     "execution_count": 110,
     "metadata": {},
     "output_type": "execute_result"
    }
   ],
   "source": [
    "precision=(TP/(TP+FP))\n",
    "precision"
   ]
  },
  {
   "cell_type": "code",
   "execution_count": 111,
   "metadata": {},
   "outputs": [
    {
     "data": {
      "text/plain": [
       "0.7925"
      ]
     },
     "execution_count": 111,
     "metadata": {},
     "output_type": "execute_result"
    }
   ],
   "source": [
    "recall=TP/(TP+FN)\n",
    "recall"
   ]
  },
  {
   "cell_type": "code",
   "execution_count": 112,
   "metadata": {},
   "outputs": [
    {
     "data": {
      "text/plain": [
       "[<matplotlib.lines.Line2D at 0x21ca8a13550>]"
      ]
     },
     "execution_count": 112,
     "metadata": {},
     "output_type": "execute_result"
    },
    {
     "data": {
      "image/png": "[encoded data removed]",
      "text/plain": [
       "<Figure size 432x288 with 1 Axes>"
      ]
     },
     "metadata": {
      "needs_background": "light"
     },
     "output_type": "display_data"
    }
   ],
   "source": [
    "plt.plot(Pocket_Test_pred,'.')"
   ]
  },
  {
   "cell_type": "code",
   "execution_count": 113,
   "metadata": {},
   "outputs": [
    {
     "data": {
      "text/plain": [
       "[<matplotlib.lines.Line2D at 0x21ca8a74278>]"
      ]
     },
     "execution_count": 113,
     "metadata": {},
     "output_type": "execute_result"
    },
    {
     "data": {
      "image/png": "[encoded data removed]",
      "text/plain": [
       "<Figure size 432x288 with 1 Axes>"
      ]
     },
     "metadata": {
      "needs_background": "light"
     },
     "output_type": "display_data"
    }
   ],
   "source": [
    "plt.plot(Target_test3,'.')"
   ]
  },
  {
   "cell_type": "markdown",
   "metadata": {},
   "source": [
    "### Test4"
   ]
  },
  {
   "cell_type": "code",
   "execution_count": 114,
   "metadata": {},
   "outputs": [
    {
     "name": "stdout",
     "output_type": "stream",
     "text": [
      "End of training:  9\n"
     ]
    }
   ],
   "source": [
    "xtrain=np.asarray(train4)\n",
    "ytrain=np.asarray(Target_train4)\n",
    "ls = Pocketclass()\n",
    "\n",
    "ls.train(xtrain, ytrain)\n",
    "\n",
    "#Prediction on Training Data\n",
    "Pocket_Train_pred=ls.use(xtrain)\n",
    "\n",
    "#Prediction on Training Data\n",
    "Pocket_Test_pred=ls.use(test4)"
   ]
  },
  {
   "cell_type": "code",
   "execution_count": 115,
   "metadata": {},
   "outputs": [
    {
     "name": "stdout",
     "output_type": "stream",
     "text": [
      "Accuracy: 0.8125\n"
     ]
    }
   ],
   "source": [
    "from sklearn.metrics import precision_score, recall_score, confusion_matrix, classification_report,accuracy_score\n",
    "#\n",
    "print('Accuracy:', accuracy_score(Target_test4,Pocket_Test_pred))\n"
   ]
  },
  {
   "cell_type": "code",
   "execution_count": 116,
   "metadata": {},
   "outputs": [
    {
     "data": {
      "text/plain": [
       "array([[325,   0],\n",
       "       [ 75,   0]], dtype=int64)"
      ]
     },
     "execution_count": 116,
     "metadata": {},
     "output_type": "execute_result"
    }
   ],
   "source": [
    "cf=confusion_matrix(Target_test4, Pocket_Test_pred)\n",
    "TP=cf[0][0]\n",
    "TN=cf[0][1]\n",
    "FN=cf[1][0]\n",
    "FP=cf[1][1]\n",
    "\n",
    "cf"
   ]
  },
  {
   "cell_type": "code",
   "execution_count": 117,
   "metadata": {},
   "outputs": [
    {
     "data": {
      "text/plain": [
       "1.0"
      ]
     },
     "execution_count": 117,
     "metadata": {},
     "output_type": "execute_result"
    }
   ],
   "source": [
    "precision=(TP/(TP+FP))\n",
    "precision"
   ]
  },
  {
   "cell_type": "code",
   "execution_count": 118,
   "metadata": {},
   "outputs": [
    {
     "data": {
      "text/plain": [
       "0.8125"
      ]
     },
     "execution_count": 118,
     "metadata": {},
     "output_type": "execute_result"
    }
   ],
   "source": [
    "recall=TP/(TP+FN)\n",
    "recall"
   ]
  },
  {
   "cell_type": "code",
   "execution_count": 119,
   "metadata": {},
   "outputs": [
    {
     "data": {
      "text/plain": [
       "[<matplotlib.lines.Line2D at 0x21ca9aae828>]"
      ]
     },
     "execution_count": 119,
     "metadata": {},
     "output_type": "execute_result"
    },
    {
     "data": {
      "image/png": "[encoded data removed]",
      "text/plain": [
       "<Figure size 432x288 with 1 Axes>"
      ]
     },
     "metadata": {
      "needs_background": "light"
     },
     "output_type": "display_data"
    }
   ],
   "source": [
    "plt.plot(Pocket_Test_pred,'.')"
   ]
  },
  {
   "cell_type": "code",
   "execution_count": 120,
   "metadata": {},
   "outputs": [
    {
     "data": {
      "text/plain": [
       "[<matplotlib.lines.Line2D at 0x21ca9b10550>]"
      ]
     },
     "execution_count": 120,
     "metadata": {},
     "output_type": "execute_result"
    },
    {
     "data": {
      "image/png": "[encoded data removed]",
      "text/plain": [
       "<Figure size 432x288 with 1 Axes>"
      ]
     },
     "metadata": {
      "needs_background": "light"
     },
     "output_type": "display_data"
    }
   ],
   "source": [
    "plt.plot(Target_test4,'.')"
   ]
  },
  {
   "cell_type": "markdown",
   "metadata": {},
   "source": [
    "### Test5"
   ]
  },
  {
   "cell_type": "code",
   "execution_count": 121,
   "metadata": {},
   "outputs": [
    {
     "name": "stdout",
     "output_type": "stream",
     "text": [
      "End of training:  9\n"
     ]
    }
   ],
   "source": [
    "xtrain=np.asarray(train5)\n",
    "ytrain=np.asarray(Target_train5)\n",
    "ls = Pocketclass()\n",
    "\n",
    "ls.train(xtrain, ytrain)\n",
    "\n",
    "#Prediction on Training Data\n",
    "Pocket_Train_pred=ls.use(xtrain)\n",
    "\n",
    "#Prediction on Training Data\n",
    "Pocket_Test_pred=ls.use(test5)"
   ]
  },
  {
   "cell_type": "code",
   "execution_count": 122,
   "metadata": {},
   "outputs": [
    {
     "name": "stdout",
     "output_type": "stream",
     "text": [
      "Accuracy: 0.7925\n"
     ]
    }
   ],
   "source": [
    "from sklearn.metrics import precision_score, recall_score, confusion_matrix, classification_report,accuracy_score\n",
    "#\n",
    "print('Accuracy:', accuracy_score(Target_test5,Pocket_Test_pred))\n"
   ]
  },
  {
   "cell_type": "code",
   "execution_count": 123,
   "metadata": {},
   "outputs": [
    {
     "data": {
      "text/plain": [
       "array([[317,   0],\n",
       "       [ 83,   0]], dtype=int64)"
      ]
     },
     "execution_count": 123,
     "metadata": {},
     "output_type": "execute_result"
    }
   ],
   "source": [
    "cf=confusion_matrix(Target_test5, Pocket_Test_pred)\n",
    "TP=cf[0][0]\n",
    "TN=cf[0][1]\n",
    "FN=cf[1][0]\n",
    "FP=cf[1][1]\n",
    "\n",
    "cf"
   ]
  },
  {
   "cell_type": "code",
   "execution_count": 124,
   "metadata": {},
   "outputs": [
    {
     "data": {
      "text/plain": [
       "1.0"
      ]
     },
     "execution_count": 124,
     "metadata": {},
     "output_type": "execute_result"
    }
   ],
   "source": [
    "precision=(TP/(TP+FP))\n",
    "precision"
   ]
  },
  {
   "cell_type": "code",
   "execution_count": 125,
   "metadata": {},
   "outputs": [
    {
     "data": {
      "text/plain": [
       "0.7925"
      ]
     },
     "execution_count": 125,
     "metadata": {},
     "output_type": "execute_result"
    }
   ],
   "source": [
    "recall=TP/(TP+FN)\n",
    "recall"
   ]
  },
  {
   "cell_type": "code",
   "execution_count": 126,
   "metadata": {},
   "outputs": [
    {
     "data": {
      "text/plain": [
       "[<matplotlib.lines.Line2D at 0x21ca9b76b00>]"
      ]
     },
     "execution_count": 126,
     "metadata": {},
     "output_type": "execute_result"
    },
    {
     "data": {
      "image/png": "[encoded data removed]",
      "text/plain": [
       "<Figure size 432x288 with 1 Axes>"
      ]
     },
     "metadata": {
      "needs_background": "light"
     },
     "output_type": "display_data"
    }
   ],
   "source": [
    "plt.plot(Pocket_Test_pred,'.')"
   ]
  },
  {
   "cell_type": "code",
   "execution_count": 127,
   "metadata": {},
   "outputs": [
    {
     "data": {
      "text/plain": [
       "[<matplotlib.lines.Line2D at 0x21ca9bd8860>]"
      ]
     },
     "execution_count": 127,
     "metadata": {},
     "output_type": "execute_result"
    },
    {
     "data": {
      "image/png": "[encoded data removed]",
      "text/plain": [
       "<Figure size 432x288 with 1 Axes>"
      ]
     },
     "metadata": {
      "needs_background": "light"
     },
     "output_type": "display_data"
    }
   ],
   "source": [
    "plt.plot(Target_test5,'.')"
   ]
  },
  {
   "cell_type": "markdown",
   "metadata": {},
   "source": [
    "### QDA Algorithm"
   ]
  },
  {
   "cell_type": "code",
   "execution_count": 128,
   "metadata": {},
   "outputs": [],
   "source": [
    "Data=Cdata.drop(['Date','Location', 'WindDir9am', 'WindDir3pm','Cloud9am','Cloud3pm','Temp9am','Temp3pm','WindGustDir','Evaporation','WindSpeed9am','WindSpeed3pm','RainToday','Sunshine','Rainfall'],axis=1)"
   ]
  },
  {
   "cell_type": "code",
   "execution_count": 129,
   "metadata": {},
   "outputs": [],
   "source": [
    "t=pd.DataFrame(Cdata.RainTomorrow)"
   ]
  },
  {
   "cell_type": "code",
   "execution_count": 130,
   "metadata": {},
   "outputs": [
    {
     "data": {
      "text/plain": [
       "(142193, 1)"
      ]
     },
     "execution_count": 130,
     "metadata": {},
     "output_type": "execute_result"
    }
   ],
   "source": [
    "t.shape"
   ]
  },
  {
   "cell_type": "code",
   "execution_count": 131,
   "metadata": {},
   "outputs": [],
   "source": [
    "data1=Data.iloc[:28438]\n",
    "data2=Data.iloc[28438:56876]\n",
    "data3=Data.iloc[56876:85314]\n",
    "data4=Data.iloc[85314:113752]\n",
    "data5=Data.iloc[113752:142190]"
   ]
  },
  {
   "cell_type": "code",
   "execution_count": 132,
   "metadata": {},
   "outputs": [],
   "source": [
    "t1=t.iloc[:28438]\n",
    "t2=t.iloc[28438:56876]\n",
    "t3=t.iloc[56876:85314]\n",
    "t4=t.iloc[85314:113752]\n",
    "t5=t.iloc[113752:142190]"
   ]
  },
  {
   "cell_type": "code",
   "execution_count": 133,
   "metadata": {},
   "outputs": [
    {
     "name": "stderr",
     "output_type": "stream",
     "text": [
      "C:\\Users\\ROHAN BHOSALE\\Anaconda3\\lib\\site-packages\\ipykernel_launcher.py:1: FutureWarning: Method .as_matrix will be removed in a future version. Use .values instead.\n",
      "  \"\"\"Entry point for launching an IPython kernel.\n",
      "C:\\Users\\ROHAN BHOSALE\\Anaconda3\\lib\\site-packages\\ipykernel_launcher.py:2: FutureWarning: Method .as_matrix will be removed in a future version. Use .values instead.\n",
      "  \n",
      "C:\\Users\\ROHAN BHOSALE\\Anaconda3\\lib\\site-packages\\ipykernel_launcher.py:4: FutureWarning: Method .as_matrix will be removed in a future version. Use .values instead.\n",
      "  after removing the cwd from sys.path.\n",
      "C:\\Users\\ROHAN BHOSALE\\Anaconda3\\lib\\site-packages\\ipykernel_launcher.py:6: FutureWarning: Method .as_matrix will be removed in a future version. Use .values instead.\n",
      "  \n",
      "C:\\Users\\ROHAN BHOSALE\\Anaconda3\\lib\\site-packages\\ipykernel_launcher.py:8: FutureWarning: Method .as_matrix will be removed in a future version. Use .values instead.\n",
      "  \n",
      "C:\\Users\\ROHAN BHOSALE\\Anaconda3\\lib\\site-packages\\ipykernel_launcher.py:9: FutureWarning: Method .as_matrix will be removed in a future version. Use .values instead.\n",
      "  if __name__ == '__main__':\n",
      "C:\\Users\\ROHAN BHOSALE\\Anaconda3\\lib\\site-packages\\ipykernel_launcher.py:11: FutureWarning: Method .as_matrix will be removed in a future version. Use .values instead.\n",
      "  # This is added back by InteractiveShellApp.init_path()\n",
      "C:\\Users\\ROHAN BHOSALE\\Anaconda3\\lib\\site-packages\\ipykernel_launcher.py:13: FutureWarning: Method .as_matrix will be removed in a future version. Use .values instead.\n",
      "  del sys.path[0]\n",
      "C:\\Users\\ROHAN BHOSALE\\Anaconda3\\lib\\site-packages\\ipykernel_launcher.py:15: FutureWarning: Method .as_matrix will be removed in a future version. Use .values instead.\n",
      "  from ipykernel import kernelapp as app\n",
      "C:\\Users\\ROHAN BHOSALE\\Anaconda3\\lib\\site-packages\\ipykernel_launcher.py:16: FutureWarning: Method .as_matrix will be removed in a future version. Use .values instead.\n",
      "  app.launch_new_instance()\n",
      "C:\\Users\\ROHAN BHOSALE\\Anaconda3\\lib\\site-packages\\ipykernel_launcher.py:18: FutureWarning: Method .as_matrix will be removed in a future version. Use .values instead.\n",
      "C:\\Users\\ROHAN BHOSALE\\Anaconda3\\lib\\site-packages\\ipykernel_launcher.py:20: FutureWarning: Method .as_matrix will be removed in a future version. Use .values instead.\n",
      "C:\\Users\\ROHAN BHOSALE\\Anaconda3\\lib\\site-packages\\ipykernel_launcher.py:22: FutureWarning: Method .as_matrix will be removed in a future version. Use .values instead.\n",
      "C:\\Users\\ROHAN BHOSALE\\Anaconda3\\lib\\site-packages\\ipykernel_launcher.py:23: FutureWarning: Method .as_matrix will be removed in a future version. Use .values instead.\n",
      "C:\\Users\\ROHAN BHOSALE\\Anaconda3\\lib\\site-packages\\ipykernel_launcher.py:25: FutureWarning: Method .as_matrix will be removed in a future version. Use .values instead.\n",
      "C:\\Users\\ROHAN BHOSALE\\Anaconda3\\lib\\site-packages\\ipykernel_launcher.py:27: FutureWarning: Method .as_matrix will be removed in a future version. Use .values instead.\n",
      "C:\\Users\\ROHAN BHOSALE\\Anaconda3\\lib\\site-packages\\ipykernel_launcher.py:29: FutureWarning: Method .as_matrix will be removed in a future version. Use .values instead.\n",
      "C:\\Users\\ROHAN BHOSALE\\Anaconda3\\lib\\site-packages\\ipykernel_launcher.py:30: FutureWarning: Method .as_matrix will be removed in a future version. Use .values instead.\n",
      "C:\\Users\\ROHAN BHOSALE\\Anaconda3\\lib\\site-packages\\ipykernel_launcher.py:32: FutureWarning: Method .as_matrix will be removed in a future version. Use .values instead.\n",
      "C:\\Users\\ROHAN BHOSALE\\Anaconda3\\lib\\site-packages\\ipykernel_launcher.py:34: FutureWarning: Method .as_matrix will be removed in a future version. Use .values instead.\n"
     ]
    }
   ],
   "source": [
    "test1=data1.as_matrix()\n",
    "Target_test1=t1.as_matrix()\n",
    "train1=pd.concat([data2,data3,data4,data5])\n",
    "train1=train1.as_matrix()\n",
    "Target_train1=pd.concat([t2,t3,t4,t5])\n",
    "Target_train1=Target_train1.as_matrix()\n",
    "\n",
    "test2=data2.as_matrix()\n",
    "Target_test2=t2.as_matrix()\n",
    "train2=pd.concat([data1,data3,data4,data5])\n",
    "train2=train2.as_matrix()\n",
    "Target_train2=pd.concat([t1,t3,t4,t5])\n",
    "Target_train2=Target_train2.as_matrix()\n",
    "\n",
    "test3=data3.as_matrix()\n",
    "Target_test3=t3.as_matrix()\n",
    "train3=pd.concat([data1,data2,data4,data5])\n",
    "train3=train3.as_matrix()\n",
    "Target_train3=pd.concat([t1,t2,t4,t5])\n",
    "Target_train3=Target_train3.as_matrix()\n",
    "\n",
    "test4=data4.as_matrix()\n",
    "Target_test4=t4.as_matrix()\n",
    "train4=pd.concat([data1,data2,data3,data5])\n",
    "train4=train4.as_matrix()\n",
    "Target_train4=pd.concat([t1,t2,t3,t5])\n",
    "Target_train4=Target_train4.as_matrix()\n",
    "\n",
    "test5=data5.as_matrix()\n",
    "Target_test5=t5.as_matrix()\n",
    "train5=pd.concat([data1,data2,data3,data4])\n",
    "train5=train5.as_matrix()\n",
    "Target_train5=pd.concat([t1,t2,t3,t4])\n",
    "Target_train5=Target_train5.as_matrix()"
   ]
  },
  {
   "cell_type": "markdown",
   "metadata": {},
   "source": [
    "### Test1"
   ]
  },
  {
   "cell_type": "code",
   "execution_count": 134,
   "metadata": {},
   "outputs": [
    {
     "name": "stderr",
     "output_type": "stream",
     "text": [
      "C:\\Users\\ROHAN BHOSALE\\Anaconda3\\lib\\site-packages\\numpy\\core\\fromnumeric.py:3118: RuntimeWarning: Mean of empty slice.\n",
      "  out=out, **kwargs)\n",
      "C:\\Users\\ROHAN BHOSALE\\Anaconda3\\lib\\site-packages\\numpy\\core\\_methods.py:78: RuntimeWarning: invalid value encountered in true_divide\n",
      "  ret, rcount, out=ret, casting='unsafe', subok=False)\n",
      "C:\\Users\\ROHAN BHOSALE\\Anaconda3\\lib\\site-packages\\ipykernel_launcher.py:42: RuntimeWarning: invalid value encountered in greater\n"
     ]
    }
   ],
   "source": [
    "qda=QDAclass()\n",
    "qda.train(train1,Target_train1)\n",
    "\n",
    "#Prediction on Training Data\n",
    "QDA_Train_d1,QDA_Train_d2,QDA_Train_pred=qda.use(train1)\n",
    "\n",
    "#Prediction on Testing Data\n",
    "QDA_Test_d1,QDA_Test_d2,QDA_Test_pred=qda.use(test1)"
   ]
  },
  {
   "cell_type": "code",
   "execution_count": 135,
   "metadata": {},
   "outputs": [
    {
     "name": "stdout",
     "output_type": "stream",
     "text": [
      "Accuracy: 0.7804346297207961\n"
     ]
    }
   ],
   "source": [
    "from sklearn.metrics import precision_score, recall_score, confusion_matrix, classification_report,accuracy_score\n",
    "print('Accuracy:', accuracy_score(Target_test1,QDA_Test_pred))"
   ]
  },
  {
   "cell_type": "code",
   "execution_count": 136,
   "metadata": {},
   "outputs": [
    {
     "data": {
      "text/plain": [
       "array([[22194,     0],\n",
       "       [ 6244,     0]], dtype=int64)"
      ]
     },
     "execution_count": 136,
     "metadata": {},
     "output_type": "execute_result"
    }
   ],
   "source": [
    "cf=confusion_matrix(Target_test1, QDA_Test_pred)\n",
    "TP=cf[0][0]\n",
    "TN=cf[0][1]\n",
    "FN=cf[1][0]\n",
    "FP=cf[1][1]\n",
    "\n",
    "cf"
   ]
  },
  {
   "cell_type": "code",
   "execution_count": 137,
   "metadata": {},
   "outputs": [
    {
     "data": {
      "text/plain": [
       "1.0"
      ]
     },
     "execution_count": 137,
     "metadata": {},
     "output_type": "execute_result"
    }
   ],
   "source": [
    "precision=(TP/(TP+FP))\n",
    "precision\n"
   ]
  },
  {
   "cell_type": "code",
   "execution_count": 138,
   "metadata": {},
   "outputs": [
    {
     "data": {
      "text/plain": [
       "0.7804346297207961"
      ]
     },
     "execution_count": 138,
     "metadata": {},
     "output_type": "execute_result"
    }
   ],
   "source": [
    "recall=TP/(TP+FN)\n",
    "recall"
   ]
  },
  {
   "cell_type": "code",
   "execution_count": 139,
   "metadata": {},
   "outputs": [
    {
     "data": {
      "text/plain": [
       "[<matplotlib.lines.Line2D at 0x21cad8d6048>]"
      ]
     },
     "execution_count": 139,
     "metadata": {},
     "output_type": "execute_result"
    },
    {
     "data": {
      "image/png": "[encoded data removed]",
      "text/plain": [
       "<Figure size 432x288 with 1 Axes>"
      ]
     },
     "metadata": {
      "needs_background": "light"
     },
     "output_type": "display_data"
    }
   ],
   "source": [
    "plt.plot(QDA_Test_pred)"
   ]
  },
  {
   "cell_type": "code",
   "execution_count": 140,
   "metadata": {},
   "outputs": [
    {
     "data": {
      "text/plain": [
       "[<matplotlib.lines.Line2D at 0x21cad920cc0>]"
      ]
     },
     "execution_count": 140,
     "metadata": {},
     "output_type": "execute_result"
    },
    {
     "data": {
      "image/png": "[encoded data removed]",
      "text/plain": [
       "<Figure size 432x288 with 1 Axes>"
      ]
     },
     "metadata": {
      "needs_background": "light"
     },
     "output_type": "display_data"
    }
   ],
   "source": [
    "plt.plot(Target_test1,'.')"
   ]
  },
  {
   "cell_type": "markdown",
   "metadata": {},
   "source": [
    "### Test2"
   ]
  },
  {
   "cell_type": "code",
   "execution_count": 141,
   "metadata": {},
   "outputs": [
    {
     "name": "stderr",
     "output_type": "stream",
     "text": [
      "C:\\Users\\ROHAN BHOSALE\\Anaconda3\\lib\\site-packages\\ipykernel_launcher.py:42: RuntimeWarning: invalid value encountered in greater\n"
     ]
    }
   ],
   "source": [
    "qda=QDAclass()\n",
    "qda.train(train2,Target_train2)\n",
    "\n",
    "#Prediction on Training Data\n",
    "QDA_Train_d1,QDA_Train_d2,QDA_Train_pred=qda.use(train2)\n",
    "\n",
    "#Prediction on Testing Data\n",
    "QDA_Test_d1,QDA_Test_d2,QDA_Test_pred=qda.use(test2)"
   ]
  },
  {
   "cell_type": "code",
   "execution_count": 142,
   "metadata": {},
   "outputs": [
    {
     "name": "stdout",
     "output_type": "stream",
     "text": [
      "Accuracy: 0.7672480483859625\n"
     ]
    }
   ],
   "source": [
    "from sklearn.metrics import precision_score, recall_score, confusion_matrix, classification_report,accuracy_score\n",
    "print('Accuracy:', accuracy_score(Target_test2,QDA_Test_pred))"
   ]
  },
  {
   "cell_type": "code",
   "execution_count": 143,
   "metadata": {},
   "outputs": [
    {
     "data": {
      "text/plain": [
       "array([[21819,     0],\n",
       "       [ 6619,     0]], dtype=int64)"
      ]
     },
     "execution_count": 143,
     "metadata": {},
     "output_type": "execute_result"
    }
   ],
   "source": [
    "cf=confusion_matrix(Target_test2, QDA_Test_pred)\n",
    "TP=cf[0][0]\n",
    "TN=cf[0][1]\n",
    "FN=cf[1][0]\n",
    "FP=cf[1][1]\n",
    "\n",
    "cf"
   ]
  },
  {
   "cell_type": "code",
   "execution_count": 144,
   "metadata": {},
   "outputs": [
    {
     "data": {
      "text/plain": [
       "1.0"
      ]
     },
     "execution_count": 144,
     "metadata": {},
     "output_type": "execute_result"
    }
   ],
   "source": [
    "precision=(TP/(TP+FP))\n",
    "precision\n"
   ]
  },
  {
   "cell_type": "code",
   "execution_count": 145,
   "metadata": {},
   "outputs": [
    {
     "data": {
      "text/plain": [
       "0.7672480483859625"
      ]
     },
     "execution_count": 145,
     "metadata": {},
     "output_type": "execute_result"
    }
   ],
   "source": [
    "recall=TP/(TP+FN)\n",
    "recall"
   ]
  },
  {
   "cell_type": "code",
   "execution_count": 146,
   "metadata": {},
   "outputs": [
    {
     "data": {
      "text/plain": [
       "[<matplotlib.lines.Line2D at 0x21cad98b240>]"
      ]
     },
     "execution_count": 146,
     "metadata": {},
     "output_type": "execute_result"
    },
    {
     "data": {
      "image/png": "[encoded data removed]",
      "text/plain": [
       "<Figure size 432x288 with 1 Axes>"
      ]
     },
     "metadata": {
      "needs_background": "light"
     },
     "output_type": "display_data"
    }
   ],
   "source": [
    "plt.plot(QDA_Test_pred)"
   ]
  },
  {
   "cell_type": "code",
   "execution_count": 147,
   "metadata": {},
   "outputs": [
    {
     "data": {
      "text/plain": [
       "[<matplotlib.lines.Line2D at 0x21cad9daef0>]"
      ]
     },
     "execution_count": 147,
     "metadata": {},
     "output_type": "execute_result"
    },
    {
     "data": {
      "image/png": "[encoded data removed]",
      "text/plain": [
       "<Figure size 432x288 with 1 Axes>"
      ]
     },
     "metadata": {
      "needs_background": "light"
     },
     "output_type": "display_data"
    }
   ],
   "source": [
    "plt.plot(Target_test2,'.')"
   ]
  },
  {
   "cell_type": "markdown",
   "metadata": {},
   "source": [
    "### Test3"
   ]
  },
  {
   "cell_type": "code",
   "execution_count": 148,
   "metadata": {},
   "outputs": [
    {
     "name": "stderr",
     "output_type": "stream",
     "text": [
      "C:\\Users\\ROHAN BHOSALE\\Anaconda3\\lib\\site-packages\\ipykernel_launcher.py:42: RuntimeWarning: invalid value encountered in greater\n"
     ]
    }
   ],
   "source": [
    "qda=QDAclass()\n",
    "qda.train(train3,Target_train3)\n",
    "\n",
    "#Prediction on Training Data\n",
    "QDA_Train_d1,QDA_Train_d2,QDA_Train_pred=qda.use(train3)\n",
    "\n",
    "#Prediction on Testing Data\n",
    "QDA_Test_d1,QDA_Test_d2,QDA_Test_pred=qda.use(test3)"
   ]
  },
  {
   "cell_type": "code",
   "execution_count": 149,
   "metadata": {},
   "outputs": [
    {
     "name": "stdout",
     "output_type": "stream",
     "text": [
      "Accuracy: 0.7658766439271397\n"
     ]
    }
   ],
   "source": [
    "from sklearn.metrics import precision_score, recall_score, confusion_matrix, classification_report,accuracy_score\n",
    "print('Accuracy:', accuracy_score(Target_test3,QDA_Test_pred))"
   ]
  },
  {
   "cell_type": "code",
   "execution_count": 150,
   "metadata": {},
   "outputs": [
    {
     "data": {
      "text/plain": [
       "array([[21780,     0],\n",
       "       [ 6658,     0]], dtype=int64)"
      ]
     },
     "execution_count": 150,
     "metadata": {},
     "output_type": "execute_result"
    }
   ],
   "source": [
    "cf=confusion_matrix(Target_test3, QDA_Test_pred)\n",
    "TP=cf[0][0]\n",
    "TN=cf[0][1]\n",
    "FN=cf[1][0]\n",
    "FP=cf[1][1]\n",
    "\n",
    "cf"
   ]
  },
  {
   "cell_type": "code",
   "execution_count": 151,
   "metadata": {},
   "outputs": [
    {
     "data": {
      "text/plain": [
       "1.0"
      ]
     },
     "execution_count": 151,
     "metadata": {},
     "output_type": "execute_result"
    }
   ],
   "source": [
    "precision=(TP/(TP+FP))\n",
    "precision\n"
   ]
  },
  {
   "cell_type": "code",
   "execution_count": 152,
   "metadata": {},
   "outputs": [
    {
     "data": {
      "text/plain": [
       "0.7658766439271397"
      ]
     },
     "execution_count": 152,
     "metadata": {},
     "output_type": "execute_result"
    }
   ],
   "source": [
    "recall=TP/(TP+FN)\n",
    "recall"
   ]
  },
  {
   "cell_type": "code",
   "execution_count": 153,
   "metadata": {},
   "outputs": [
    {
     "data": {
      "text/plain": [
       "[<matplotlib.lines.Line2D at 0x21cada45470>]"
      ]
     },
     "execution_count": 153,
     "metadata": {},
     "output_type": "execute_result"
    },
    {
     "data": {
      "image/png": "[encoded data removed]",
      "text/plain": [
       "<Figure size 432x288 with 1 Axes>"
      ]
     },
     "metadata": {
      "needs_background": "light"
     },
     "output_type": "display_data"
    }
   ],
   "source": [
    "plt.plot(QDA_Test_pred)"
   ]
  },
  {
   "cell_type": "code",
   "execution_count": 154,
   "metadata": {},
   "outputs": [
    {
     "data": {
      "text/plain": [
       "[<matplotlib.lines.Line2D at 0x21cadaa30b8>]"
      ]
     },
     "execution_count": 154,
     "metadata": {},
     "output_type": "execute_result"
    },
    {
     "data": {
      "image/png": "[encoded data removed]",
      "text/plain": [
       "<Figure size 432x288 with 1 Axes>"
      ]
     },
     "metadata": {
      "needs_background": "light"
     },
     "output_type": "display_data"
    }
   ],
   "source": [
    "plt.plot(Target_test3,'.')"
   ]
  },
  {
   "cell_type": "markdown",
   "metadata": {},
   "source": [
    "### Test 4"
   ]
  },
  {
   "cell_type": "code",
   "execution_count": 155,
   "metadata": {},
   "outputs": [
    {
     "name": "stderr",
     "output_type": "stream",
     "text": [
      "C:\\Users\\ROHAN BHOSALE\\Anaconda3\\lib\\site-packages\\ipykernel_launcher.py:42: RuntimeWarning: invalid value encountered in greater\n"
     ]
    }
   ],
   "source": [
    "qda=QDAclass()\n",
    "qda.train(train4,Target_train4)\n",
    "\n",
    "#Prediction on Training Data\n",
    "QDA_Train_d1,QDA_Train_d2,QDA_Train_pred=qda.use(train4)\n",
    "\n",
    "#Prediction on Testing Data\n",
    "QDA_Test_d1,QDA_Test_d2,QDA_Test_pred=qda.use(test4)"
   ]
  },
  {
   "cell_type": "code",
   "execution_count": 156,
   "metadata": {},
   "outputs": [
    {
     "name": "stdout",
     "output_type": "stream",
     "text": [
      "Accuracy: 0.7674941979042127\n"
     ]
    }
   ],
   "source": [
    "from sklearn.metrics import precision_score, recall_score, confusion_matrix, classification_report,accuracy_score\n",
    "print('Accuracy:', accuracy_score(Target_test4,QDA_Test_pred))"
   ]
  },
  {
   "cell_type": "code",
   "execution_count": 157,
   "metadata": {},
   "outputs": [
    {
     "data": {
      "text/plain": [
       "array([[21826,     0],\n",
       "       [ 6612,     0]], dtype=int64)"
      ]
     },
     "execution_count": 157,
     "metadata": {},
     "output_type": "execute_result"
    }
   ],
   "source": [
    "cf=confusion_matrix(Target_test4, QDA_Test_pred)\n",
    "TP=cf[0][0]\n",
    "TN=cf[0][1]\n",
    "FN=cf[1][0]\n",
    "FP=cf[1][1]\n",
    "\n",
    "cf"
   ]
  },
  {
   "cell_type": "code",
   "execution_count": 158,
   "metadata": {},
   "outputs": [
    {
     "data": {
      "text/plain": [
       "1.0"
      ]
     },
     "execution_count": 158,
     "metadata": {},
     "output_type": "execute_result"
    }
   ],
   "source": [
    "precision=(TP/(TP+FP))\n",
    "precision\n"
   ]
  },
  {
   "cell_type": "code",
   "execution_count": 159,
   "metadata": {},
   "outputs": [
    {
     "data": {
      "text/plain": [
       "0.7674941979042127"
      ]
     },
     "execution_count": 159,
     "metadata": {},
     "output_type": "execute_result"
    }
   ],
   "source": [
    "recall=TP/(TP+FN)\n",
    "recall"
   ]
  },
  {
   "cell_type": "code",
   "execution_count": 160,
   "metadata": {},
   "outputs": [
    {
     "data": {
      "text/plain": [
       "[<matplotlib.lines.Line2D at 0x21cadb04630>]"
      ]
     },
     "execution_count": 160,
     "metadata": {},
     "output_type": "execute_result"
    },
    {
     "data": {
      "image/png": "[encoded data removed]",
      "text/plain": [
       "<Figure size 432x288 with 1 Axes>"
      ]
     },
     "metadata": {
      "needs_background": "light"
     },
     "output_type": "display_data"
    }
   ],
   "source": [
    "plt.plot(QDA_Test_pred)"
   ]
  },
  {
   "cell_type": "code",
   "execution_count": 161,
   "metadata": {},
   "outputs": [
    {
     "data": {
      "text/plain": [
       "[<matplotlib.lines.Line2D at 0x21cadb612e8>]"
      ]
     },
     "execution_count": 161,
     "metadata": {},
     "output_type": "execute_result"
    },
    {
     "data": {
      "image/png": "[encoded data removed]",
      "text/plain": [
       "<Figure size 432x288 with 1 Axes>"
      ]
     },
     "metadata": {
      "needs_background": "light"
     },
     "output_type": "display_data"
    }
   ],
   "source": [
    "plt.plot(Target_test4,'.')"
   ]
  },
  {
   "cell_type": "markdown",
   "metadata": {},
   "source": [
    "### Test 5 "
   ]
  },
  {
   "cell_type": "code",
   "execution_count": 162,
   "metadata": {},
   "outputs": [
    {
     "name": "stderr",
     "output_type": "stream",
     "text": [
      "C:\\Users\\ROHAN BHOSALE\\Anaconda3\\lib\\site-packages\\ipykernel_launcher.py:42: RuntimeWarning: invalid value encountered in greater\n"
     ]
    }
   ],
   "source": [
    "qda=QDAclass()\n",
    "qda.train(train5,Target_train5)\n",
    "\n",
    "#Prediction on Training Data\n",
    "QDA_Train_d1,QDA_Train_d2,QDA_Train_pred=qda.use(train5)\n",
    "\n",
    "#Prediction on Testing Data\n",
    "QDA_Test_d1,QDA_Test_d2,QDA_Test_pred=qda.use(test5)"
   ]
  },
  {
   "cell_type": "code",
   "execution_count": 163,
   "metadata": {},
   "outputs": [
    {
     "name": "stdout",
     "output_type": "stream",
     "text": [
      "Accuracy: 0.7980167381672411\n"
     ]
    }
   ],
   "source": [
    "from sklearn.metrics import precision_score, recall_score, confusion_matrix, classification_report,accuracy_score\n",
    "print('Accuracy:', accuracy_score(Target_test5,QDA_Test_pred))"
   ]
  },
  {
   "cell_type": "code",
   "execution_count": 164,
   "metadata": {},
   "outputs": [
    {
     "data": {
      "text/plain": [
       "array([[22694,     0],\n",
       "       [ 5744,     0]], dtype=int64)"
      ]
     },
     "execution_count": 164,
     "metadata": {},
     "output_type": "execute_result"
    }
   ],
   "source": [
    "cf=confusion_matrix(Target_test5, QDA_Test_pred)\n",
    "TP=cf[0][0]\n",
    "TN=cf[0][1]\n",
    "FN=cf[1][0]\n",
    "FP=cf[1][1]\n",
    "\n",
    "cf"
   ]
  },
  {
   "cell_type": "code",
   "execution_count": 165,
   "metadata": {},
   "outputs": [
    {
     "data": {
      "text/plain": [
       "1.0"
      ]
     },
     "execution_count": 165,
     "metadata": {},
     "output_type": "execute_result"
    }
   ],
   "source": [
    "precision=(TP/(TP+FP))\n",
    "precision\n"
   ]
  },
  {
   "cell_type": "code",
   "execution_count": 166,
   "metadata": {},
   "outputs": [
    {
     "data": {
      "text/plain": [
       "0.7980167381672411"
      ]
     },
     "execution_count": 166,
     "metadata": {},
     "output_type": "execute_result"
    }
   ],
   "source": [
    "recall=TP/(TP+FN)\n",
    "recall"
   ]
  },
  {
   "cell_type": "code",
   "execution_count": 167,
   "metadata": {},
   "outputs": [
    {
     "data": {
      "text/plain": [
       "[<matplotlib.lines.Line2D at 0x21cadbbf828>]"
      ]
     },
     "execution_count": 167,
     "metadata": {},
     "output_type": "execute_result"
    },
    {
     "data": {
      "image/png": "[encoded data removed]",
      "text/plain": [
       "<Figure size 432x288 with 1 Axes>"
      ]
     },
     "metadata": {
      "needs_background": "light"
     },
     "output_type": "display_data"
    }
   ],
   "source": [
    "plt.plot(QDA_Test_pred)"
   ]
  },
  {
   "cell_type": "code",
   "execution_count": 168,
   "metadata": {},
   "outputs": [
    {
     "data": {
      "text/plain": [
       "[<matplotlib.lines.Line2D at 0x21cadc1f4e0>]"
      ]
     },
     "execution_count": 168,
     "metadata": {},
     "output_type": "execute_result"
    },
    {
     "data": {
      "image/png": "[encoded data removed]",
      "text/plain": [
       "<Figure size 432x288 with 1 Axes>"
      ]
     },
     "metadata": {
      "needs_background": "light"
     },
     "output_type": "display_data"
    }
   ],
   "source": [
    "plt.plot(Target_test5,'.')"
   ]
  },
  {
   "cell_type": "markdown",
   "metadata": {},
   "source": [
    "### LDA"
   ]
  },
  {
   "cell_type": "markdown",
   "metadata": {},
   "source": [
    "Here we will be using data that we split for QDA."
   ]
  },
  {
   "cell_type": "markdown",
   "metadata": {},
   "source": [
    "### Test 1"
   ]
  },
  {
   "cell_type": "code",
   "execution_count": 169,
   "metadata": {},
   "outputs": [
    {
     "name": "stderr",
     "output_type": "stream",
     "text": [
      "C:\\Users\\ROHAN BHOSALE\\Anaconda3\\lib\\site-packages\\ipykernel_launcher.py:42: RuntimeWarning: invalid value encountered in greater\n"
     ]
    }
   ],
   "source": [
    "lda=QDAclass()\n",
    "lda.train(train1,Target_train1)\n",
    "\n",
    "#Prediction on Training Data\n",
    "LDA_Train_d1,LDA_Train_d2,LDA_Train_pred=lda.use(train1)\n",
    "\n",
    "#Prediction on Testing Data\n",
    "LDA_Test_d1,LDA_Test_d2,LDA_Test_pred=lda.use(test1)"
   ]
  },
  {
   "cell_type": "code",
   "execution_count": 170,
   "metadata": {},
   "outputs": [
    {
     "name": "stdout",
     "output_type": "stream",
     "text": [
      "Accuracy: 0.7804346297207961\n"
     ]
    }
   ],
   "source": [
    "from sklearn.metrics import precision_score, recall_score, confusion_matrix, classification_report,accuracy_score\n",
    "print('Accuracy:', accuracy_score(Target_test1,LDA_Test_pred))\n"
   ]
  },
  {
   "cell_type": "code",
   "execution_count": 171,
   "metadata": {},
   "outputs": [
    {
     "data": {
      "text/plain": [
       "array([[22194,     0],\n",
       "       [ 6244,     0]], dtype=int64)"
      ]
     },
     "execution_count": 171,
     "metadata": {},
     "output_type": "execute_result"
    }
   ],
   "source": [
    "\n",
    "cf=confusion_matrix(Target_test1, LDA_Test_pred)\n",
    "TP=cf[0][0]\n",
    "TN=cf[0][1]\n",
    "FN=cf[1][0]\n",
    "FP=cf[1][1]\n",
    "\n",
    "cf"
   ]
  },
  {
   "cell_type": "code",
   "execution_count": 172,
   "metadata": {},
   "outputs": [
    {
     "data": {
      "text/plain": [
       "1.0"
      ]
     },
     "execution_count": 172,
     "metadata": {},
     "output_type": "execute_result"
    }
   ],
   "source": [
    "precision=(TP/(TP+FP))\n",
    "precision"
   ]
  },
  {
   "cell_type": "code",
   "execution_count": 173,
   "metadata": {},
   "outputs": [
    {
     "data": {
      "text/plain": [
       "0.7804346297207961"
      ]
     },
     "execution_count": 173,
     "metadata": {},
     "output_type": "execute_result"
    }
   ],
   "source": [
    "recall=TP/(TP+FN)\n",
    "recall"
   ]
  },
  {
   "cell_type": "code",
   "execution_count": 174,
   "metadata": {},
   "outputs": [
    {
     "data": {
      "text/plain": [
       "[<matplotlib.lines.Line2D at 0x21cadc78a20>]"
      ]
     },
     "execution_count": 174,
     "metadata": {},
     "output_type": "execute_result"
    },
    {
     "data": {
      "image/png": "[encoded data removed]",
      "text/plain": [
       "<Figure size 432x288 with 1 Axes>"
      ]
     },
     "metadata": {
      "needs_background": "light"
     },
     "output_type": "display_data"
    }
   ],
   "source": [
    "plt.plot(LDA_Test_pred)"
   ]
  },
  {
   "cell_type": "code",
   "execution_count": 175,
   "metadata": {},
   "outputs": [
    {
     "data": {
      "text/plain": [
       "[<matplotlib.lines.Line2D at 0x21cadcd76d8>]"
      ]
     },
     "execution_count": 175,
     "metadata": {},
     "output_type": "execute_result"
    },
    {
     "data": {
      "image/png": "[encoded data removed]",
      "text/plain": [
       "<Figure size 432x288 with 1 Axes>"
      ]
     },
     "metadata": {
      "needs_background": "light"
     },
     "output_type": "display_data"
    }
   ],
   "source": [
    "plt.plot(Target_test1,'.')"
   ]
  },
  {
   "cell_type": "markdown",
   "metadata": {},
   "source": [
    "### Test 2"
   ]
  },
  {
   "cell_type": "code",
   "execution_count": 176,
   "metadata": {},
   "outputs": [
    {
     "name": "stderr",
     "output_type": "stream",
     "text": [
      "C:\\Users\\ROHAN BHOSALE\\Anaconda3\\lib\\site-packages\\ipykernel_launcher.py:42: RuntimeWarning: invalid value encountered in greater\n"
     ]
    }
   ],
   "source": [
    "lda=QDAclass()\n",
    "lda.train(train2,Target_train2)\n",
    "\n",
    "#Prediction on Training Data\n",
    "LDA_Train_d1,LDA_Train_d2,LDA_Train_pred=lda.use(train2)\n",
    "\n",
    "#Prediction on Testing Data\n",
    "LDA_Test_d1,LDA_Test_d2,LDA_Test_pred=lda.use(test2)"
   ]
  },
  {
   "cell_type": "code",
   "execution_count": 177,
   "metadata": {},
   "outputs": [
    {
     "name": "stdout",
     "output_type": "stream",
     "text": [
      "Accuracy: 0.7672480483859625\n"
     ]
    }
   ],
   "source": [
    "from sklearn.metrics import precision_score, recall_score, confusion_matrix, classification_report,accuracy_score\n",
    "print('Accuracy:', accuracy_score(Target_test2,LDA_Test_pred))\n"
   ]
  },
  {
   "cell_type": "code",
   "execution_count": 178,
   "metadata": {},
   "outputs": [
    {
     "data": {
      "text/plain": [
       "array([[21819,     0],\n",
       "       [ 6619,     0]], dtype=int64)"
      ]
     },
     "execution_count": 178,
     "metadata": {},
     "output_type": "execute_result"
    }
   ],
   "source": [
    "\n",
    "cf=confusion_matrix(Target_test2, LDA_Test_pred)\n",
    "TP=cf[0][0]\n",
    "TN=cf[0][1]\n",
    "FN=cf[1][0]\n",
    "FP=cf[1][1]\n",
    "\n",
    "cf"
   ]
  },
  {
   "cell_type": "code",
   "execution_count": 179,
   "metadata": {},
   "outputs": [
    {
     "data": {
      "text/plain": [
       "1.0"
      ]
     },
     "execution_count": 179,
     "metadata": {},
     "output_type": "execute_result"
    }
   ],
   "source": [
    "precision=(TP/(TP+FP))\n",
    "precision"
   ]
  },
  {
   "cell_type": "code",
   "execution_count": 180,
   "metadata": {},
   "outputs": [
    {
     "data": {
      "text/plain": [
       "0.7672480483859625"
      ]
     },
     "execution_count": 180,
     "metadata": {},
     "output_type": "execute_result"
    }
   ],
   "source": [
    "recall=TP/(TP+FN)\n",
    "recall"
   ]
  },
  {
   "cell_type": "code",
   "execution_count": 181,
   "metadata": {},
   "outputs": [
    {
     "data": {
      "text/plain": [
       "[<matplotlib.lines.Line2D at 0x21cadd35c18>]"
      ]
     },
     "execution_count": 181,
     "metadata": {},
     "output_type": "execute_result"
    },
    {
     "data": {
      "image/png": "[encoded data removed]",
      "text/plain": [
       "<Figure size 432x288 with 1 Axes>"
      ]
     },
     "metadata": {
      "needs_background": "light"
     },
     "output_type": "display_data"
    }
   ],
   "source": [
    "plt.plot(LDA_Test_pred)"
   ]
  },
  {
   "cell_type": "code",
   "execution_count": 182,
   "metadata": {},
   "outputs": [
    {
     "data": {
      "text/plain": [
       "[<matplotlib.lines.Line2D at 0x21cadd8e940>]"
      ]
     },
     "execution_count": 182,
     "metadata": {},
     "output_type": "execute_result"
    },
    {
     "data": {
      "image/png": "[encoded data removed]",
      "text/plain": [
       "<Figure size 432x288 with 1 Axes>"
      ]
     },
     "metadata": {
      "needs_background": "light"
     },
     "output_type": "display_data"
    }
   ],
   "source": [
    "plt.plot(Target_test2,'.')"
   ]
  },
  {
   "cell_type": "markdown",
   "metadata": {},
   "source": [
    "### Test 3"
   ]
  },
  {
   "cell_type": "code",
   "execution_count": 183,
   "metadata": {},
   "outputs": [
    {
     "name": "stderr",
     "output_type": "stream",
     "text": [
      "C:\\Users\\ROHAN BHOSALE\\Anaconda3\\lib\\site-packages\\ipykernel_launcher.py:42: RuntimeWarning: invalid value encountered in greater\n"
     ]
    }
   ],
   "source": [
    "lda=QDAclass()\n",
    "lda.train(train3,Target_train3)\n",
    "\n",
    "#Prediction on Training Data\n",
    "LDA_Train_d1,LDA_Train_d2,LDA_Train_pred=lda.use(train3)\n",
    "\n",
    "#Prediction on Testing Data\n",
    "LDA_Test_d1,LDA_Test_d2,LDA_Test_pred=lda.use(test3)"
   ]
  },
  {
   "cell_type": "code",
   "execution_count": 184,
   "metadata": {},
   "outputs": [
    {
     "name": "stdout",
     "output_type": "stream",
     "text": [
      "Accuracy: 0.7658766439271397\n"
     ]
    }
   ],
   "source": [
    "from sklearn.metrics import precision_score, recall_score, confusion_matrix, classification_report,accuracy_score\n",
    "print('Accuracy:', accuracy_score(Target_test3,LDA_Test_pred))\n"
   ]
  },
  {
   "cell_type": "code",
   "execution_count": 185,
   "metadata": {},
   "outputs": [
    {
     "data": {
      "text/plain": [
       "array([[21780,     0],\n",
       "       [ 6658,     0]], dtype=int64)"
      ]
     },
     "execution_count": 185,
     "metadata": {},
     "output_type": "execute_result"
    }
   ],
   "source": [
    "\n",
    "cf=confusion_matrix(Target_test3, LDA_Test_pred)\n",
    "TP=cf[0][0]\n",
    "TN=cf[0][1]\n",
    "FN=cf[1][0]\n",
    "FP=cf[1][1]\n",
    "\n",
    "cf"
   ]
  },
  {
   "cell_type": "code",
   "execution_count": 186,
   "metadata": {},
   "outputs": [
    {
     "data": {
      "text/plain": [
       "1.0"
      ]
     },
     "execution_count": 186,
     "metadata": {},
     "output_type": "execute_result"
    }
   ],
   "source": [
    "precision=(TP/(TP+FP))\n",
    "precision"
   ]
  },
  {
   "cell_type": "code",
   "execution_count": 187,
   "metadata": {},
   "outputs": [
    {
     "data": {
      "text/plain": [
       "0.7658766439271397"
      ]
     },
     "execution_count": 187,
     "metadata": {},
     "output_type": "execute_result"
    }
   ],
   "source": [
    "recall=TP/(TP+FN)\n",
    "recall"
   ]
  },
  {
   "cell_type": "code",
   "execution_count": 188,
   "metadata": {},
   "outputs": [
    {
     "data": {
      "text/plain": [
       "[<matplotlib.lines.Line2D at 0x21caddede10>]"
      ]
     },
     "execution_count": 188,
     "metadata": {},
     "output_type": "execute_result"
    },
    {
     "data": {
      "image/png": "[encoded data removed]",
      "text/plain": [
       "<Figure size 432x288 with 1 Axes>"
      ]
     },
     "metadata": {
      "needs_background": "light"
     },
     "output_type": "display_data"
    }
   ],
   "source": [
    "plt.plot(LDA_Test_pred)"
   ]
  },
  {
   "cell_type": "code",
   "execution_count": 189,
   "metadata": {},
   "outputs": [
    {
     "data": {
      "text/plain": [
       "[<matplotlib.lines.Line2D at 0x21cade48ac8>]"
      ]
     },
     "execution_count": 189,
     "metadata": {},
     "output_type": "execute_result"
    },
    {
     "data": {
      "image/png": "[encoded data removed]",
      "text/plain": [
       "<Figure size 432x288 with 1 Axes>"
      ]
     },
     "metadata": {
      "needs_background": "light"
     },
     "output_type": "display_data"
    }
   ],
   "source": [
    "plt.plot(Target_test3,'.')"
   ]
  },
  {
   "cell_type": "markdown",
   "metadata": {},
   "source": [
    "### Test 4"
   ]
  },
  {
   "cell_type": "code",
   "execution_count": 190,
   "metadata": {},
   "outputs": [
    {
     "name": "stderr",
     "output_type": "stream",
     "text": [
      "C:\\Users\\ROHAN BHOSALE\\Anaconda3\\lib\\site-packages\\ipykernel_launcher.py:42: RuntimeWarning: invalid value encountered in greater\n"
     ]
    }
   ],
   "source": [
    "lda=QDAclass()\n",
    "lda.train(train4,Target_train4)\n",
    "\n",
    "#Prediction on Training Data\n",
    "LDA_Train_d1,LDA_Train_d2,LDA_Train_pred=lda.use(train4)\n",
    "\n",
    "#Prediction on Testing Data\n",
    "LDA_Test_d1,LDA_Test_d2,LDA_Test_pred=lda.use(test4)"
   ]
  },
  {
   "cell_type": "code",
   "execution_count": 191,
   "metadata": {},
   "outputs": [
    {
     "name": "stdout",
     "output_type": "stream",
     "text": [
      "Accuracy: 0.7674941979042127\n"
     ]
    }
   ],
   "source": [
    "from sklearn.metrics import precision_score, recall_score, confusion_matrix, classification_report,accuracy_score\n",
    "print('Accuracy:', accuracy_score(Target_test4,LDA_Test_pred))\n"
   ]
  },
  {
   "cell_type": "code",
   "execution_count": 192,
   "metadata": {},
   "outputs": [
    {
     "data": {
      "text/plain": [
       "array([[21826,     0],\n",
       "       [ 6612,     0]], dtype=int64)"
      ]
     },
     "execution_count": 192,
     "metadata": {},
     "output_type": "execute_result"
    }
   ],
   "source": [
    "\n",
    "cf=confusion_matrix(Target_test4, LDA_Test_pred)\n",
    "TP=cf[0][0]\n",
    "TN=cf[0][1]\n",
    "FN=cf[1][0]\n",
    "FP=cf[1][1]\n",
    "\n",
    "cf"
   ]
  },
  {
   "cell_type": "code",
   "execution_count": 193,
   "metadata": {},
   "outputs": [
    {
     "data": {
      "text/plain": [
       "1.0"
      ]
     },
     "execution_count": 193,
     "metadata": {},
     "output_type": "execute_result"
    }
   ],
   "source": [
    "precision=(TP/(TP+FP))\n",
    "precision"
   ]
  },
  {
   "cell_type": "code",
   "execution_count": 194,
   "metadata": {},
   "outputs": [
    {
     "data": {
      "text/plain": [
       "0.7674941979042127"
      ]
     },
     "execution_count": 194,
     "metadata": {},
     "output_type": "execute_result"
    }
   ],
   "source": [
    "recall=TP/(TP+FN)\n",
    "recall"
   ]
  },
  {
   "cell_type": "code",
   "execution_count": 195,
   "metadata": {},
   "outputs": [
    {
     "data": {
      "text/plain": [
       "[<matplotlib.lines.Line2D at 0x21caee84048>]"
      ]
     },
     "execution_count": 195,
     "metadata": {},
     "output_type": "execute_result"
    },
    {
     "data": {
      "image/png": "[encoded data removed]",
      "text/plain": [
       "<Figure size 432x288 with 1 Axes>"
      ]
     },
     "metadata": {
      "needs_background": "light"
     },
     "output_type": "display_data"
    }
   ],
   "source": [
    "plt.plot(LDA_Test_pred)"
   ]
  },
  {
   "cell_type": "code",
   "execution_count": 196,
   "metadata": {},
   "outputs": [
    {
     "data": {
      "text/plain": [
       "[<matplotlib.lines.Line2D at 0x21caeed1cf8>]"
      ]
     },
     "execution_count": 196,
     "metadata": {},
     "output_type": "execute_result"
    },
    {
     "data": {
      "image/png": "[encoded data removed]",
      "text/plain": [
       "<Figure size 432x288 with 1 Axes>"
      ]
     },
     "metadata": {
      "needs_background": "light"
     },
     "output_type": "display_data"
    }
   ],
   "source": [
    "plt.plot(Target_test4,'.')"
   ]
  },
  {
   "cell_type": "markdown",
   "metadata": {},
   "source": [
    "### Test 5"
   ]
  },
  {
   "cell_type": "code",
   "execution_count": 197,
   "metadata": {},
   "outputs": [
    {
     "name": "stderr",
     "output_type": "stream",
     "text": [
      "C:\\Users\\ROHAN BHOSALE\\Anaconda3\\lib\\site-packages\\ipykernel_launcher.py:42: RuntimeWarning: invalid value encountered in greater\n"
     ]
    }
   ],
   "source": [
    "lda=QDAclass()\n",
    "lda.train(train5,Target_train5)\n",
    "\n",
    "#Prediction on Training Data\n",
    "LDA_Train_d1,LDA_Train_d2,LDA_Train_pred=lda.use(train5)\n",
    "\n",
    "#Prediction on Testing Data\n",
    "LDA_Test_d1,LDA_Test_d2,LDA_Test_pred=lda.use(test5)"
   ]
  },
  {
   "cell_type": "code",
   "execution_count": 198,
   "metadata": {},
   "outputs": [
    {
     "name": "stdout",
     "output_type": "stream",
     "text": [
      "Accuracy: 0.7980167381672411\n"
     ]
    }
   ],
   "source": [
    "from sklearn.metrics import precision_score, recall_score, confusion_matrix, classification_report,accuracy_score\n",
    "print('Accuracy:', accuracy_score(Target_test5,LDA_Test_pred))\n"
   ]
  },
  {
   "cell_type": "code",
   "execution_count": 199,
   "metadata": {},
   "outputs": [
    {
     "data": {
      "text/plain": [
       "array([[22694,     0],\n",
       "       [ 5744,     0]], dtype=int64)"
      ]
     },
     "execution_count": 199,
     "metadata": {},
     "output_type": "execute_result"
    }
   ],
   "source": [
    "\n",
    "cf=confusion_matrix(Target_test5, LDA_Test_pred)\n",
    "TP=cf[0][0]\n",
    "TN=cf[0][1]\n",
    "FN=cf[1][0]\n",
    "FP=cf[1][1]\n",
    "\n",
    "cf"
   ]
  },
  {
   "cell_type": "code",
   "execution_count": 200,
   "metadata": {},
   "outputs": [
    {
     "data": {
      "text/plain": [
       "1.0"
      ]
     },
     "execution_count": 200,
     "metadata": {},
     "output_type": "execute_result"
    }
   ],
   "source": [
    "precision=(TP/(TP+FP))\n",
    "precision"
   ]
  },
  {
   "cell_type": "code",
   "execution_count": 201,
   "metadata": {},
   "outputs": [
    {
     "data": {
      "text/plain": [
       "0.7980167381672411"
      ]
     },
     "execution_count": 201,
     "metadata": {},
     "output_type": "execute_result"
    }
   ],
   "source": [
    "recall=TP/(TP+FN)\n",
    "recall"
   ]
  },
  {
   "cell_type": "code",
   "execution_count": 202,
   "metadata": {},
   "outputs": [
    {
     "data": {
      "text/plain": [
       "[<matplotlib.lines.Line2D at 0x21caef39278>]"
      ]
     },
     "execution_count": 202,
     "metadata": {},
     "output_type": "execute_result"
    },
    {
     "data": {
      "image/png": "[encoded data removed]",
      "text/plain": [
       "<Figure size 432x288 with 1 Axes>"
      ]
     },
     "metadata": {
      "needs_background": "light"
     },
     "output_type": "display_data"
    }
   ],
   "source": [
    "plt.plot(LDA_Test_pred)"
   ]
  },
  {
   "cell_type": "code",
   "execution_count": 203,
   "metadata": {},
   "outputs": [
    {
     "data": {
      "text/plain": [
       "[<matplotlib.lines.Line2D at 0x21caef89eb8>]"
      ]
     },
     "execution_count": 203,
     "metadata": {},
     "output_type": "execute_result"
    },
    {
     "data": {
      "image/png": "[encoded data removed]",
      "text/plain": [
       "<Figure size 432x288 with 1 Axes>"
      ]
     },
     "metadata": {
      "needs_background": "light"
     },
     "output_type": "display_data"
    }
   ],
   "source": [
    "plt.plot(Target_test5,'.')"
   ]
  },
  {
   "cell_type": "markdown",
   "metadata": {},
   "source": [
    "### Logistic Regression"
   ]
  },
  {
   "cell_type": "markdown",
   "metadata": {},
   "source": [
    "### Test 1"
   ]
  },
  {
   "cell_type": "code",
   "execution_count": 204,
   "metadata": {},
   "outputs": [],
   "source": [
    "LData=Cdata.drop(['Date','Location', 'WindDir9am', 'WindDir3pm','Cloud9am','Cloud3pm','Temp9am','Temp3pm','WindGustDir','Evaporation','WindSpeed9am','WindSpeed3pm','RainToday','Sunshine','Rainfall','RainTomorrow'],axis=1)"
   ]
  },
  {
   "cell_type": "code",
   "execution_count": 205,
   "metadata": {},
   "outputs": [],
   "source": [
    "t=pd.DataFrame(Cdata.RainTomorrow)"
   ]
  },
  {
   "cell_type": "code",
   "execution_count": 206,
   "metadata": {},
   "outputs": [],
   "source": [
    "ldata1=LData.iloc[:28438]\n",
    "ldata2=LData.iloc[28438:56876]\n",
    "ldata3=LData.iloc[56876:85314]\n",
    "ldata4=LData.iloc[85314:113752]\n",
    "ldata5=LData.iloc[113752:142190]\n"
   ]
  },
  {
   "cell_type": "code",
   "execution_count": 207,
   "metadata": {},
   "outputs": [],
   "source": [
    "t1=t.iloc[0:28438,:]\n",
    "t2=t.iloc[28438:56876,:]\n",
    "t3=t.iloc[56876:85314,:]\n",
    "t4=t.iloc[85314:113752,:]\n",
    "t5=t.iloc[113752:142190,:]"
   ]
  },
  {
   "cell_type": "code",
   "execution_count": 208,
   "metadata": {},
   "outputs": [
    {
     "name": "stderr",
     "output_type": "stream",
     "text": [
      "C:\\Users\\ROHAN BHOSALE\\Anaconda3\\lib\\site-packages\\ipykernel_launcher.py:1: FutureWarning: Method .as_matrix will be removed in a future version. Use .values instead.\n",
      "  \"\"\"Entry point for launching an IPython kernel.\n",
      "C:\\Users\\ROHAN BHOSALE\\Anaconda3\\lib\\site-packages\\ipykernel_launcher.py:2: FutureWarning: Method .as_matrix will be removed in a future version. Use .values instead.\n",
      "  \n",
      "C:\\Users\\ROHAN BHOSALE\\Anaconda3\\lib\\site-packages\\ipykernel_launcher.py:4: FutureWarning: Method .as_matrix will be removed in a future version. Use .values instead.\n",
      "  after removing the cwd from sys.path.\n",
      "C:\\Users\\ROHAN BHOSALE\\Anaconda3\\lib\\site-packages\\ipykernel_launcher.py:6: FutureWarning: Method .as_matrix will be removed in a future version. Use .values instead.\n",
      "  \n",
      "C:\\Users\\ROHAN BHOSALE\\Anaconda3\\lib\\site-packages\\ipykernel_launcher.py:8: FutureWarning: Method .as_matrix will be removed in a future version. Use .values instead.\n",
      "  \n",
      "C:\\Users\\ROHAN BHOSALE\\Anaconda3\\lib\\site-packages\\ipykernel_launcher.py:9: FutureWarning: Method .as_matrix will be removed in a future version. Use .values instead.\n",
      "  if __name__ == '__main__':\n",
      "C:\\Users\\ROHAN BHOSALE\\Anaconda3\\lib\\site-packages\\ipykernel_launcher.py:11: FutureWarning: Method .as_matrix will be removed in a future version. Use .values instead.\n",
      "  # This is added back by InteractiveShellApp.init_path()\n",
      "C:\\Users\\ROHAN BHOSALE\\Anaconda3\\lib\\site-packages\\ipykernel_launcher.py:13: FutureWarning: Method .as_matrix will be removed in a future version. Use .values instead.\n",
      "  del sys.path[0]\n",
      "C:\\Users\\ROHAN BHOSALE\\Anaconda3\\lib\\site-packages\\ipykernel_launcher.py:15: FutureWarning: Method .as_matrix will be removed in a future version. Use .values instead.\n",
      "  from ipykernel import kernelapp as app\n",
      "C:\\Users\\ROHAN BHOSALE\\Anaconda3\\lib\\site-packages\\ipykernel_launcher.py:16: FutureWarning: Method .as_matrix will be removed in a future version. Use .values instead.\n",
      "  app.launch_new_instance()\n",
      "C:\\Users\\ROHAN BHOSALE\\Anaconda3\\lib\\site-packages\\ipykernel_launcher.py:18: FutureWarning: Method .as_matrix will be removed in a future version. Use .values instead.\n",
      "C:\\Users\\ROHAN BHOSALE\\Anaconda3\\lib\\site-packages\\ipykernel_launcher.py:20: FutureWarning: Method .as_matrix will be removed in a future version. Use .values instead.\n",
      "C:\\Users\\ROHAN BHOSALE\\Anaconda3\\lib\\site-packages\\ipykernel_launcher.py:22: FutureWarning: Method .as_matrix will be removed in a future version. Use .values instead.\n",
      "C:\\Users\\ROHAN BHOSALE\\Anaconda3\\lib\\site-packages\\ipykernel_launcher.py:23: FutureWarning: Method .as_matrix will be removed in a future version. Use .values instead.\n",
      "C:\\Users\\ROHAN BHOSALE\\Anaconda3\\lib\\site-packages\\ipykernel_launcher.py:25: FutureWarning: Method .as_matrix will be removed in a future version. Use .values instead.\n",
      "C:\\Users\\ROHAN BHOSALE\\Anaconda3\\lib\\site-packages\\ipykernel_launcher.py:27: FutureWarning: Method .as_matrix will be removed in a future version. Use .values instead.\n",
      "C:\\Users\\ROHAN BHOSALE\\Anaconda3\\lib\\site-packages\\ipykernel_launcher.py:29: FutureWarning: Method .as_matrix will be removed in a future version. Use .values instead.\n",
      "C:\\Users\\ROHAN BHOSALE\\Anaconda3\\lib\\site-packages\\ipykernel_launcher.py:30: FutureWarning: Method .as_matrix will be removed in a future version. Use .values instead.\n",
      "C:\\Users\\ROHAN BHOSALE\\Anaconda3\\lib\\site-packages\\ipykernel_launcher.py:32: FutureWarning: Method .as_matrix will be removed in a future version. Use .values instead.\n",
      "C:\\Users\\ROHAN BHOSALE\\Anaconda3\\lib\\site-packages\\ipykernel_launcher.py:34: FutureWarning: Method .as_matrix will be removed in a future version. Use .values instead.\n"
     ]
    }
   ],
   "source": [
    "test1=ldata1.as_matrix()\n",
    "Target_test1=t1.as_matrix()\n",
    "train1=pd.concat([ldata2,ldata3,ldata4,ldata5])\n",
    "train1=train1.as_matrix()\n",
    "Target_train1=pd.concat([t2,t3,t4,t5])\n",
    "Target_train1=Target_train1.as_matrix()\n",
    "\n",
    "test2=ldata2.as_matrix()\n",
    "Target_test2=t2.as_matrix()\n",
    "train2=pd.concat([ldata1,ldata3,ldata4,ldata5])\n",
    "train2=train2.as_matrix()\n",
    "Target_train2=pd.concat([t1,t3,t4,t5])\n",
    "Target_train2=Target_train2.as_matrix()\n",
    "\n",
    "test3=ldata3.as_matrix()\n",
    "Target_test3=t3.as_matrix()\n",
    "train3=pd.concat([ldata1,ldata2,ldata4,ldata5])\n",
    "train3=train3.as_matrix()\n",
    "Target_train3=pd.concat([t1,t2,t4,t5])\n",
    "Target_train3=Target_train3.as_matrix()\n",
    "\n",
    "test4=ldata4.as_matrix()\n",
    "Target_test4=t4.as_matrix()\n",
    "train4=pd.concat([ldata1,ldata2,ldata3,ldata5])\n",
    "train4=train4.as_matrix()\n",
    "Target_train4=pd.concat([t1,t2,t3,t5])\n",
    "Target_train4=Target_train4.as_matrix()\n",
    "\n",
    "test5=ldata5.as_matrix()\n",
    "Target_test5=t5.as_matrix()\n",
    "train5=pd.concat([ldata1,ldata2,ldata3,ldata4])\n",
    "train5=train5.as_matrix()\n",
    "Target_train5=pd.concat([t1,t2,t3,t4])\n",
    "Target_train5=Target_train5.as_matrix()"
   ]
  },
  {
   "cell_type": "code",
   "execution_count": 209,
   "metadata": {},
   "outputs": [],
   "source": [
    "lr=LogisticRegression(0.00001)\n",
    "lr.train(train1,Target_train1)\n",
    "\n",
    "#Prediction on Training Data\n",
    "y1=lr.use(train1)\n",
    "\n",
    "\n",
    "#Prediction on Testing Data\n",
    "y2=lr.use(test1)"
   ]
  },
  {
   "cell_type": "code",
   "execution_count": 210,
   "metadata": {},
   "outputs": [],
   "source": [
    "y2 = np.argmax(y2, 1)\n",
    "y_test=np.array(Target_test1)"
   ]
  },
  {
   "cell_type": "code",
   "execution_count": 211,
   "metadata": {},
   "outputs": [
    {
     "name": "stdout",
     "output_type": "stream",
     "text": [
      "Accuracy: 0.807933047331036\n",
      "F1 score: 0.2226017648733277\n"
     ]
    }
   ],
   "source": [
    "from sklearn.metrics import precision_score, recall_score, confusion_matrix, classification_report,accuracy_score, f1_score\n",
    "print('Accuracy:', accuracy_score(y_test,y2))\n",
    "print('F1 score:', f1_score(y_test,y2))"
   ]
  },
  {
   "cell_type": "code",
   "execution_count": 212,
   "metadata": {},
   "outputs": [
    {
     "data": {
      "text/plain": [
       "array([[22194,     0],\n",
       "       [ 5462,   782]], dtype=int64)"
      ]
     },
     "execution_count": 212,
     "metadata": {},
     "output_type": "execute_result"
    }
   ],
   "source": [
    "cf=confusion_matrix(y_test, y2)\n",
    "TP=cf[0][0]\n",
    "TN=cf[0][1]\n",
    "FN=cf[1][0]\n",
    "FP=cf[1][1]\n",
    "\n",
    "cf"
   ]
  },
  {
   "cell_type": "code",
   "execution_count": 213,
   "metadata": {},
   "outputs": [
    {
     "data": {
      "text/plain": [
       "0.9659644846796658"
      ]
     },
     "execution_count": 213,
     "metadata": {},
     "output_type": "execute_result"
    }
   ],
   "source": [
    "precision=(TP/(TP+FP))\n",
    "precision"
   ]
  },
  {
   "cell_type": "code",
   "execution_count": 214,
   "metadata": {},
   "outputs": [
    {
     "data": {
      "text/plain": [
       "0.8025021695111368"
      ]
     },
     "execution_count": 214,
     "metadata": {},
     "output_type": "execute_result"
    }
   ],
   "source": [
    "recall=TP/(TP+FN)\n",
    "recall"
   ]
  },
  {
   "cell_type": "code",
   "execution_count": 215,
   "metadata": {},
   "outputs": [
    {
     "data": {
      "text/plain": [
       "[<matplotlib.lines.Line2D at 0x21cb09ee908>]"
      ]
     },
     "execution_count": 215,
     "metadata": {},
     "output_type": "execute_result"
    },
    {
     "data": {
      "image/png": "[encoded data removed]",
      "text/plain": [
       "<Figure size 432x288 with 1 Axes>"
      ]
     },
     "metadata": {
      "needs_background": "light"
     },
     "output_type": "display_data"
    }
   ],
   "source": [
    "plt.plot(y2,'.')"
   ]
  },
  {
   "cell_type": "code",
   "execution_count": 216,
   "metadata": {},
   "outputs": [
    {
     "data": {
      "text/plain": [
       "[<matplotlib.lines.Line2D at 0x21cab5b5b70>]"
      ]
     },
     "execution_count": 216,
     "metadata": {},
     "output_type": "execute_result"
    },
    {
     "data": {
      "image/png": "[encoded data removed]",
      "text/plain": [
       "<Figure size 432x288 with 1 Axes>"
      ]
     },
     "metadata": {
      "needs_background": "light"
     },
     "output_type": "display_data"
    }
   ],
   "source": [
    "plt.plot(y_test,'.')"
   ]
  },
  {
   "cell_type": "markdown",
   "metadata": {},
   "source": [
    "### Test 2"
   ]
  },
  {
   "cell_type": "code",
   "execution_count": 217,
   "metadata": {},
   "outputs": [],
   "source": [
    "lr=LogisticRegression(0.00001)\n",
    "lr.train(train2,Target_train2)\n",
    "\n",
    "#Prediction on Training Data\n",
    "y1=lr.use(train2)\n",
    "\n",
    "\n",
    "#Prediction on Testing Data\n",
    "y2=lr.use(test2)"
   ]
  },
  {
   "cell_type": "code",
   "execution_count": 218,
   "metadata": {},
   "outputs": [],
   "source": [
    "y2 = np.argmax(y2, 1)\n",
    "y_test=np.array(Target_test2)"
   ]
  },
  {
   "cell_type": "code",
   "execution_count": 219,
   "metadata": {},
   "outputs": [
    {
     "name": "stdout",
     "output_type": "stream",
     "text": [
      "Accuracy: 0.7968211547928827\n",
      "F1 score: 0.22546916890080426\n"
     ]
    }
   ],
   "source": [
    "from sklearn.metrics import precision_score, recall_score, confusion_matrix, classification_report,accuracy_score, f1_score\n",
    "print('Accuracy:', accuracy_score(y_test,y2))\n",
    "print('F1 score:', f1_score(y_test,y2))"
   ]
  },
  {
   "cell_type": "code",
   "execution_count": 220,
   "metadata": {},
   "outputs": [
    {
     "data": {
      "text/plain": [
       "array([[21819,     0],\n",
       "       [ 5778,   841]], dtype=int64)"
      ]
     },
     "execution_count": 220,
     "metadata": {},
     "output_type": "execute_result"
    }
   ],
   "source": [
    "cf=confusion_matrix(y_test, y2)\n",
    "TP=cf[0][0]\n",
    "TN=cf[0][1]\n",
    "FN=cf[1][0]\n",
    "FP=cf[1][1]\n",
    "\n",
    "cf"
   ]
  },
  {
   "cell_type": "code",
   "execution_count": 221,
   "metadata": {},
   "outputs": [
    {
     "data": {
      "text/plain": [
       "0.9628861429832304"
      ]
     },
     "execution_count": 221,
     "metadata": {},
     "output_type": "execute_result"
    }
   ],
   "source": [
    "precision=(TP/(TP+FP))\n",
    "precision"
   ]
  },
  {
   "cell_type": "code",
   "execution_count": 222,
   "metadata": {},
   "outputs": [
    {
     "data": {
      "text/plain": [
       "0.7906294162408958"
      ]
     },
     "execution_count": 222,
     "metadata": {},
     "output_type": "execute_result"
    }
   ],
   "source": [
    "recall=TP/(TP+FN)\n",
    "recall"
   ]
  },
  {
   "cell_type": "code",
   "execution_count": 223,
   "metadata": {},
   "outputs": [
    {
     "data": {
      "text/plain": [
       "[<matplotlib.lines.Line2D at 0x21cab61e128>]"
      ]
     },
     "execution_count": 223,
     "metadata": {},
     "output_type": "execute_result"
    },
    {
     "data": {
      "image/png": "[encoded data removed]",
      "text/plain": [
       "<Figure size 432x288 with 1 Axes>"
      ]
     },
     "metadata": {
      "needs_background": "light"
     },
     "output_type": "display_data"
    }
   ],
   "source": [
    "plt.plot(y2,'.')"
   ]
  },
  {
   "cell_type": "code",
   "execution_count": 224,
   "metadata": {},
   "outputs": [
    {
     "data": {
      "text/plain": [
       "[<matplotlib.lines.Line2D at 0x21cabd97358>]"
      ]
     },
     "execution_count": 224,
     "metadata": {},
     "output_type": "execute_result"
    },
    {
     "data": {
      "image/png": "[encoded data removed]",
      "text/plain": [
       "<Figure size 432x288 with 1 Axes>"
      ]
     },
     "metadata": {
      "needs_background": "light"
     },
     "output_type": "display_data"
    }
   ],
   "source": [
    "plt.plot(y_test,'.')"
   ]
  },
  {
   "cell_type": "markdown",
   "metadata": {},
   "source": [
    "### Test 3"
   ]
  },
  {
   "cell_type": "code",
   "execution_count": 225,
   "metadata": {},
   "outputs": [],
   "source": [
    "lr=LogisticRegression(0.00001)\n",
    "lr.train(train3,Target_train3)\n",
    "\n",
    "#Prediction on Training Data\n",
    "y1=lr.use(train3)\n",
    "\n",
    "\n",
    "#Prediction on Testing Data\n",
    "y2=lr.use(test3)"
   ]
  },
  {
   "cell_type": "code",
   "execution_count": 226,
   "metadata": {},
   "outputs": [],
   "source": [
    "y2 = np.argmax(y2, 1)\n",
    "y_test=np.array(Target_test3)"
   ]
  },
  {
   "cell_type": "code",
   "execution_count": 227,
   "metadata": {},
   "outputs": [
    {
     "name": "stdout",
     "output_type": "stream",
     "text": [
      "Accuracy: 0.7872916520149096\n",
      "F1 score: 0.1676069905050227\n"
     ]
    }
   ],
   "source": [
    "from sklearn.metrics import precision_score, recall_score, confusion_matrix, classification_report,accuracy_score, f1_score\n",
    "print('Accuracy:', accuracy_score(y_test,y2))\n",
    "print('F1 score:', f1_score(y_test,y2))"
   ]
  },
  {
   "cell_type": "code",
   "execution_count": 228,
   "metadata": {},
   "outputs": [
    {
     "data": {
      "text/plain": [
       "array([[21780,     0],\n",
       "       [ 6049,   609]], dtype=int64)"
      ]
     },
     "execution_count": 228,
     "metadata": {},
     "output_type": "execute_result"
    }
   ],
   "source": [
    "cf=confusion_matrix(y_test, y2)\n",
    "TP=cf[0][0]\n",
    "TN=cf[0][1]\n",
    "FN=cf[1][0]\n",
    "FP=cf[1][1]\n",
    "\n",
    "cf"
   ]
  },
  {
   "cell_type": "code",
   "execution_count": 229,
   "metadata": {},
   "outputs": [
    {
     "data": {
      "text/plain": [
       "0.9727991424360177"
      ]
     },
     "execution_count": 229,
     "metadata": {},
     "output_type": "execute_result"
    }
   ],
   "source": [
    "precision=(TP/(TP+FP))\n",
    "precision"
   ]
  },
  {
   "cell_type": "code",
   "execution_count": 230,
   "metadata": {},
   "outputs": [
    {
     "data": {
      "text/plain": [
       "0.7826368177081462"
      ]
     },
     "execution_count": 230,
     "metadata": {},
     "output_type": "execute_result"
    }
   ],
   "source": [
    "recall=TP/(TP+FN)\n",
    "recall"
   ]
  },
  {
   "cell_type": "code",
   "execution_count": 231,
   "metadata": {},
   "outputs": [
    {
     "data": {
      "text/plain": [
       "[<matplotlib.lines.Line2D at 0x21cabdf4828>]"
      ]
     },
     "execution_count": 231,
     "metadata": {},
     "output_type": "execute_result"
    },
    {
     "data": {
      "image/png": "[encoded data removed]",
      "text/plain": [
       "<Figure size 432x288 with 1 Axes>"
      ]
     },
     "metadata": {
      "needs_background": "light"
     },
     "output_type": "display_data"
    }
   ],
   "source": [
    "plt.plot(y2,'.')"
   ]
  },
  {
   "cell_type": "code",
   "execution_count": 232,
   "metadata": {},
   "outputs": [
    {
     "data": {
      "text/plain": [
       "[<matplotlib.lines.Line2D at 0x21cabe4fb00>]"
      ]
     },
     "execution_count": 232,
     "metadata": {},
     "output_type": "execute_result"
    },
    {
     "data": {
      "image/png": "[encoded data removed]",
      "text/plain": [
       "<Figure size 432x288 with 1 Axes>"
      ]
     },
     "metadata": {
      "needs_background": "light"
     },
     "output_type": "display_data"
    }
   ],
   "source": [
    "plt.plot(y_test,'.')"
   ]
  },
  {
   "cell_type": "markdown",
   "metadata": {},
   "source": [
    "### Test 4"
   ]
  },
  {
   "cell_type": "code",
   "execution_count": 233,
   "metadata": {},
   "outputs": [],
   "source": [
    "lr=LogisticRegression(0.00001)\n",
    "lr.train(train4,Target_train4)\n",
    "\n",
    "#Prediction on Training Data\n",
    "y1=lr.use(train4)\n",
    "\n",
    "\n",
    "#Prediction on Testing Data\n",
    "y2=lr.use(test4)"
   ]
  },
  {
   "cell_type": "code",
   "execution_count": 234,
   "metadata": {},
   "outputs": [],
   "source": [
    "y2 = np.argmax(y2, 1)\n",
    "y_test=np.array(Target_test4)"
   ]
  },
  {
   "cell_type": "code",
   "execution_count": 235,
   "metadata": {},
   "outputs": [
    {
     "name": "stdout",
     "output_type": "stream",
     "text": [
      "Accuracy: 0.7892608481609115\n",
      "F1 score: 0.17120730189462038\n"
     ]
    }
   ],
   "source": [
    "from sklearn.metrics import precision_score, recall_score, confusion_matrix, classification_report,accuracy_score, f1_score\n",
    "print('Accuracy:', accuracy_score(y_test,y2))\n",
    "print('F1 score:', f1_score(y_test,y2))"
   ]
  },
  {
   "cell_type": "code",
   "execution_count": 236,
   "metadata": {},
   "outputs": [
    {
     "data": {
      "text/plain": [
       "array([[21826,     0],\n",
       "       [ 5993,   619]], dtype=int64)"
      ]
     },
     "execution_count": 236,
     "metadata": {},
     "output_type": "execute_result"
    }
   ],
   "source": [
    "cf=confusion_matrix(y_test, y2)\n",
    "TP=cf[0][0]\n",
    "TN=cf[0][1]\n",
    "FN=cf[1][0]\n",
    "FP=cf[1][1]\n",
    "\n",
    "cf"
   ]
  },
  {
   "cell_type": "code",
   "execution_count": 237,
   "metadata": {},
   "outputs": [
    {
     "data": {
      "text/plain": [
       "0.9724214747159724"
      ]
     },
     "execution_count": 237,
     "metadata": {},
     "output_type": "execute_result"
    }
   ],
   "source": [
    "precision=(TP/(TP+FP))\n",
    "precision"
   ]
  },
  {
   "cell_type": "code",
   "execution_count": 238,
   "metadata": {},
   "outputs": [
    {
     "data": {
      "text/plain": [
       "0.7845716956037241"
      ]
     },
     "execution_count": 238,
     "metadata": {},
     "output_type": "execute_result"
    }
   ],
   "source": [
    "recall=TP/(TP+FN)\n",
    "recall"
   ]
  },
  {
   "cell_type": "code",
   "execution_count": 239,
   "metadata": {},
   "outputs": [
    {
     "data": {
      "text/plain": [
       "[<matplotlib.lines.Line2D at 0x21cabeacfd0>]"
      ]
     },
     "execution_count": 239,
     "metadata": {},
     "output_type": "execute_result"
    },
    {
     "data": {
      "image/png": "[encoded data removed]",
      "text/plain": [
       "<Figure size 432x288 with 1 Axes>"
      ]
     },
     "metadata": {
      "needs_background": "light"
     },
     "output_type": "display_data"
    }
   ],
   "source": [
    "plt.plot(y2,'.')"
   ]
  },
  {
   "cell_type": "code",
   "execution_count": 240,
   "metadata": {},
   "outputs": [
    {
     "data": {
      "text/plain": [
       "[<matplotlib.lines.Line2D at 0x21cabf162e8>]"
      ]
     },
     "execution_count": 240,
     "metadata": {},
     "output_type": "execute_result"
    },
    {
     "data": {
      "image/png": "[encoded data removed]",
      "text/plain": [
       "<Figure size 432x288 with 1 Axes>"
      ]
     },
     "metadata": {
      "needs_background": "light"
     },
     "output_type": "display_data"
    }
   ],
   "source": [
    "plt.plot(y_test,'.')"
   ]
  },
  {
   "cell_type": "markdown",
   "metadata": {},
   "source": [
    "### Test data 5"
   ]
  },
  {
   "cell_type": "code",
   "execution_count": 241,
   "metadata": {},
   "outputs": [],
   "source": [
    "lr=LogisticRegression(0.00001)\n",
    "lr.train(train5,Target_train5)\n",
    "\n",
    "#Prediction on Training Data\n",
    "y1=lr.use(train5)\n",
    "\n",
    "\n",
    "#Prediction on Testing Data\n",
    "y2=lr.use(test5)"
   ]
  },
  {
   "cell_type": "code",
   "execution_count": 242,
   "metadata": {},
   "outputs": [],
   "source": [
    "y2 = np.argmax(y2, 1)\n",
    "y_test=np.array(Target_test5)"
   ]
  },
  {
   "cell_type": "code",
   "execution_count": 243,
   "metadata": {},
   "outputs": [
    {
     "name": "stdout",
     "output_type": "stream",
     "text": [
      "Accuracy: 0.8237569449328364\n",
      "F1 score: 0.22606547251389744\n"
     ]
    }
   ],
   "source": [
    "from sklearn.metrics import precision_score, recall_score, confusion_matrix, classification_report,accuracy_score, f1_score\n",
    "print('Accuracy:', accuracy_score(y_test,y2))\n",
    "print('F1 score:', f1_score(y_test,y2))"
   ]
  },
  {
   "cell_type": "code",
   "execution_count": 244,
   "metadata": {},
   "outputs": [
    {
     "data": {
      "text/plain": [
       "array([[22694,     0],\n",
       "       [ 5012,   732]], dtype=int64)"
      ]
     },
     "execution_count": 244,
     "metadata": {},
     "output_type": "execute_result"
    }
   ],
   "source": [
    "cf=confusion_matrix(y_test, y2)\n",
    "TP=cf[0][0]\n",
    "TN=cf[0][1]\n",
    "FN=cf[1][0]\n",
    "FP=cf[1][1]\n",
    "\n",
    "cf"
   ]
  },
  {
   "cell_type": "code",
   "execution_count": 245,
   "metadata": {},
   "outputs": [
    {
     "data": {
      "text/plain": [
       "0.9687526679757534"
      ]
     },
     "execution_count": 245,
     "metadata": {},
     "output_type": "execute_result"
    }
   ],
   "source": [
    "precision=(TP/(TP+FP))\n",
    "precision"
   ]
  },
  {
   "cell_type": "code",
   "execution_count": 246,
   "metadata": {},
   "outputs": [
    {
     "data": {
      "text/plain": [
       "0.8191005558362809"
      ]
     },
     "execution_count": 246,
     "metadata": {},
     "output_type": "execute_result"
    }
   ],
   "source": [
    "recall=TP/(TP+FN)\n",
    "recall"
   ]
  },
  {
   "cell_type": "code",
   "execution_count": 247,
   "metadata": {},
   "outputs": [
    {
     "data": {
      "text/plain": [
       "[<matplotlib.lines.Line2D at 0x21cabf727f0>]"
      ]
     },
     "execution_count": 247,
     "metadata": {},
     "output_type": "execute_result"
    },
    {
     "data": {
      "image/png": "[encoded data removed]",
      "text/plain": [
       "<Figure size 432x288 with 1 Axes>"
      ]
     },
     "metadata": {
      "needs_background": "light"
     },
     "output_type": "display_data"
    }
   ],
   "source": [
    "plt.plot(y2,'.')"
   ]
  },
  {
   "cell_type": "code",
   "execution_count": 248,
   "metadata": {},
   "outputs": [
    {
     "data": {
      "text/plain": [
       "[<matplotlib.lines.Line2D at 0x21cabfd1a90>]"
      ]
     },
     "execution_count": 248,
     "metadata": {},
     "output_type": "execute_result"
    },
    {
     "data": {
      "image/png": "[encoded data removed]",
      "text/plain": [
       "<Figure size 432x288 with 1 Axes>"
      ]
     },
     "metadata": {
      "needs_background": "light"
     },
     "output_type": "display_data"
    }
   ],
   "source": [
    "plt.plot(y_test,'.')"
   ]
  },
  {
   "cell_type": "markdown",
   "metadata": {},
   "source": [
    "### Observation:\n",
    "From above all test cases on all the algorithms we implemented above, we can see that Linear Regression algorithm works best for my dataset. Also we observe that we get significantly good accuracy on few train cases, which shows that partitioning data in 5 parts helped us to find a better training data which in returned helped us to train our model and get good prediction values.  "
   ]
  },
  {
   "cell_type": "code",
   "execution_count": null,
   "metadata": {},
   "outputs": [],
   "source": []
  }
 ],
 "metadata": {
  "kernelspec": {
   "display_name": "Python 3",
   "language": "python",
   "name": "python3"
  },
  "language_info": {
   "codemirror_mode": {
    "name": "ipython",
    "version": 3
   },
   "file_extension": ".py",
   "mimetype": "text/x-python",
   "name": "python",
   "nbconvert_exporter": "python",
   "pygments_lexer": "ipython3",
   "version": "3.7.3"
  }
 },
 "nbformat": 4,
 "nbformat_minor": 2
}
